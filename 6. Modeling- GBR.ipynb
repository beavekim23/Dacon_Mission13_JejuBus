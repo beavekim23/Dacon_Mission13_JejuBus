{
 "cells": [
  {
   "cell_type": "markdown",
   "metadata": {},
   "source": [
    "# GradientBoostingRegressor를 선택  \n",
    "- 팀원들과 함께 들었던 인터넷 강의에서 배운 알고리즘 Ridge, Lasso, RandomForest, GradientBoostingModel에 대해 자세히 공부해보기로 결정하여 각각 하나씩 맡아 간단한 전처리만 마친 동일한 데이터셋을 활용하여 제출했으나 GBM의 성적이 가장 높아 선택!"
   ]
  },
  {
   "cell_type": "markdown",
   "metadata": {},
   "source": [
    "# 방향\n",
    "- 전체 지역을 두고 최적화 했을 때보다 지역별로 모델을 나누어 최적화 했을 때 점수가 더 높았기 때문에 제주, 서귀포, 고산, 성산으로 지역을 나누어 모델링 하였음"
   ]
  },
  {
   "cell_type": "code",
   "execution_count": 1,
   "metadata": {},
   "outputs": [],
   "source": [
    "import pandas as pd\n",
    "import numpy as np\n",
    "import matplotlib.pyplot as plt\n",
    "import random\n",
    "from sklearn.model_selection import GridSearchCV\n",
    "from sklearn.ensemble import GradientBoostingRegressor\n",
    "import warnings\n",
    "warnings.filterwarnings('ignore')"
   ]
  },
  {
   "cell_type": "code",
   "execution_count": 2,
   "metadata": {},
   "outputs": [],
   "source": [
    "train = pd.read_csv(\"train_new3.csv\")\n",
    "test = pd.read_csv(\"test_new3.csv\")"
   ]
  },
  {
   "cell_type": "code",
   "execution_count": 3,
   "metadata": {},
   "outputs": [
    {
     "data": {
      "text/html": [
       "<div>\n",
       "<style scoped>\n",
       "    .dataframe tbody tr th:only-of-type {\n",
       "        vertical-align: middle;\n",
       "    }\n",
       "\n",
       "    .dataframe tbody tr th {\n",
       "        vertical-align: top;\n",
       "    }\n",
       "\n",
       "    .dataframe thead th {\n",
       "        text-align: right;\n",
       "    }\n",
       "</style>\n",
       "<table border=\"1\" class=\"dataframe\">\n",
       "  <thead>\n",
       "    <tr style=\"text-align: right;\">\n",
       "      <th></th>\n",
       "      <th>id</th>\n",
       "      <th>date</th>\n",
       "      <th>bus_route_id</th>\n",
       "      <th>in_out</th>\n",
       "      <th>station_code</th>\n",
       "      <th>station_name</th>\n",
       "      <th>latitude</th>\n",
       "      <th>longitude</th>\n",
       "      <th>6~7_ride</th>\n",
       "      <th>7~8_ride</th>\n",
       "      <th>...</th>\n",
       "      <th>user6_geton_count</th>\n",
       "      <th>user6_getoff_count</th>\n",
       "      <th>user27_geton_count</th>\n",
       "      <th>user27_getoff_count</th>\n",
       "      <th>user28_geton_count</th>\n",
       "      <th>user28_getoff_count</th>\n",
       "      <th>user29_geton_count</th>\n",
       "      <th>user29_getoff_count</th>\n",
       "      <th>user30_geton_count</th>\n",
       "      <th>user30_getoff_count</th>\n",
       "    </tr>\n",
       "  </thead>\n",
       "  <tbody>\n",
       "    <tr>\n",
       "      <th>0</th>\n",
       "      <td>0</td>\n",
       "      <td>2019-09-01</td>\n",
       "      <td>4270000</td>\n",
       "      <td>1</td>\n",
       "      <td>344</td>\n",
       "      <td>제주썬호텔</td>\n",
       "      <td>33.48990</td>\n",
       "      <td>126.49373</td>\n",
       "      <td>0.0</td>\n",
       "      <td>1.0</td>\n",
       "      <td>...</td>\n",
       "      <td>0</td>\n",
       "      <td>0</td>\n",
       "      <td>0</td>\n",
       "      <td>0</td>\n",
       "      <td>0</td>\n",
       "      <td>0</td>\n",
       "      <td>0</td>\n",
       "      <td>0</td>\n",
       "      <td>0</td>\n",
       "      <td>0</td>\n",
       "    </tr>\n",
       "    <tr>\n",
       "      <th>1</th>\n",
       "      <td>1</td>\n",
       "      <td>2019-09-01</td>\n",
       "      <td>4270000</td>\n",
       "      <td>1</td>\n",
       "      <td>357</td>\n",
       "      <td>한라병원</td>\n",
       "      <td>33.48944</td>\n",
       "      <td>126.48508</td>\n",
       "      <td>1.0</td>\n",
       "      <td>4.0</td>\n",
       "      <td>...</td>\n",
       "      <td>0</td>\n",
       "      <td>0</td>\n",
       "      <td>0</td>\n",
       "      <td>0</td>\n",
       "      <td>0</td>\n",
       "      <td>0</td>\n",
       "      <td>0</td>\n",
       "      <td>0</td>\n",
       "      <td>0</td>\n",
       "      <td>0</td>\n",
       "    </tr>\n",
       "    <tr>\n",
       "      <th>2</th>\n",
       "      <td>2</td>\n",
       "      <td>2019-09-01</td>\n",
       "      <td>4270000</td>\n",
       "      <td>1</td>\n",
       "      <td>432</td>\n",
       "      <td>정존마을</td>\n",
       "      <td>33.48181</td>\n",
       "      <td>126.47352</td>\n",
       "      <td>1.0</td>\n",
       "      <td>1.0</td>\n",
       "      <td>...</td>\n",
       "      <td>0</td>\n",
       "      <td>0</td>\n",
       "      <td>0</td>\n",
       "      <td>0</td>\n",
       "      <td>0</td>\n",
       "      <td>0</td>\n",
       "      <td>0</td>\n",
       "      <td>0</td>\n",
       "      <td>0</td>\n",
       "      <td>0</td>\n",
       "    </tr>\n",
       "    <tr>\n",
       "      <th>3</th>\n",
       "      <td>3</td>\n",
       "      <td>2019-09-01</td>\n",
       "      <td>4270000</td>\n",
       "      <td>0</td>\n",
       "      <td>1579</td>\n",
       "      <td>제주국제공항(600번)</td>\n",
       "      <td>33.50577</td>\n",
       "      <td>126.49252</td>\n",
       "      <td>0.0</td>\n",
       "      <td>17.0</td>\n",
       "      <td>...</td>\n",
       "      <td>0</td>\n",
       "      <td>0</td>\n",
       "      <td>0</td>\n",
       "      <td>0</td>\n",
       "      <td>0</td>\n",
       "      <td>0</td>\n",
       "      <td>0</td>\n",
       "      <td>0</td>\n",
       "      <td>0</td>\n",
       "      <td>0</td>\n",
       "    </tr>\n",
       "    <tr>\n",
       "      <th>4</th>\n",
       "      <td>4</td>\n",
       "      <td>2019-09-01</td>\n",
       "      <td>4270000</td>\n",
       "      <td>0</td>\n",
       "      <td>1646</td>\n",
       "      <td>중문관광단지입구</td>\n",
       "      <td>33.25579</td>\n",
       "      <td>126.41260</td>\n",
       "      <td>0.0</td>\n",
       "      <td>0.0</td>\n",
       "      <td>...</td>\n",
       "      <td>0</td>\n",
       "      <td>0</td>\n",
       "      <td>0</td>\n",
       "      <td>0</td>\n",
       "      <td>0</td>\n",
       "      <td>0</td>\n",
       "      <td>0</td>\n",
       "      <td>0</td>\n",
       "      <td>0</td>\n",
       "      <td>0</td>\n",
       "    </tr>\n",
       "  </tbody>\n",
       "</table>\n",
       "<p>5 rows × 55 columns</p>\n",
       "</div>"
      ],
      "text/plain": [
       "   id        date  bus_route_id  in_out  station_code  station_name  latitude  \\\n",
       "0   0  2019-09-01       4270000       1           344         제주썬호텔  33.48990   \n",
       "1   1  2019-09-01       4270000       1           357          한라병원  33.48944   \n",
       "2   2  2019-09-01       4270000       1           432          정존마을  33.48181   \n",
       "3   3  2019-09-01       4270000       0          1579  제주국제공항(600번)  33.50577   \n",
       "4   4  2019-09-01       4270000       0          1646      중문관광단지입구  33.25579   \n",
       "\n",
       "   longitude  6~7_ride  7~8_ride  ...  user6_geton_count  user6_getoff_count  \\\n",
       "0  126.49373       0.0       1.0  ...                  0                   0   \n",
       "1  126.48508       1.0       4.0  ...                  0                   0   \n",
       "2  126.47352       1.0       1.0  ...                  0                   0   \n",
       "3  126.49252       0.0      17.0  ...                  0                   0   \n",
       "4  126.41260       0.0       0.0  ...                  0                   0   \n",
       "\n",
       "   user27_geton_count  user27_getoff_count  user28_geton_count  \\\n",
       "0                   0                    0                   0   \n",
       "1                   0                    0                   0   \n",
       "2                   0                    0                   0   \n",
       "3                   0                    0                   0   \n",
       "4                   0                    0                   0   \n",
       "\n",
       "   user28_getoff_count  user29_geton_count  user29_getoff_count  \\\n",
       "0                    0                   0                    0   \n",
       "1                    0                   0                    0   \n",
       "2                    0                   0                    0   \n",
       "3                    0                   0                    0   \n",
       "4                    0                   0                    0   \n",
       "\n",
       "   user30_geton_count  user30_getoff_count  \n",
       "0                   0                    0  \n",
       "1                   0                    0  \n",
       "2                   0                    0  \n",
       "3                   0                    0  \n",
       "4                   0                    0  \n",
       "\n",
       "[5 rows x 55 columns]"
      ]
     },
     "execution_count": 3,
     "metadata": {},
     "output_type": "execute_result"
    }
   ],
   "source": [
    "train.head()"
   ]
  },
  {
   "cell_type": "code",
   "execution_count": 4,
   "metadata": {},
   "outputs": [
    {
     "data": {
      "text/html": [
       "<div>\n",
       "<style scoped>\n",
       "    .dataframe tbody tr th:only-of-type {\n",
       "        vertical-align: middle;\n",
       "    }\n",
       "\n",
       "    .dataframe tbody tr th {\n",
       "        vertical-align: top;\n",
       "    }\n",
       "\n",
       "    .dataframe thead th {\n",
       "        text-align: right;\n",
       "    }\n",
       "</style>\n",
       "<table border=\"1\" class=\"dataframe\">\n",
       "  <thead>\n",
       "    <tr style=\"text-align: right;\">\n",
       "      <th></th>\n",
       "      <th>id</th>\n",
       "      <th>date</th>\n",
       "      <th>bus_route_id</th>\n",
       "      <th>in_out</th>\n",
       "      <th>station_code</th>\n",
       "      <th>station_name</th>\n",
       "      <th>latitude</th>\n",
       "      <th>longitude</th>\n",
       "      <th>6~7_ride</th>\n",
       "      <th>7~8_ride</th>\n",
       "      <th>...</th>\n",
       "      <th>user6_geton_count</th>\n",
       "      <th>user6_getoff_count</th>\n",
       "      <th>user27_geton_count</th>\n",
       "      <th>user27_getoff_count</th>\n",
       "      <th>user28_geton_count</th>\n",
       "      <th>user28_getoff_count</th>\n",
       "      <th>user29_geton_count</th>\n",
       "      <th>user29_getoff_count</th>\n",
       "      <th>user30_geton_count</th>\n",
       "      <th>user30_getoff_count</th>\n",
       "    </tr>\n",
       "  </thead>\n",
       "  <tbody>\n",
       "    <tr>\n",
       "      <th>0</th>\n",
       "      <td>415423</td>\n",
       "      <td>2019-09-01</td>\n",
       "      <td>4270000</td>\n",
       "      <td>1</td>\n",
       "      <td>344</td>\n",
       "      <td>제주썬호텔</td>\n",
       "      <td>33.48990</td>\n",
       "      <td>126.49373</td>\n",
       "      <td>4.0</td>\n",
       "      <td>4.0</td>\n",
       "      <td>...</td>\n",
       "      <td>0</td>\n",
       "      <td>0</td>\n",
       "      <td>0</td>\n",
       "      <td>0</td>\n",
       "      <td>0</td>\n",
       "      <td>0</td>\n",
       "      <td>0</td>\n",
       "      <td>0</td>\n",
       "      <td>0</td>\n",
       "      <td>0</td>\n",
       "    </tr>\n",
       "    <tr>\n",
       "      <th>1</th>\n",
       "      <td>415424</td>\n",
       "      <td>2019-09-01</td>\n",
       "      <td>4270000</td>\n",
       "      <td>1</td>\n",
       "      <td>357</td>\n",
       "      <td>한라병원</td>\n",
       "      <td>33.48944</td>\n",
       "      <td>126.48508</td>\n",
       "      <td>1.0</td>\n",
       "      <td>6.0</td>\n",
       "      <td>...</td>\n",
       "      <td>0</td>\n",
       "      <td>0</td>\n",
       "      <td>0</td>\n",
       "      <td>0</td>\n",
       "      <td>0</td>\n",
       "      <td>0</td>\n",
       "      <td>0</td>\n",
       "      <td>0</td>\n",
       "      <td>0</td>\n",
       "      <td>0</td>\n",
       "    </tr>\n",
       "    <tr>\n",
       "      <th>2</th>\n",
       "      <td>415425</td>\n",
       "      <td>2019-09-01</td>\n",
       "      <td>4270000</td>\n",
       "      <td>1</td>\n",
       "      <td>432</td>\n",
       "      <td>정존마을</td>\n",
       "      <td>33.48181</td>\n",
       "      <td>126.47352</td>\n",
       "      <td>2.0</td>\n",
       "      <td>4.0</td>\n",
       "      <td>...</td>\n",
       "      <td>0</td>\n",
       "      <td>0</td>\n",
       "      <td>0</td>\n",
       "      <td>0</td>\n",
       "      <td>0</td>\n",
       "      <td>0</td>\n",
       "      <td>0</td>\n",
       "      <td>0</td>\n",
       "      <td>0</td>\n",
       "      <td>0</td>\n",
       "    </tr>\n",
       "    <tr>\n",
       "      <th>3</th>\n",
       "      <td>415426</td>\n",
       "      <td>2019-09-01</td>\n",
       "      <td>4270000</td>\n",
       "      <td>0</td>\n",
       "      <td>1579</td>\n",
       "      <td>제주국제공항(600번)</td>\n",
       "      <td>33.50577</td>\n",
       "      <td>126.49252</td>\n",
       "      <td>1.0</td>\n",
       "      <td>11.0</td>\n",
       "      <td>...</td>\n",
       "      <td>0</td>\n",
       "      <td>0</td>\n",
       "      <td>0</td>\n",
       "      <td>0</td>\n",
       "      <td>0</td>\n",
       "      <td>0</td>\n",
       "      <td>0</td>\n",
       "      <td>0</td>\n",
       "      <td>0</td>\n",
       "      <td>0</td>\n",
       "    </tr>\n",
       "    <tr>\n",
       "      <th>4</th>\n",
       "      <td>415427</td>\n",
       "      <td>2019-09-01</td>\n",
       "      <td>4270000</td>\n",
       "      <td>0</td>\n",
       "      <td>1636</td>\n",
       "      <td>롯데호텔</td>\n",
       "      <td>33.24872</td>\n",
       "      <td>126.41032</td>\n",
       "      <td>0.0</td>\n",
       "      <td>0.0</td>\n",
       "      <td>...</td>\n",
       "      <td>0</td>\n",
       "      <td>0</td>\n",
       "      <td>0</td>\n",
       "      <td>0</td>\n",
       "      <td>0</td>\n",
       "      <td>0</td>\n",
       "      <td>0</td>\n",
       "      <td>0</td>\n",
       "      <td>0</td>\n",
       "      <td>0</td>\n",
       "    </tr>\n",
       "  </tbody>\n",
       "</table>\n",
       "<p>5 rows × 54 columns</p>\n",
       "</div>"
      ],
      "text/plain": [
       "       id        date  bus_route_id  in_out  station_code  station_name  \\\n",
       "0  415423  2019-09-01       4270000       1           344         제주썬호텔   \n",
       "1  415424  2019-09-01       4270000       1           357          한라병원   \n",
       "2  415425  2019-09-01       4270000       1           432          정존마을   \n",
       "3  415426  2019-09-01       4270000       0          1579  제주국제공항(600번)   \n",
       "4  415427  2019-09-01       4270000       0          1636          롯데호텔   \n",
       "\n",
       "   latitude  longitude  6~7_ride  7~8_ride  ...  user6_geton_count  \\\n",
       "0  33.48990  126.49373       4.0       4.0  ...                  0   \n",
       "1  33.48944  126.48508       1.0       6.0  ...                  0   \n",
       "2  33.48181  126.47352       2.0       4.0  ...                  0   \n",
       "3  33.50577  126.49252       1.0      11.0  ...                  0   \n",
       "4  33.24872  126.41032       0.0       0.0  ...                  0   \n",
       "\n",
       "   user6_getoff_count  user27_geton_count  user27_getoff_count  \\\n",
       "0                   0                   0                    0   \n",
       "1                   0                   0                    0   \n",
       "2                   0                   0                    0   \n",
       "3                   0                   0                    0   \n",
       "4                   0                   0                    0   \n",
       "\n",
       "   user28_geton_count  user28_getoff_count  user29_geton_count  \\\n",
       "0                   0                    0                   0   \n",
       "1                   0                    0                   0   \n",
       "2                   0                    0                   0   \n",
       "3                   0                    0                   0   \n",
       "4                   0                    0                   0   \n",
       "\n",
       "   user29_getoff_count  user30_geton_count  user30_getoff_count  \n",
       "0                    0                   0                    0  \n",
       "1                    0                   0                    0  \n",
       "2                    0                   0                    0  \n",
       "3                    0                   0                    0  \n",
       "4                    0                   0                    0  \n",
       "\n",
       "[5 rows x 54 columns]"
      ]
     },
     "execution_count": 4,
     "metadata": {},
     "output_type": "execute_result"
    }
   ],
   "source": [
    "test.head()"
   ]
  },
  {
   "cell_type": "code",
   "execution_count": 5,
   "metadata": {},
   "outputs": [
    {
     "data": {
      "text/plain": [
       "((415423, 55), (228170, 54))"
      ]
     },
     "execution_count": 5,
     "metadata": {},
     "output_type": "execute_result"
    }
   ],
   "source": [
    "train.shape, test.shape"
   ]
  },
  {
   "cell_type": "markdown",
   "metadata": {},
   "source": [
    "# RMSE 구현하기  \n",
    "- 대회의 Evaluation 방식이 RMSE  \n",
    "- 이 수치가 높다고 해서 파라미터가 좋다고 확신할 수는 없지만 Feature를 고르는 데에 도움이 된다"
   ]
  },
  {
   "cell_type": "code",
   "execution_count": 6,
   "metadata": {},
   "outputs": [],
   "source": [
    "def rmse(predicted_values, actual_values):\n",
    "    score = np.sqrt(((predicted_values - actual_values)**2).mean())\n",
    "    return score"
   ]
  },
  {
   "cell_type": "markdown",
   "metadata": {},
   "source": [
    "# 1. Jeju  "
   ]
  },
  {
   "cell_type": "code",
   "execution_count": 7,
   "metadata": {},
   "outputs": [
    {
     "data": {
      "text/plain": [
       "((250509, 55), (136784, 54))"
      ]
     },
     "execution_count": 7,
     "metadata": {},
     "output_type": "execute_result"
    }
   ],
   "source": [
    "train_jeju = train.loc[train['location_name'] == 'jeju']\n",
    "test_jeju = test.loc[test['location_name'] == 'jeju']\n",
    "\n",
    "train_jeju.shape, test_jeju.shape"
   ]
  },
  {
   "cell_type": "code",
   "execution_count": 8,
   "metadata": {},
   "outputs": [
    {
     "data": {
      "text/plain": [
       "((250509, 38), (250509,), (136784, 38))"
      ]
     },
     "execution_count": 8,
     "metadata": {},
     "output_type": "execute_result"
    }
   ],
   "source": [
    "input_var = [\n",
    "       'in_out', 'bus_route_id', 'station_code', \n",
    "       'latitude', 'longitude', 'weekday', \n",
    "       'bus_route_type', 'holiday', 'temperature', 'rain',\n",
    "       'windspeed', 'humidity', 'num_business_2017', 'num_employee_2017',\n",
    "       'population_2018', 'day', 'am_ride', 'am_takeoff', 'user1_geton_count',\n",
    "       'user1_getoff_count', 'user2_geton_count', 'user2_getoff_count',\n",
    "       'user4_geton_count', 'user4_getoff_count', 'user6_geton_count',\n",
    "       'user6_getoff_count', 'user27_geton_count', 'user27_getoff_count',\n",
    "       'user28_geton_count', 'user28_getoff_count', 'user29_geton_count',\n",
    "       'user29_getoff_count', 'user30_geton_count', 'user30_getoff_count',\n",
    "       'dis_jeju', 'dis_gosan', 'dis_seongsan', 'dis_seoguipo'\n",
    "]\n",
    "\n",
    "target='18~20_ride'\n",
    "\n",
    "X_train = train_jeju[input_var]\n",
    "y_train = train_jeju[target]\n",
    "X_test=test_jeju[input_var]\n",
    "\n",
    "X_train.shape, y_train.shape, X_test.shape"
   ]
  },
  {
   "cell_type": "markdown",
   "metadata": {},
   "source": [
    "## 1.1. 최적의 파라미터 구하기\n",
    "- random sampling을 이용함  "
   ]
  },
  {
   "cell_type": "code",
   "execution_count": 9,
   "metadata": {},
   "outputs": [
    {
     "data": {
      "text/plain": [
       "((2505, 38), (2505,))"
      ]
     },
     "execution_count": 9,
     "metadata": {},
     "output_type": "execute_result"
    }
   ],
   "source": [
    "random.seed(43)\n",
    "train_list = random.sample(list(range(X_train.shape[0])), int(round(X_train.shape[0]*0.01,0)))\n",
    "\n",
    "X_train_sample = X_train.iloc[train_list]\n",
    "y_train_sample = y_train.iloc[train_list]\n",
    "\n",
    "X_train_sample.shape, y_train_sample.shape"
   ]
  },
  {
   "cell_type": "code",
   "execution_count": 11,
   "metadata": {},
   "outputs": [
    {
     "data": {
      "text/plain": [
       "{'max_depth': 5,\n",
       " 'max_features': 'sqrt',\n",
       " 'min_samples_leaf': 2,\n",
       " 'min_samples_split': 6,\n",
       " 'subsample': 0.85}"
      ]
     },
     "execution_count": 11,
     "metadata": {},
     "output_type": "execute_result"
    }
   ],
   "source": [
    "param_grid = {\n",
    "    'max_features': ['sqrt',10, 14],\n",
    "    'min_samples_leaf': [2,3],\n",
    "    'min_samples_split': [2,4,6],\n",
    "    'max_depth': [5,6,7,8],\n",
    "    'subsample': [0.75,0.8,0.85]\n",
    "}\n",
    "\n",
    "# Create a baseline model\n",
    "gbm = GradientBoostingRegressor(learning_rate=0.1, n_estimators=200, random_state=43)\n",
    "\n",
    "# Instantiate the grid search model\n",
    "grid_search = GridSearchCV(estimator = gbm, param_grid = param_grid, cv=5)\n",
    "grid_search.fit(X_train_sample, y_train_sample)\n",
    "\n",
    "grid_search.best_params_ "
   ]
  },
  {
   "cell_type": "markdown",
   "metadata": {},
   "source": [
    "#### Scale을 높여서 다시 GridSearch"
   ]
  },
  {
   "cell_type": "code",
   "execution_count": 15,
   "metadata": {},
   "outputs": [
    {
     "data": {
      "text/plain": [
       "((50102, 38), (50102,))"
      ]
     },
     "execution_count": 15,
     "metadata": {},
     "output_type": "execute_result"
    }
   ],
   "source": [
    "random.seed(43)\n",
    "train_list = random.sample(list(range(X_train.shape[0])), int(round(X_train.shape[0]*0.2,0)))\n",
    "\n",
    "X_train_sample = X_train.iloc[train_list]\n",
    "y_train_sample = y_train.iloc[train_list]\n",
    "\n",
    "X_train_sample.shape, y_train_sample.shape"
   ]
  },
  {
   "cell_type": "code",
   "execution_count": 16,
   "metadata": {},
   "outputs": [
    {
     "data": {
      "text/plain": [
       "{'max_depth': 8, 'subsample': 0.9}"
      ]
     },
     "execution_count": 16,
     "metadata": {},
     "output_type": "execute_result"
    }
   ],
   "source": [
    "param_grid = {\n",
    "    'max_depth': [5,6,7,8],\n",
    "    'subsample': [0.8,0.85,0.9]\n",
    "}\n",
    "\n",
    "# Create a baseline model\n",
    "gbm = GradientBoostingRegressor(learning_rate=0.1, n_estimators=200, max_features='sqrt',\n",
    "                                min_samples_leaf= 2, min_samples_split= 6, random_state=43)\n",
    "\n",
    "# Instantiate the grid search model\n",
    "grid_search = GridSearchCV(estimator = gbm, param_grid = param_grid, cv=5)\n",
    "grid_search.fit(X_train_sample, y_train_sample)\n",
    "\n",
    "grid_search.best_params_ "
   ]
  },
  {
   "cell_type": "markdown",
   "metadata": {},
   "source": [
    "## 1.2. 불필요한 Feature 제거하기  \n",
    "- 전체 Feature를 넣고 제출했을 때보다 RMSE 결과가 개선된 방향으로 feature를 빼줬더니 점수가 올랐기 때문에 불필요한 것은 제거해주기로 함"
   ]
  },
  {
   "cell_type": "markdown",
   "metadata": {},
   "source": [
    "#### Baseline"
   ]
  },
  {
   "cell_type": "code",
   "execution_count": 17,
   "metadata": {},
   "outputs": [
    {
     "data": {
      "text/plain": [
       "((250509, 38), (250509,), (136784, 38))"
      ]
     },
     "execution_count": 17,
     "metadata": {},
     "output_type": "execute_result"
    }
   ],
   "source": [
    "input_var = [\n",
    "       'in_out', 'bus_route_id', 'station_code', \n",
    "       'latitude', 'longitude', 'weekday', \n",
    "       'bus_route_type', 'holiday', 'temperature', 'rain',\n",
    "       'windspeed', 'humidity', 'num_business_2017', 'num_employee_2017',\n",
    "       'population_2018', 'day', 'am_ride', 'am_takeoff', 'user1_geton_count',\n",
    "       'user1_getoff_count', 'user2_geton_count', 'user2_getoff_count',\n",
    "       'user4_geton_count', 'user4_getoff_count', 'user6_geton_count',\n",
    "       'user6_getoff_count', 'user27_geton_count', 'user27_getoff_count',\n",
    "       'user28_geton_count', 'user28_getoff_count', 'user29_geton_count',\n",
    "       'user29_getoff_count', 'user30_geton_count', 'user30_getoff_count',\n",
    "       'dis_jeju', 'dis_gosan', 'dis_seongsan', 'dis_seoguipo'\n",
    "]\n",
    "\n",
    "target='18~20_ride'\n",
    "\n",
    "X_train = train_jeju[input_var]\n",
    "y_train = train_jeju[target]\n",
    "X_test=test_jeju[input_var]\n",
    "\n",
    "X_train.shape, y_train.shape, X_test.shape"
   ]
  },
  {
   "cell_type": "code",
   "execution_count": 18,
   "metadata": {},
   "outputs": [
    {
     "name": "stdout",
     "output_type": "stream",
     "text": [
      "Score:  2.155101659654403\n"
     ]
    },
    {
     "data": {
      "text/plain": [
       "Text(0, 0.5, 'Feature Importance Score')"
      ]
     },
     "execution_count": 18,
     "metadata": {},
     "output_type": "execute_result"
    },
    {
     "data": {
      "image/png": "[encoded data removed]",
      "text/plain": [
       "<Figure size 432x288 with 1 Axes>"
      ]
     },
     "metadata": {
      "needs_background": "light"
     },
     "output_type": "display_data"
    }
   ],
   "source": [
    "gbm0 = GradientBoostingRegressor(learning_rate=0.1, n_estimators=200, max_depth= 8, max_features= 'sqrt',\n",
    "                                 min_samples_leaf= 2, min_samples_split= 6, subsample= 0.9, random_state=43)\n",
    "\n",
    "gbm0.fit(X_train, y_train)\n",
    "preds = gbm0.predict(X_train)\n",
    "score = rmse(y_train,preds)\n",
    "print (\"Score: \", score)\n",
    "\n",
    "feat_imp = pd.Series(gbm0.feature_importances_, input_var).sort_values(ascending=False)\n",
    "feat_imp.plot(kind='bar', title='Feature Importances')\n",
    "plt.ylabel('Feature Importance Score')"
   ]
  },
  {
   "cell_type": "markdown",
   "metadata": {},
   "source": [
    "#### user30_getoff_count 빼기"
   ]
  },
  {
   "cell_type": "code",
   "execution_count": 19,
   "metadata": {},
   "outputs": [
    {
     "data": {
      "text/plain": [
       "((250509, 37), (250509,), (136784, 37))"
      ]
     },
     "execution_count": 19,
     "metadata": {},
     "output_type": "execute_result"
    }
   ],
   "source": [
    "input_var = [\n",
    "       'in_out', 'bus_route_id', 'station_code', \n",
    "       'latitude', 'longitude', 'weekday', \n",
    "       'bus_route_type', 'holiday', 'temperature', 'rain',\n",
    "       'windspeed', 'humidity', 'num_business_2017', 'num_employee_2017',\n",
    "       'population_2018', 'day', 'am_ride', 'am_takeoff', 'user1_geton_count',\n",
    "       'user1_getoff_count', 'user2_geton_count', 'user2_getoff_count',\n",
    "       'user4_geton_count', 'user4_getoff_count', 'user6_geton_count',\n",
    "       'user6_getoff_count', 'user27_geton_count', 'user27_getoff_count',\n",
    "       'user28_geton_count', 'user28_getoff_count', 'user29_geton_count',\n",
    "       'user29_getoff_count', 'user30_geton_count', \n",
    "       'dis_jeju', 'dis_gosan', 'dis_seongsan', 'dis_seoguipo'\n",
    "]\n",
    "\n",
    "target='18~20_ride'\n",
    "\n",
    "X_train = train_jeju[input_var]\n",
    "y_train = train_jeju[target]\n",
    "X_test=test_jeju[input_var]\n",
    "\n",
    "X_train.shape, y_train.shape, X_test.shape"
   ]
  },
  {
   "cell_type": "code",
   "execution_count": 20,
   "metadata": {},
   "outputs": [
    {
     "name": "stdout",
     "output_type": "stream",
     "text": [
      "Score:  2.14759061293648\n"
     ]
    },
    {
     "data": {
      "text/plain": [
       "Text(0, 0.5, 'Feature Importance Score')"
      ]
     },
     "execution_count": 20,
     "metadata": {},
     "output_type": "execute_result"
    },
    {
     "data": {
      "image/png": "[encoded data removed]",
      "text/plain": [
       "<Figure size 432x288 with 1 Axes>"
      ]
     },
     "metadata": {
      "needs_background": "light"
     },
     "output_type": "display_data"
    }
   ],
   "source": [
    "gbm0 = GradientBoostingRegressor(learning_rate=0.1, n_estimators=200, max_depth= 8, max_features= 'sqrt',\n",
    "                                 min_samples_leaf= 2, min_samples_split= 6, subsample= 0.9, random_state=43)\n",
    "\n",
    "gbm0.fit(X_train, y_train)\n",
    "preds = gbm0.predict(X_train)\n",
    "score = rmse(y_train,preds)\n",
    "print (\"Score: \", score)\n",
    "\n",
    "feat_imp = pd.Series(gbm0.feature_importances_, input_var).sort_values(ascending=False)\n",
    "feat_imp.plot(kind='bar', title='Feature Importances')\n",
    "plt.ylabel('Feature Importance Score')"
   ]
  },
  {
   "cell_type": "markdown",
   "metadata": {},
   "source": [
    "#### user30_getoff_count, user30_geton_count 빼주기"
   ]
  },
  {
   "cell_type": "code",
   "execution_count": 21,
   "metadata": {},
   "outputs": [
    {
     "data": {
      "text/plain": [
       "((250509, 36), (250509,), (136784, 36))"
      ]
     },
     "execution_count": 21,
     "metadata": {},
     "output_type": "execute_result"
    }
   ],
   "source": [
    "input_var = [\n",
    "       'in_out', 'bus_route_id', 'station_code', \n",
    "       'latitude', 'longitude', 'weekday', \n",
    "       'bus_route_type', 'holiday', 'temperature', 'rain',\n",
    "       'windspeed', 'humidity', 'num_business_2017', 'num_employee_2017',\n",
    "       'population_2018', 'day', 'am_ride', 'am_takeoff', 'user1_geton_count',\n",
    "       'user1_getoff_count', 'user2_geton_count', 'user2_getoff_count',\n",
    "       'user4_geton_count', 'user4_getoff_count', 'user6_geton_count',\n",
    "       'user6_getoff_count', 'user27_geton_count', 'user27_getoff_count',\n",
    "       'user28_geton_count', 'user28_getoff_count', 'user29_geton_count',\n",
    "       'user29_getoff_count', \n",
    "       'dis_jeju', 'dis_gosan', 'dis_seongsan', 'dis_seoguipo'\n",
    "]\n",
    "\n",
    "target='18~20_ride'\n",
    "\n",
    "X_train = train_jeju[input_var]\n",
    "y_train = train_jeju[target]\n",
    "X_test=test_jeju[input_var]\n",
    "\n",
    "X_train.shape, y_train.shape, X_test.shape"
   ]
  },
  {
   "cell_type": "code",
   "execution_count": 22,
   "metadata": {},
   "outputs": [
    {
     "name": "stdout",
     "output_type": "stream",
     "text": [
      "Score:  2.157603686184056\n"
     ]
    },
    {
     "data": {
      "text/plain": [
       "Text(0, 0.5, 'Feature Importance Score')"
      ]
     },
     "execution_count": 22,
     "metadata": {},
     "output_type": "execute_result"
    },
    {
     "data": {
      "image/png": "[encoded data removed]",
      "text/plain": [
       "<Figure size 432x288 with 1 Axes>"
      ]
     },
     "metadata": {
      "needs_background": "light"
     },
     "output_type": "display_data"
    }
   ],
   "source": [
    "gbm0 = GradientBoostingRegressor(learning_rate=0.1, n_estimators=200, max_depth= 8, max_features= 'sqrt',\n",
    "                                 min_samples_leaf= 2, min_samples_split= 6, subsample= 0.9, random_state=43)\n",
    "\n",
    "gbm0.fit(X_train, y_train)\n",
    "preds = gbm0.predict(X_train)\n",
    "score = rmse(y_train,preds)\n",
    "print (\"Score: \", score)\n",
    "\n",
    "feat_imp = pd.Series(gbm0.feature_importances_, input_var).sort_values(ascending=False)\n",
    "feat_imp.plot(kind='bar', title='Feature Importances')\n",
    "plt.ylabel('Feature Importance Score')"
   ]
  },
  {
   "cell_type": "markdown",
   "metadata": {},
   "source": [
    "- user30_getoff_count만 빼주기로 한다"
   ]
  },
  {
   "cell_type": "markdown",
   "metadata": {},
   "source": [
    "## 1.3 최적의 결과 test_jeju에 적용"
   ]
  },
  {
   "cell_type": "code",
   "execution_count": 23,
   "metadata": {},
   "outputs": [
    {
     "data": {
      "text/plain": [
       "((250509, 37), (250509,), (136784, 37))"
      ]
     },
     "execution_count": 23,
     "metadata": {},
     "output_type": "execute_result"
    }
   ],
   "source": [
    "input_var = [\n",
    "       'in_out', 'bus_route_id', 'station_code', \n",
    "       'latitude', 'longitude', 'weekday', \n",
    "       'bus_route_type', 'holiday', 'temperature', 'rain',\n",
    "       'windspeed', 'humidity', 'num_business_2017', 'num_employee_2017',\n",
    "       'population_2018', 'day', 'am_ride', 'am_takeoff', 'user1_geton_count',\n",
    "       'user1_getoff_count', 'user2_geton_count', 'user2_getoff_count',\n",
    "       'user4_geton_count', 'user4_getoff_count', 'user6_geton_count',\n",
    "       'user6_getoff_count', 'user27_geton_count', 'user27_getoff_count',\n",
    "       'user28_geton_count', 'user28_getoff_count', 'user29_geton_count',\n",
    "       'user29_getoff_count', 'user30_geton_count', \n",
    "       'dis_jeju', 'dis_gosan', 'dis_seongsan', 'dis_seoguipo'\n",
    "]\n",
    "\n",
    "target='18~20_ride'\n",
    "\n",
    "X_train = train_jeju[input_var]\n",
    "y_train = train_jeju[target]\n",
    "X_test=test_jeju[input_var]\n",
    "\n",
    "X_train.shape, y_train.shape, X_test.shape"
   ]
  },
  {
   "cell_type": "code",
   "execution_count": 24,
   "metadata": {},
   "outputs": [
    {
     "name": "stdout",
     "output_type": "stream",
     "text": [
      "Score:  2.14759061293648\n"
     ]
    },
    {
     "data": {
      "text/plain": [
       "Text(0, 0.5, 'Feature Importance Score')"
      ]
     },
     "execution_count": 24,
     "metadata": {},
     "output_type": "execute_result"
    },
    {
     "data": {
      "image/png": "[encoded data removed]",
      "text/plain": [
       "<Figure size 432x288 with 1 Axes>"
      ]
     },
     "metadata": {
      "needs_background": "light"
     },
     "output_type": "display_data"
    }
   ],
   "source": [
    "gbm0 = GradientBoostingRegressor(learning_rate=0.1, n_estimators=200, max_depth= 8, max_features= 'sqrt',\n",
    "                                 min_samples_leaf= 2, min_samples_split= 6, subsample= 0.9, random_state=43)\n",
    "\n",
    "gbm0.fit(X_train, y_train)\n",
    "preds = gbm0.predict(X_train)\n",
    "score = rmse(y_train,preds)\n",
    "print (\"Score: \", score)\n",
    "\n",
    "feat_imp = pd.Series(gbm0.feature_importances_, input_var).sort_values(ascending=False)\n",
    "feat_imp.plot(kind='bar', title='Feature Importances')\n",
    "plt.ylabel('Feature Importance Score')"
   ]
  },
  {
   "cell_type": "code",
   "execution_count": 25,
   "metadata": {},
   "outputs": [
    {
     "data": {
      "text/html": [
       "<div>\n",
       "<style scoped>\n",
       "    .dataframe tbody tr th:only-of-type {\n",
       "        vertical-align: middle;\n",
       "    }\n",
       "\n",
       "    .dataframe tbody tr th {\n",
       "        vertical-align: top;\n",
       "    }\n",
       "\n",
       "    .dataframe thead th {\n",
       "        text-align: right;\n",
       "    }\n",
       "</style>\n",
       "<table border=\"1\" class=\"dataframe\">\n",
       "  <thead>\n",
       "    <tr style=\"text-align: right;\">\n",
       "      <th></th>\n",
       "      <th>id</th>\n",
       "      <th>18~20_ride</th>\n",
       "    </tr>\n",
       "  </thead>\n",
       "  <tbody>\n",
       "    <tr>\n",
       "      <th>0</th>\n",
       "      <td>415423</td>\n",
       "      <td>1.634272</td>\n",
       "    </tr>\n",
       "    <tr>\n",
       "      <th>1</th>\n",
       "      <td>415424</td>\n",
       "      <td>4.181670</td>\n",
       "    </tr>\n",
       "    <tr>\n",
       "      <th>2</th>\n",
       "      <td>415425</td>\n",
       "      <td>0.908170</td>\n",
       "    </tr>\n",
       "    <tr>\n",
       "      <th>3</th>\n",
       "      <td>415426</td>\n",
       "      <td>18.861597</td>\n",
       "    </tr>\n",
       "    <tr>\n",
       "      <th>26</th>\n",
       "      <td>415449</td>\n",
       "      <td>0.194678</td>\n",
       "    </tr>\n",
       "  </tbody>\n",
       "</table>\n",
       "</div>"
      ],
      "text/plain": [
       "        id  18~20_ride\n",
       "0   415423    1.634272\n",
       "1   415424    4.181670\n",
       "2   415425    0.908170\n",
       "3   415426   18.861597\n",
       "26  415449    0.194678"
      ]
     },
     "execution_count": 25,
     "metadata": {},
     "output_type": "execute_result"
    }
   ],
   "source": [
    "test_jeju['18~20_ride'] = gbm0.predict(X_test)\n",
    "test_jeju = test_jeju[['id', '18~20_ride']]\n",
    "test_jeju.head()"
   ]
  },
  {
   "cell_type": "code",
   "execution_count": 26,
   "metadata": {},
   "outputs": [
    {
     "data": {
      "text/plain": [
       "(136784, 2)"
      ]
     },
     "execution_count": 26,
     "metadata": {},
     "output_type": "execute_result"
    }
   ],
   "source": [
    "test_jeju.shape"
   ]
  },
  {
   "cell_type": "markdown",
   "metadata": {},
   "source": [
    "# 2. Seoguipo"
   ]
  },
  {
   "cell_type": "code",
   "execution_count": 27,
   "metadata": {},
   "outputs": [
    {
     "data": {
      "text/plain": [
       "((91237, 55), (50632, 54))"
      ]
     },
     "execution_count": 27,
     "metadata": {},
     "output_type": "execute_result"
    }
   ],
   "source": [
    "train_seoguipo = train.loc[train['location_name'] == 'seoguipo']\n",
    "test_seoguipo = test.loc[test['location_name'] == 'seoguipo']\n",
    "\n",
    "train_seoguipo.shape, test_seoguipo.shape"
   ]
  },
  {
   "cell_type": "code",
   "execution_count": 28,
   "metadata": {},
   "outputs": [
    {
     "data": {
      "text/plain": [
       "((91237, 38), (91237,), (50632, 38))"
      ]
     },
     "execution_count": 28,
     "metadata": {},
     "output_type": "execute_result"
    }
   ],
   "source": [
    "input_var = [\n",
    "       'in_out', 'bus_route_id', 'station_code', \n",
    "       'latitude', 'longitude', 'weekday', \n",
    "       'bus_route_type', 'holiday', 'temperature', 'rain',\n",
    "       'windspeed', 'humidity', 'num_business_2017', 'num_employee_2017',\n",
    "       'population_2018', 'day', 'am_ride', 'am_takeoff', 'user1_geton_count',\n",
    "       'user1_getoff_count', 'user2_geton_count', 'user2_getoff_count',\n",
    "       'user4_geton_count', 'user4_getoff_count', 'user6_geton_count',\n",
    "       'user6_getoff_count', 'user27_geton_count', 'user27_getoff_count',\n",
    "       'user28_geton_count', 'user28_getoff_count', 'user29_geton_count',\n",
    "       'user29_getoff_count', 'user30_geton_count', 'user30_getoff_count',\n",
    "       'dis_jeju', 'dis_gosan', 'dis_seongsan', 'dis_seoguipo'\n",
    "]\n",
    "\n",
    "target='18~20_ride'\n",
    "\n",
    "X_train = train_seoguipo[input_var]\n",
    "y_train = train_seoguipo[target]\n",
    "X_test=test_seoguipo[input_var]\n",
    "\n",
    "X_train.shape, y_train.shape, X_test.shape"
   ]
  },
  {
   "cell_type": "markdown",
   "metadata": {},
   "source": [
    "## 2.1. 최적의 파라미터 구하기"
   ]
  },
  {
   "cell_type": "code",
   "execution_count": 29,
   "metadata": {},
   "outputs": [
    {
     "data": {
      "text/plain": [
       "((912, 38), (912,))"
      ]
     },
     "execution_count": 29,
     "metadata": {},
     "output_type": "execute_result"
    }
   ],
   "source": [
    "random.seed(43)\n",
    "train_list = random.sample(list(range(X_train.shape[0])), int(round(X_train.shape[0]*0.01,0)))\n",
    "\n",
    "X_train_sample = X_train.iloc[train_list]\n",
    "y_train_sample = y_train.iloc[train_list]\n",
    "\n",
    "X_train_sample.shape, y_train_sample.shape"
   ]
  },
  {
   "cell_type": "code",
   "execution_count": 30,
   "metadata": {},
   "outputs": [
    {
     "data": {
      "text/plain": [
       "{'max_depth': 8,\n",
       " 'max_features': 14,\n",
       " 'min_samples_leaf': 2,\n",
       " 'min_samples_split': 2,\n",
       " 'subsample': 0.85}"
      ]
     },
     "execution_count": 30,
     "metadata": {},
     "output_type": "execute_result"
    }
   ],
   "source": [
    "param_grid = {\n",
    "    'max_features': ['sqrt',10, 14],\n",
    "    'min_samples_leaf': [2,3],\n",
    "    'min_samples_split': [2,4,6],\n",
    "    'max_depth': [5,6,7,8],\n",
    "    'subsample': [0.75,0.8,0.85]\n",
    "}\n",
    "\n",
    "# Create a baseline model\n",
    "gbm = GradientBoostingRegressor(learning_rate=0.1, n_estimators=200, random_state=43)\n",
    "\n",
    "# Instantiate the grid search model\n",
    "grid_search = GridSearchCV(estimator = gbm, param_grid = param_grid, cv=5)\n",
    "grid_search.fit(X_train_sample, y_train_sample)\n",
    "\n",
    "grid_search.best_params_ "
   ]
  },
  {
   "cell_type": "markdown",
   "metadata": {},
   "source": [
    "#### scale 높여서 다시 GridSearch"
   ]
  },
  {
   "cell_type": "code",
   "execution_count": 33,
   "metadata": {},
   "outputs": [
    {
     "data": {
      "text/plain": [
       "((18247, 38), (18247,))"
      ]
     },
     "execution_count": 33,
     "metadata": {},
     "output_type": "execute_result"
    }
   ],
   "source": [
    "random.seed(43)\n",
    "train_list = random.sample(list(range(X_train.shape[0])), int(round(X_train.shape[0]*0.2,0)))\n",
    "\n",
    "X_train_sample = X_train.iloc[train_list]\n",
    "y_train_sample = y_train.iloc[train_list]\n",
    "\n",
    "X_train_sample.shape, y_train_sample.shape"
   ]
  },
  {
   "cell_type": "code",
   "execution_count": 34,
   "metadata": {},
   "outputs": [
    {
     "data": {
      "text/plain": [
       "{'max_features': 10, 'subsample': 0.8}"
      ]
     },
     "execution_count": 34,
     "metadata": {},
     "output_type": "execute_result"
    }
   ],
   "source": [
    "param_grid = {\n",
    "    'max_features': ['sqrt',10, 14],\n",
    "    'subsample': [0.75,0.8,0.85]\n",
    "}\n",
    "\n",
    "# Create a baseline model\n",
    "gbm = GradientBoostingRegressor(learning_rate=0.1, n_estimators=200, max_depth=8, \n",
    "                                min_samples_leaf=2, min_samples_split=2, random_state=43)\n",
    "\n",
    "# Instantiate the grid search model\n",
    "grid_search = GridSearchCV(estimator = gbm, param_grid = param_grid, cv=5)\n",
    "grid_search.fit(X_train_sample, y_train_sample)\n",
    "\n",
    "grid_search.best_params_ "
   ]
  },
  {
   "cell_type": "markdown",
   "metadata": {},
   "source": [
    "## 2.2. 불필요한 Feature 제거하기"
   ]
  },
  {
   "cell_type": "markdown",
   "metadata": {},
   "source": [
    "#### Baseline"
   ]
  },
  {
   "cell_type": "code",
   "execution_count": 35,
   "metadata": {},
   "outputs": [
    {
     "data": {
      "text/plain": [
       "((91237, 38), (91237,), (50632, 38))"
      ]
     },
     "execution_count": 35,
     "metadata": {},
     "output_type": "execute_result"
    }
   ],
   "source": [
    "input_var = [\n",
    "       'in_out', 'bus_route_id', 'station_code', \n",
    "       'latitude', 'longitude', 'weekday', \n",
    "       'bus_route_type', 'holiday', 'temperature', 'rain',\n",
    "       'windspeed', 'humidity', 'num_business_2017', 'num_employee_2017',\n",
    "       'population_2018', 'day', 'am_ride', 'am_takeoff', 'user1_geton_count',\n",
    "       'user1_getoff_count', 'user2_geton_count', 'user2_getoff_count',\n",
    "       'user4_geton_count', 'user4_getoff_count', 'user6_geton_count',\n",
    "       'user6_getoff_count', 'user27_geton_count', 'user27_getoff_count',\n",
    "       'user28_geton_count', 'user28_getoff_count', 'user29_geton_count',\n",
    "       'user29_getoff_count', 'user30_geton_count', 'user30_getoff_count',\n",
    "       'dis_jeju', 'dis_gosan', 'dis_seongsan', 'dis_seoguipo'\n",
    "]\n",
    "\n",
    "target='18~20_ride'\n",
    "\n",
    "X_train = train_seoguipo[input_var]\n",
    "y_train = train_seoguipo[target]\n",
    "X_test=test_seoguipo[input_var]\n",
    "\n",
    "X_train.shape, y_train.shape, X_test.shape"
   ]
  },
  {
   "cell_type": "code",
   "execution_count": 36,
   "metadata": {},
   "outputs": [
    {
     "name": "stdout",
     "output_type": "stream",
     "text": [
      "Score:  0.9334942391017732\n"
     ]
    },
    {
     "data": {
      "text/plain": [
       "Text(0, 0.5, 'Feature Importance Score')"
      ]
     },
     "execution_count": 36,
     "metadata": {},
     "output_type": "execute_result"
    },
    {
     "data": {
      "image/png": "[encoded data removed]",
      "text/plain": [
       "<Figure size 432x288 with 1 Axes>"
      ]
     },
     "metadata": {
      "needs_background": "light"
     },
     "output_type": "display_data"
    }
   ],
   "source": [
    "gbm1 = GradientBoostingRegressor(learning_rate=0.1, n_estimators=200, max_depth=8, max_features= 10,\n",
    "                                 min_samples_leaf=2, min_samples_split= 2, subsample= 0.8, random_state=43)\n",
    "\n",
    "gbm1.fit(X_train, y_train)\n",
    "preds = gbm1.predict(X_train)\n",
    "score = rmse(y_train,preds)\n",
    "print (\"Score: \", score)\n",
    "\n",
    "feat_imp = pd.Series(gbm1.feature_importances_, input_var).sort_values(ascending=False)\n",
    "feat_imp.plot(kind='bar', title='Feature Importances')\n",
    "plt.ylabel('Feature Importance Score')"
   ]
  },
  {
   "cell_type": "markdown",
   "metadata": {},
   "source": [
    "#### user30_geton_count 제거"
   ]
  },
  {
   "cell_type": "code",
   "execution_count": 37,
   "metadata": {},
   "outputs": [
    {
     "data": {
      "text/plain": [
       "((91237, 37), (91237,), (50632, 37))"
      ]
     },
     "execution_count": 37,
     "metadata": {},
     "output_type": "execute_result"
    }
   ],
   "source": [
    "input_var = [\n",
    "       'in_out', 'bus_route_id', 'station_code', \n",
    "       'latitude', 'longitude', 'weekday', \n",
    "       'bus_route_type', 'holiday', 'temperature', 'rain',\n",
    "       'windspeed', 'humidity', 'num_business_2017', 'num_employee_2017',\n",
    "       'population_2018', 'day', 'am_ride', 'am_takeoff', 'user1_geton_count',\n",
    "       'user1_getoff_count', 'user2_geton_count', 'user2_getoff_count',\n",
    "       'user4_geton_count', 'user4_getoff_count', 'user6_geton_count',\n",
    "       'user6_getoff_count', 'user27_geton_count', 'user27_getoff_count',\n",
    "       'user28_geton_count', 'user28_getoff_count', 'user29_geton_count',\n",
    "       'user29_getoff_count', 'user30_getoff_count',\n",
    "       'dis_jeju', 'dis_gosan', 'dis_seongsan', 'dis_seoguipo'\n",
    "]\n",
    "\n",
    "target='18~20_ride'\n",
    "\n",
    "X_train = train_seoguipo[input_var]\n",
    "y_train = train_seoguipo[target]\n",
    "X_test=test_seoguipo[input_var]\n",
    "\n",
    "X_train.shape, y_train.shape, X_test.shape"
   ]
  },
  {
   "cell_type": "code",
   "execution_count": 38,
   "metadata": {},
   "outputs": [
    {
     "name": "stdout",
     "output_type": "stream",
     "text": [
      "Score:  0.9307014778442805\n"
     ]
    },
    {
     "data": {
      "text/plain": [
       "Text(0, 0.5, 'Feature Importance Score')"
      ]
     },
     "execution_count": 38,
     "metadata": {},
     "output_type": "execute_result"
    },
    {
     "data": {
      "image/png": "[encoded data removed]",
      "text/plain": [
       "<Figure size 432x288 with 1 Axes>"
      ]
     },
     "metadata": {
      "needs_background": "light"
     },
     "output_type": "display_data"
    }
   ],
   "source": [
    "gbm1 = GradientBoostingRegressor(learning_rate=0.1, n_estimators=200, max_depth=8, max_features= 10,\n",
    "                                 min_samples_leaf=2, min_samples_split= 2, subsample= 0.8, random_state=43)\n",
    "\n",
    "gbm1.fit(X_train, y_train)\n",
    "preds = gbm1.predict(X_train)\n",
    "score = rmse(y_train,preds)\n",
    "print (\"Score: \", score)\n",
    "\n",
    "feat_imp = pd.Series(gbm1.feature_importances_, input_var).sort_values(ascending=False)\n",
    "feat_imp.plot(kind='bar', title='Feature Importances')\n",
    "plt.ylabel('Feature Importance Score')"
   ]
  },
  {
   "cell_type": "markdown",
   "metadata": {},
   "source": [
    "#### user30_geton_count, user30_getoff_count 제거"
   ]
  },
  {
   "cell_type": "code",
   "execution_count": 39,
   "metadata": {},
   "outputs": [
    {
     "data": {
      "text/plain": [
       "((91237, 36), (91237,), (50632, 36))"
      ]
     },
     "execution_count": 39,
     "metadata": {},
     "output_type": "execute_result"
    }
   ],
   "source": [
    "input_var = [\n",
    "       'in_out', 'bus_route_id', 'station_code', \n",
    "       'latitude', 'longitude', 'weekday', \n",
    "       'bus_route_type', 'holiday', 'temperature', 'rain',\n",
    "       'windspeed', 'humidity', 'num_business_2017', 'num_employee_2017',\n",
    "       'population_2018', 'day', 'am_ride', 'am_takeoff', 'user1_geton_count',\n",
    "       'user1_getoff_count', 'user2_geton_count', 'user2_getoff_count',\n",
    "       'user4_geton_count', 'user4_getoff_count', 'user6_geton_count',\n",
    "       'user6_getoff_count', 'user27_geton_count', 'user27_getoff_count',\n",
    "       'user28_geton_count', 'user28_getoff_count', 'user29_geton_count',\n",
    "       'user29_getoff_count', \n",
    "       'dis_jeju', 'dis_gosan', 'dis_seongsan', 'dis_seoguipo'\n",
    "]\n",
    "\n",
    "target='18~20_ride'\n",
    "\n",
    "X_train = train_seoguipo[input_var]\n",
    "y_train = train_seoguipo[target]\n",
    "X_test=test_seoguipo[input_var]\n",
    "\n",
    "X_train.shape, y_train.shape, X_test.shape"
   ]
  },
  {
   "cell_type": "code",
   "execution_count": 40,
   "metadata": {},
   "outputs": [
    {
     "name": "stdout",
     "output_type": "stream",
     "text": [
      "Score:  0.9179021269378268\n"
     ]
    },
    {
     "data": {
      "text/plain": [
       "Text(0, 0.5, 'Feature Importance Score')"
      ]
     },
     "execution_count": 40,
     "metadata": {},
     "output_type": "execute_result"
    },
    {
     "data": {
      "image/png": "[encoded data removed]",
      "text/plain": [
       "<Figure size 432x288 with 1 Axes>"
      ]
     },
     "metadata": {
      "needs_background": "light"
     },
     "output_type": "display_data"
    }
   ],
   "source": [
    "gbm1 = GradientBoostingRegressor(learning_rate=0.1, n_estimators=200, max_depth=8, max_features= 10,\n",
    "                                 min_samples_leaf=2, min_samples_split= 2, subsample= 0.8, random_state=43)\n",
    "\n",
    "gbm1.fit(X_train, y_train)\n",
    "preds = gbm1.predict(X_train)\n",
    "score = rmse(y_train,preds)\n",
    "print (\"Score: \", score)\n",
    "\n",
    "feat_imp = pd.Series(gbm1.feature_importances_, input_var).sort_values(ascending=False)\n",
    "feat_imp.plot(kind='bar', title='Feature Importances')\n",
    "plt.ylabel('Feature Importance Score')"
   ]
  },
  {
   "cell_type": "markdown",
   "metadata": {},
   "source": [
    "#### user30_geton_count, user30_getoff_count, user29_getoff_count 제거"
   ]
  },
  {
   "cell_type": "code",
   "execution_count": 41,
   "metadata": {},
   "outputs": [
    {
     "data": {
      "text/plain": [
       "((91237, 35), (91237,), (50632, 35))"
      ]
     },
     "execution_count": 41,
     "metadata": {},
     "output_type": "execute_result"
    }
   ],
   "source": [
    "input_var = [\n",
    "       'in_out', 'bus_route_id', 'station_code', \n",
    "       'latitude', 'longitude', 'weekday', \n",
    "       'bus_route_type', 'holiday', 'temperature', 'rain',\n",
    "       'windspeed', 'humidity', 'num_business_2017', 'num_employee_2017',\n",
    "       'population_2018', 'day', 'am_ride', 'am_takeoff', 'user1_geton_count',\n",
    "       'user1_getoff_count', 'user2_geton_count', 'user2_getoff_count',\n",
    "       'user4_geton_count', 'user4_getoff_count', 'user6_geton_count',\n",
    "       'user6_getoff_count', 'user27_geton_count', 'user27_getoff_count',\n",
    "       'user28_geton_count', 'user28_getoff_count', 'user29_geton_count',\n",
    "       'dis_jeju', 'dis_gosan', 'dis_seongsan', 'dis_seoguipo'\n",
    "]\n",
    "\n",
    "target='18~20_ride'\n",
    "\n",
    "X_train = train_seoguipo[input_var]\n",
    "y_train = train_seoguipo[target]\n",
    "X_test=test_seoguipo[input_var]\n",
    "\n",
    "X_train.shape, y_train.shape, X_test.shape"
   ]
  },
  {
   "cell_type": "code",
   "execution_count": 42,
   "metadata": {},
   "outputs": [
    {
     "name": "stdout",
     "output_type": "stream",
     "text": [
      "Score:  0.9306898269458015\n"
     ]
    },
    {
     "data": {
      "text/plain": [
       "Text(0, 0.5, 'Feature Importance Score')"
      ]
     },
     "execution_count": 42,
     "metadata": {},
     "output_type": "execute_result"
    },
    {
     "data": {
      "image/png": "[encoded data removed]",
      "text/plain": [
       "<Figure size 432x288 with 1 Axes>"
      ]
     },
     "metadata": {
      "needs_background": "light"
     },
     "output_type": "display_data"
    }
   ],
   "source": [
    "gbm1 = GradientBoostingRegressor(learning_rate=0.1, n_estimators=200, max_depth=8, max_features= 10,\n",
    "                                 min_samples_leaf=2, min_samples_split= 2, subsample= 0.8, random_state=43)\n",
    "\n",
    "gbm1.fit(X_train, y_train)\n",
    "preds = gbm1.predict(X_train)\n",
    "score = rmse(y_train,preds)\n",
    "print (\"Score: \", score)\n",
    "\n",
    "feat_imp = pd.Series(gbm1.feature_importances_, input_var).sort_values(ascending=False)\n",
    "feat_imp.plot(kind='bar', title='Feature Importances')\n",
    "plt.ylabel('Feature Importance Score')"
   ]
  },
  {
   "cell_type": "markdown",
   "metadata": {},
   "source": [
    "- user30_geton_count, user30_getoff_count만 제거하기로 한다"
   ]
  },
  {
   "cell_type": "markdown",
   "metadata": {},
   "source": [
    "## 2.3. 최적의 결과 test_seoguipo에 적용"
   ]
  },
  {
   "cell_type": "code",
   "execution_count": 43,
   "metadata": {},
   "outputs": [
    {
     "data": {
      "text/plain": [
       "((91237, 36), (91237,), (50632, 36))"
      ]
     },
     "execution_count": 43,
     "metadata": {},
     "output_type": "execute_result"
    }
   ],
   "source": [
    "input_var = [\n",
    "       'in_out', 'bus_route_id', 'station_code', \n",
    "       'latitude', 'longitude', 'weekday', \n",
    "       'bus_route_type', 'holiday', 'temperature', 'rain',\n",
    "       'windspeed', 'humidity', 'num_business_2017', 'num_employee_2017',\n",
    "       'population_2018', 'day', 'am_ride', 'am_takeoff', 'user1_geton_count',\n",
    "       'user1_getoff_count', 'user2_geton_count', 'user2_getoff_count',\n",
    "       'user4_geton_count', 'user4_getoff_count', 'user6_geton_count',\n",
    "       'user6_getoff_count', 'user27_geton_count', 'user27_getoff_count',\n",
    "       'user28_geton_count', 'user28_getoff_count', 'user29_geton_count',\n",
    "       'user29_getoff_count', \n",
    "       'dis_jeju', 'dis_gosan', 'dis_seongsan', 'dis_seoguipo'\n",
    "]\n",
    "\n",
    "target='18~20_ride'\n",
    "\n",
    "X_train = train_seoguipo[input_var]\n",
    "y_train = train_seoguipo[target]\n",
    "X_test=test_seoguipo[input_var]\n",
    "\n",
    "X_train.shape, y_train.shape, X_test.shape"
   ]
  },
  {
   "cell_type": "code",
   "execution_count": 44,
   "metadata": {},
   "outputs": [
    {
     "name": "stdout",
     "output_type": "stream",
     "text": [
      "Score:  0.9179021269378268\n"
     ]
    },
    {
     "data": {
      "text/plain": [
       "Text(0, 0.5, 'Feature Importance Score')"
      ]
     },
     "execution_count": 44,
     "metadata": {},
     "output_type": "execute_result"
    },
    {
     "data": {
      "image/png": "[encoded data removed]",
      "text/plain": [
       "<Figure size 432x288 with 1 Axes>"
      ]
     },
     "metadata": {
      "needs_background": "light"
     },
     "output_type": "display_data"
    }
   ],
   "source": [
    "gbm1 = GradientBoostingRegressor(learning_rate=0.1, n_estimators=200, max_depth=8, max_features= 10,\n",
    "                                 min_samples_leaf=2, min_samples_split= 2, subsample= 0.8, random_state=43)\n",
    "\n",
    "gbm1.fit(X_train, y_train)\n",
    "preds = gbm1.predict(X_train)\n",
    "score = rmse(y_train,preds)\n",
    "print (\"Score: \", score)\n",
    "\n",
    "feat_imp = pd.Series(gbm1.feature_importances_, input_var).sort_values(ascending=False)\n",
    "feat_imp.plot(kind='bar', title='Feature Importances')\n",
    "plt.ylabel('Feature Importance Score')"
   ]
  },
  {
   "cell_type": "code",
   "execution_count": 45,
   "metadata": {},
   "outputs": [
    {
     "data": {
      "text/html": [
       "<div>\n",
       "<style scoped>\n",
       "    .dataframe tbody tr th:only-of-type {\n",
       "        vertical-align: middle;\n",
       "    }\n",
       "\n",
       "    .dataframe tbody tr th {\n",
       "        vertical-align: top;\n",
       "    }\n",
       "\n",
       "    .dataframe thead th {\n",
       "        text-align: right;\n",
       "    }\n",
       "</style>\n",
       "<table border=\"1\" class=\"dataframe\">\n",
       "  <thead>\n",
       "    <tr style=\"text-align: right;\">\n",
       "      <th></th>\n",
       "      <th>id</th>\n",
       "      <th>18~20_ride</th>\n",
       "    </tr>\n",
       "  </thead>\n",
       "  <tbody>\n",
       "    <tr>\n",
       "      <th>4</th>\n",
       "      <td>415427</td>\n",
       "      <td>1.428282</td>\n",
       "    </tr>\n",
       "    <tr>\n",
       "      <th>5</th>\n",
       "      <td>415428</td>\n",
       "      <td>1.034380</td>\n",
       "    </tr>\n",
       "    <tr>\n",
       "      <th>6</th>\n",
       "      <td>415429</td>\n",
       "      <td>0.429903</td>\n",
       "    </tr>\n",
       "    <tr>\n",
       "      <th>7</th>\n",
       "      <td>415430</td>\n",
       "      <td>3.377269</td>\n",
       "    </tr>\n",
       "    <tr>\n",
       "      <th>8</th>\n",
       "      <td>415431</td>\n",
       "      <td>1.655392</td>\n",
       "    </tr>\n",
       "  </tbody>\n",
       "</table>\n",
       "</div>"
      ],
      "text/plain": [
       "       id  18~20_ride\n",
       "4  415427    1.428282\n",
       "5  415428    1.034380\n",
       "6  415429    0.429903\n",
       "7  415430    3.377269\n",
       "8  415431    1.655392"
      ]
     },
     "execution_count": 45,
     "metadata": {},
     "output_type": "execute_result"
    }
   ],
   "source": [
    "test_seoguipo['18~20_ride'] = gbm1.predict(X_test)\n",
    "test_seoguipo = test_seoguipo[['id','18~20_ride']]\n",
    "test_seoguipo.head()"
   ]
  },
  {
   "cell_type": "code",
   "execution_count": 46,
   "metadata": {},
   "outputs": [
    {
     "data": {
      "text/plain": [
       "(50632, 2)"
      ]
     },
     "execution_count": 46,
     "metadata": {},
     "output_type": "execute_result"
    }
   ],
   "source": [
    "test_seoguipo.shape"
   ]
  },
  {
   "cell_type": "markdown",
   "metadata": {},
   "source": [
    "# 3. Gosan"
   ]
  },
  {
   "cell_type": "code",
   "execution_count": 47,
   "metadata": {},
   "outputs": [
    {
     "data": {
      "text/plain": [
       "((37327, 55), (20700, 54))"
      ]
     },
     "execution_count": 47,
     "metadata": {},
     "output_type": "execute_result"
    }
   ],
   "source": [
    "train_gosan = train.loc[train['location_name'] == 'gosan']\n",
    "test_gosan = test.loc[test['location_name'] == 'gosan']\n",
    "\n",
    "train_gosan.shape, test_gosan.shape"
   ]
  },
  {
   "cell_type": "code",
   "execution_count": 48,
   "metadata": {},
   "outputs": [
    {
     "data": {
      "text/plain": [
       "((37327, 38), (37327,), (20700, 38))"
      ]
     },
     "execution_count": 48,
     "metadata": {},
     "output_type": "execute_result"
    }
   ],
   "source": [
    "input_var = [\n",
    "       'in_out', 'bus_route_id', 'station_code', \n",
    "       'latitude', 'longitude', 'weekday', \n",
    "       'bus_route_type', 'holiday', 'temperature', 'rain',\n",
    "       'windspeed', 'humidity', 'num_business_2017', 'num_employee_2017',\n",
    "       'population_2018', 'day', 'am_ride', 'am_takeoff', 'user1_geton_count',\n",
    "       'user1_getoff_count', 'user2_geton_count', 'user2_getoff_count',\n",
    "       'user4_geton_count', 'user4_getoff_count', 'user6_geton_count',\n",
    "       'user6_getoff_count', 'user27_geton_count', 'user27_getoff_count',\n",
    "       'user28_geton_count', 'user28_getoff_count', 'user29_geton_count',\n",
    "       'user29_getoff_count', 'user30_geton_count', 'user30_getoff_count',\n",
    "       'dis_jeju', 'dis_gosan', 'dis_seongsan', 'dis_seoguipo'\n",
    "]\n",
    "\n",
    "target='18~20_ride'\n",
    "\n",
    "X_train = train_gosan[input_var]\n",
    "y_train = train_gosan[target]\n",
    "X_test=test_gosan[input_var]\n",
    "\n",
    "X_train.shape, y_train.shape, X_test.shape"
   ]
  },
  {
   "cell_type": "markdown",
   "metadata": {},
   "source": [
    "## 3.1. 최적의 파라미터 구하기  \n",
    "- 이전에 최적의 n_estimators가 200이상이었으므로 learning_rate 상향조정함"
   ]
  },
  {
   "cell_type": "code",
   "execution_count": 50,
   "metadata": {},
   "outputs": [
    {
     "data": {
      "text/plain": [
       "((1866, 38), (1866,))"
      ]
     },
     "execution_count": 50,
     "metadata": {},
     "output_type": "execute_result"
    }
   ],
   "source": [
    "random.seed(43)\n",
    "train_list = random.sample(list(range(X_train.shape[0])), int(round(X_train.shape[0]*0.05,0)))\n",
    "\n",
    "X_train_sample = X_train.iloc[train_list]\n",
    "y_train_sample = y_train.iloc[train_list]\n",
    "\n",
    "X_train_sample.shape, y_train_sample.shape"
   ]
  },
  {
   "cell_type": "code",
   "execution_count": 51,
   "metadata": {},
   "outputs": [
    {
     "data": {
      "text/plain": [
       "{'max_depth': 6,\n",
       " 'max_features': 'sqrt',\n",
       " 'min_samples_leaf': 3,\n",
       " 'min_samples_split': 2,\n",
       " 'subsample': 0.85}"
      ]
     },
     "execution_count": 51,
     "metadata": {},
     "output_type": "execute_result"
    }
   ],
   "source": [
    "param_grid = {\n",
    "    'max_features': ['sqrt',10, 14],\n",
    "    'min_samples_leaf': [2,3],\n",
    "    'min_samples_split': [2,4,6],\n",
    "    'max_depth': [5,6,7,8],\n",
    "    'subsample': [0.75,0.8,0.85]\n",
    "}\n",
    "\n",
    "# Create a baseline model\n",
    "gbm = GradientBoostingRegressor(learning_rate=0.12, n_estimators=200, random_state=43)\n",
    "\n",
    "# Instantiate the grid search model\n",
    "grid_search = GridSearchCV(estimator = gbm, param_grid = param_grid, cv=5)\n",
    "grid_search.fit(X_train_sample, y_train_sample)\n",
    "\n",
    "grid_search.best_params_ "
   ]
  },
  {
   "cell_type": "code",
   "execution_count": 52,
   "metadata": {},
   "outputs": [
    {
     "data": {
      "text/plain": [
       "((18664, 38), (18664,))"
      ]
     },
     "execution_count": 52,
     "metadata": {},
     "output_type": "execute_result"
    }
   ],
   "source": [
    "random.seed(43)\n",
    "train_list = random.sample(list(range(X_train.shape[0])), int(round(X_train.shape[0]*0.5,0)))\n",
    "\n",
    "X_train_sample = X_train.iloc[train_list]\n",
    "y_train_sample = y_train.iloc[train_list]\n",
    "\n",
    "X_train_sample.shape, y_train_sample.shape"
   ]
  },
  {
   "cell_type": "code",
   "execution_count": 53,
   "metadata": {},
   "outputs": [
    {
     "data": {
      "text/plain": [
       "{'max_depth': 8, 'subsample': 0.8}"
      ]
     },
     "execution_count": 53,
     "metadata": {},
     "output_type": "execute_result"
    }
   ],
   "source": [
    "param_grid = {\n",
    "    'max_depth': [5,6,7,8],\n",
    "    'subsample': [0.75,0.8,0.85]\n",
    "}\n",
    "\n",
    "# Create a baseline model\n",
    "gbm = GradientBoostingRegressor(learning_rate=0.12, n_estimators=200, max_features='sqrt',\n",
    "                                min_samples_leaf=3, min_samples_split=2, random_state=43)\n",
    "\n",
    "# Instantiate the grid search model\n",
    "grid_search = GridSearchCV(estimator = gbm, param_grid = param_grid, cv=5)\n",
    "grid_search.fit(X_train_sample, y_train_sample)\n",
    "\n",
    "grid_search.best_params_ "
   ]
  },
  {
   "cell_type": "markdown",
   "metadata": {},
   "source": [
    "## 3.2. 불필요한 Feature 제거하기"
   ]
  },
  {
   "cell_type": "markdown",
   "metadata": {},
   "source": [
    "#### Baseline"
   ]
  },
  {
   "cell_type": "code",
   "execution_count": 54,
   "metadata": {},
   "outputs": [
    {
     "data": {
      "text/plain": [
       "((37327, 38), (37327,), (20700, 38))"
      ]
     },
     "execution_count": 54,
     "metadata": {},
     "output_type": "execute_result"
    }
   ],
   "source": [
    "input_var = [\n",
    "       'in_out', 'bus_route_id', 'station_code', \n",
    "       'latitude', 'longitude', 'weekday', \n",
    "       'bus_route_type', 'holiday', 'temperature', 'rain',\n",
    "       'windspeed', 'humidity', 'num_business_2017', 'num_employee_2017',\n",
    "       'population_2018', 'day', 'am_ride', 'am_takeoff', 'user1_geton_count',\n",
    "       'user1_getoff_count', 'user2_geton_count', 'user2_getoff_count',\n",
    "       'user4_geton_count', 'user4_getoff_count', 'user6_geton_count',\n",
    "       'user6_getoff_count', 'user27_geton_count', 'user27_getoff_count',\n",
    "       'user28_geton_count', 'user28_getoff_count', 'user29_geton_count',\n",
    "       'user29_getoff_count', 'user30_geton_count', 'user30_getoff_count',\n",
    "       'dis_jeju', 'dis_gosan', 'dis_seongsan', 'dis_seoguipo'\n",
    "]\n",
    "\n",
    "target='18~20_ride'\n",
    "\n",
    "X_train = train_gosan[input_var]\n",
    "y_train = train_gosan[target]\n",
    "X_test=test_gosan[input_var]\n",
    "\n",
    "X_train.shape, y_train.shape, X_test.shape"
   ]
  },
  {
   "cell_type": "code",
   "execution_count": 55,
   "metadata": {},
   "outputs": [
    {
     "name": "stdout",
     "output_type": "stream",
     "text": [
      "Score:  0.7075152279593182\n"
     ]
    },
    {
     "data": {
      "text/plain": [
       "Text(0, 0.5, 'Feature Importance Score')"
      ]
     },
     "execution_count": 55,
     "metadata": {},
     "output_type": "execute_result"
    },
    {
     "data": {
      "image/png": "[encoded data removed]",
      "text/plain": [
       "<Figure size 432x288 with 1 Axes>"
      ]
     },
     "metadata": {
      "needs_background": "light"
     },
     "output_type": "display_data"
    }
   ],
   "source": [
    "gbm2 = GradientBoostingRegressor(learning_rate=0.12, n_estimators=200, max_depth=8 , max_features= 'sqrt',\n",
    "                                 min_samples_leaf= 3, min_samples_split= 2, subsample= 0.8, random_state=43)\n",
    "\n",
    "gbm2.fit(X_train, y_train)\n",
    "preds = gbm2.predict(X_train)\n",
    "score = rmse(y_train,preds)\n",
    "print (\"Score: \", score)\n",
    "\n",
    "feat_imp = pd.Series(gbm2.feature_importances_, input_var).sort_values(ascending=False)\n",
    "feat_imp.plot(kind='bar', title='Feature Importances')\n",
    "plt.ylabel('Feature Importance Score')"
   ]
  },
  {
   "cell_type": "markdown",
   "metadata": {},
   "source": [
    "#### user30_getoff_count 제거"
   ]
  },
  {
   "cell_type": "code",
   "execution_count": 56,
   "metadata": {},
   "outputs": [
    {
     "data": {
      "text/plain": [
       "((37327, 37), (37327,), (20700, 37))"
      ]
     },
     "execution_count": 56,
     "metadata": {},
     "output_type": "execute_result"
    }
   ],
   "source": [
    "input_var = [\n",
    "       'in_out', 'bus_route_id', 'station_code', \n",
    "       'latitude', 'longitude', 'weekday', \n",
    "       'bus_route_type', 'holiday', 'temperature', 'rain',\n",
    "       'windspeed', 'humidity', 'num_business_2017', 'num_employee_2017',\n",
    "       'population_2018', 'day', 'am_ride', 'am_takeoff', 'user1_geton_count',\n",
    "       'user1_getoff_count', 'user2_geton_count', 'user2_getoff_count',\n",
    "       'user4_geton_count', 'user4_getoff_count', 'user6_geton_count',\n",
    "       'user6_getoff_count', 'user27_geton_count', 'user27_getoff_count',\n",
    "       'user28_geton_count', 'user28_getoff_count', 'user29_geton_count',\n",
    "       'user29_getoff_count', 'user30_geton_count', \n",
    "       'dis_jeju', 'dis_gosan', 'dis_seongsan', 'dis_seoguipo'\n",
    "]\n",
    "\n",
    "target='18~20_ride'\n",
    "\n",
    "X_train = train_gosan[input_var]\n",
    "y_train = train_gosan[target]\n",
    "X_test=test_gosan[input_var]\n",
    "\n",
    "X_train.shape, y_train.shape, X_test.shape"
   ]
  },
  {
   "cell_type": "code",
   "execution_count": 57,
   "metadata": {},
   "outputs": [
    {
     "name": "stdout",
     "output_type": "stream",
     "text": [
      "Score:  0.6852453191613508\n"
     ]
    },
    {
     "data": {
      "text/plain": [
       "Text(0, 0.5, 'Feature Importance Score')"
      ]
     },
     "execution_count": 57,
     "metadata": {},
     "output_type": "execute_result"
    },
    {
     "data": {
      "image/png": "[encoded data removed]",
      "text/plain": [
       "<Figure size 432x288 with 1 Axes>"
      ]
     },
     "metadata": {
      "needs_background": "light"
     },
     "output_type": "display_data"
    }
   ],
   "source": [
    "gbm2 = GradientBoostingRegressor(learning_rate=0.12, n_estimators=200, max_depth=8 , max_features= 'sqrt',\n",
    "                                 min_samples_leaf= 3, min_samples_split= 2, subsample= 0.8, random_state=43)\n",
    "\n",
    "gbm2.fit(X_train, y_train)\n",
    "preds = gbm2.predict(X_train)\n",
    "score = rmse(y_train,preds)\n",
    "print (\"Score: \", score)\n",
    "\n",
    "feat_imp = pd.Series(gbm2.feature_importances_, input_var).sort_values(ascending=False)\n",
    "feat_imp.plot(kind='bar', title='Feature Importances')\n",
    "plt.ylabel('Feature Importance Score')"
   ]
  },
  {
   "cell_type": "markdown",
   "metadata": {},
   "source": [
    "#### user30_getoff_count, in_out 제거"
   ]
  },
  {
   "cell_type": "code",
   "execution_count": 58,
   "metadata": {},
   "outputs": [
    {
     "data": {
      "text/plain": [
       "((37327, 36), (37327,), (20700, 36))"
      ]
     },
     "execution_count": 58,
     "metadata": {},
     "output_type": "execute_result"
    }
   ],
   "source": [
    "input_var = [\n",
    "       'bus_route_id', 'station_code', \n",
    "       'latitude', 'longitude', 'weekday', \n",
    "       'bus_route_type', 'holiday', 'temperature', 'rain',\n",
    "       'windspeed', 'humidity', 'num_business_2017', 'num_employee_2017',\n",
    "       'population_2018', 'day', 'am_ride', 'am_takeoff', 'user1_geton_count',\n",
    "       'user1_getoff_count', 'user2_geton_count', 'user2_getoff_count',\n",
    "       'user4_geton_count', 'user4_getoff_count', 'user6_geton_count',\n",
    "       'user6_getoff_count', 'user27_geton_count', 'user27_getoff_count',\n",
    "       'user28_geton_count', 'user28_getoff_count', 'user29_geton_count',\n",
    "       'user29_getoff_count', 'user30_geton_count', \n",
    "       'dis_jeju', 'dis_gosan', 'dis_seongsan', 'dis_seoguipo'\n",
    "]\n",
    "\n",
    "target='18~20_ride'\n",
    "\n",
    "X_train = train_gosan[input_var]\n",
    "y_train = train_gosan[target]\n",
    "X_test=test_gosan[input_var]\n",
    "\n",
    "X_train.shape, y_train.shape, X_test.shape"
   ]
  },
  {
   "cell_type": "code",
   "execution_count": 59,
   "metadata": {},
   "outputs": [
    {
     "name": "stdout",
     "output_type": "stream",
     "text": [
      "Score:  0.6856036170406876\n"
     ]
    },
    {
     "data": {
      "text/plain": [
       "Text(0, 0.5, 'Feature Importance Score')"
      ]
     },
     "execution_count": 59,
     "metadata": {},
     "output_type": "execute_result"
    },
    {
     "data": {
      "image/png": "[encoded data removed]",
      "text/plain": [
       "<Figure size 432x288 with 1 Axes>"
      ]
     },
     "metadata": {
      "needs_background": "light"
     },
     "output_type": "display_data"
    }
   ],
   "source": [
    "gbm2 = GradientBoostingRegressor(learning_rate=0.12, n_estimators=200, max_depth=8 , max_features= 'sqrt',\n",
    "                                 min_samples_leaf= 3, min_samples_split= 2, subsample= 0.8, random_state=43)\n",
    "\n",
    "gbm2.fit(X_train, y_train)\n",
    "preds = gbm2.predict(X_train)\n",
    "score = rmse(y_train,preds)\n",
    "print (\"Score: \", score)\n",
    "\n",
    "feat_imp = pd.Series(gbm2.feature_importances_, input_var).sort_values(ascending=False)\n",
    "feat_imp.plot(kind='bar', title='Feature Importances')\n",
    "plt.ylabel('Feature Importance Score')"
   ]
  },
  {
   "cell_type": "markdown",
   "metadata": {},
   "source": [
    "- user30_getoff_count만 제거해주기로 한다"
   ]
  },
  {
   "cell_type": "markdown",
   "metadata": {},
   "source": [
    "## 3.3. 최적의 결과 test_gosan에 적용"
   ]
  },
  {
   "cell_type": "code",
   "execution_count": 60,
   "metadata": {},
   "outputs": [
    {
     "data": {
      "text/plain": [
       "((37327, 37), (37327,), (20700, 37))"
      ]
     },
     "execution_count": 60,
     "metadata": {},
     "output_type": "execute_result"
    }
   ],
   "source": [
    "input_var = [\n",
    "       'in_out', 'bus_route_id', 'station_code', \n",
    "       'latitude', 'longitude', 'weekday', \n",
    "       'bus_route_type', 'holiday', 'temperature', 'rain',\n",
    "       'windspeed', 'humidity', 'num_business_2017', 'num_employee_2017',\n",
    "       'population_2018', 'day', 'am_ride', 'am_takeoff', 'user1_geton_count',\n",
    "       'user1_getoff_count', 'user2_geton_count', 'user2_getoff_count',\n",
    "       'user4_geton_count', 'user4_getoff_count', 'user6_geton_count',\n",
    "       'user6_getoff_count', 'user27_geton_count', 'user27_getoff_count',\n",
    "       'user28_geton_count', 'user28_getoff_count', 'user29_geton_count',\n",
    "       'user29_getoff_count', 'user30_geton_count', \n",
    "       'dis_jeju', 'dis_gosan', 'dis_seongsan', 'dis_seoguipo'\n",
    "]\n",
    "\n",
    "target='18~20_ride'\n",
    "\n",
    "X_train = train_gosan[input_var]\n",
    "y_train = train_gosan[target]\n",
    "X_test=test_gosan[input_var]\n",
    "\n",
    "X_train.shape, y_train.shape, X_test.shape"
   ]
  },
  {
   "cell_type": "code",
   "execution_count": 61,
   "metadata": {},
   "outputs": [
    {
     "name": "stdout",
     "output_type": "stream",
     "text": [
      "Score:  0.6852453191613508\n"
     ]
    },
    {
     "data": {
      "text/plain": [
       "Text(0, 0.5, 'Feature Importance Score')"
      ]
     },
     "execution_count": 61,
     "metadata": {},
     "output_type": "execute_result"
    },
    {
     "data": {
      "image/png": "[encoded data removed]",
      "text/plain": [
       "<Figure size 432x288 with 1 Axes>"
      ]
     },
     "metadata": {
      "needs_background": "light"
     },
     "output_type": "display_data"
    }
   ],
   "source": [
    "gbm2 = GradientBoostingRegressor(learning_rate=0.12, n_estimators=200, max_depth=8 , max_features= 'sqrt',\n",
    "                                 min_samples_leaf= 3, min_samples_split= 2, subsample= 0.8, random_state=43)\n",
    "\n",
    "gbm2.fit(X_train, y_train)\n",
    "preds = gbm2.predict(X_train)\n",
    "score = rmse(y_train,preds)\n",
    "print (\"Score: \", score)\n",
    "\n",
    "feat_imp = pd.Series(gbm2.feature_importances_, input_var).sort_values(ascending=False)\n",
    "feat_imp.plot(kind='bar', title='Feature Importances')\n",
    "plt.ylabel('Feature Importance Score')"
   ]
  },
  {
   "cell_type": "code",
   "execution_count": 62,
   "metadata": {},
   "outputs": [
    {
     "data": {
      "text/html": [
       "<div>\n",
       "<style scoped>\n",
       "    .dataframe tbody tr th:only-of-type {\n",
       "        vertical-align: middle;\n",
       "    }\n",
       "\n",
       "    .dataframe tbody tr th {\n",
       "        vertical-align: top;\n",
       "    }\n",
       "\n",
       "    .dataframe thead th {\n",
       "        text-align: right;\n",
       "    }\n",
       "</style>\n",
       "<table border=\"1\" class=\"dataframe\">\n",
       "  <thead>\n",
       "    <tr style=\"text-align: right;\">\n",
       "      <th></th>\n",
       "      <th>id</th>\n",
       "      <th>18~20_ride</th>\n",
       "    </tr>\n",
       "  </thead>\n",
       "  <tbody>\n",
       "    <tr>\n",
       "      <th>19</th>\n",
       "      <td>415442</td>\n",
       "      <td>1.996171</td>\n",
       "    </tr>\n",
       "    <tr>\n",
       "      <th>50</th>\n",
       "      <td>415473</td>\n",
       "      <td>3.651787</td>\n",
       "    </tr>\n",
       "    <tr>\n",
       "      <th>72</th>\n",
       "      <td>415495</td>\n",
       "      <td>1.107652</td>\n",
       "    </tr>\n",
       "    <tr>\n",
       "      <th>183</th>\n",
       "      <td>415606</td>\n",
       "      <td>0.398969</td>\n",
       "    </tr>\n",
       "    <tr>\n",
       "      <th>184</th>\n",
       "      <td>415607</td>\n",
       "      <td>1.054893</td>\n",
       "    </tr>\n",
       "  </tbody>\n",
       "</table>\n",
       "</div>"
      ],
      "text/plain": [
       "         id  18~20_ride\n",
       "19   415442    1.996171\n",
       "50   415473    3.651787\n",
       "72   415495    1.107652\n",
       "183  415606    0.398969\n",
       "184  415607    1.054893"
      ]
     },
     "execution_count": 62,
     "metadata": {},
     "output_type": "execute_result"
    }
   ],
   "source": [
    "test_gosan['18~20_ride'] = gbm2.predict(X_test)\n",
    "test_gosan = test_gosan[['id', '18~20_ride']]\n",
    "test_gosan.head()"
   ]
  },
  {
   "cell_type": "code",
   "execution_count": 63,
   "metadata": {},
   "outputs": [
    {
     "data": {
      "text/plain": [
       "(20700, 2)"
      ]
     },
     "execution_count": 63,
     "metadata": {},
     "output_type": "execute_result"
    }
   ],
   "source": [
    "test_gosan.shape"
   ]
  },
  {
   "cell_type": "markdown",
   "metadata": {},
   "source": [
    "# 4. Seongsan"
   ]
  },
  {
   "cell_type": "code",
   "execution_count": 64,
   "metadata": {},
   "outputs": [
    {
     "data": {
      "text/plain": [
       "((36350, 55), (20054, 54))"
      ]
     },
     "execution_count": 64,
     "metadata": {},
     "output_type": "execute_result"
    }
   ],
   "source": [
    "train_seongsan = train.loc[train['location_name'] == 'seongsan']\n",
    "test_seongsan = test.loc[test['location_name'] == 'seongsan']\n",
    "\n",
    "train_seongsan.shape, test_seongsan.shape"
   ]
  },
  {
   "cell_type": "code",
   "execution_count": 65,
   "metadata": {},
   "outputs": [
    {
     "data": {
      "text/plain": [
       "((36350, 38), (36350,), (20054, 38))"
      ]
     },
     "execution_count": 65,
     "metadata": {},
     "output_type": "execute_result"
    }
   ],
   "source": [
    "input_var = [\n",
    "       'in_out', 'bus_route_id', 'station_code', \n",
    "       'latitude', 'longitude', 'weekday', \n",
    "       'bus_route_type', 'holiday', 'temperature', 'rain',\n",
    "       'windspeed', 'humidity', 'num_business_2017', 'num_employee_2017',\n",
    "       'population_2018', 'day', 'am_ride', 'am_takeoff', 'user1_geton_count',\n",
    "       'user1_getoff_count', 'user2_geton_count', 'user2_getoff_count',\n",
    "       'user4_geton_count', 'user4_getoff_count', 'user6_geton_count',\n",
    "       'user6_getoff_count', 'user27_geton_count', 'user27_getoff_count',\n",
    "       'user28_geton_count', 'user28_getoff_count', 'user29_geton_count',\n",
    "       'user29_getoff_count', 'user30_geton_count', 'user30_getoff_count',\n",
    "       'dis_jeju', 'dis_gosan', 'dis_seongsan', 'dis_seoguipo'\n",
    "]\n",
    "\n",
    "target='18~20_ride'\n",
    "\n",
    "X_train = train_seongsan[input_var]\n",
    "y_train = train_seongsan[target]\n",
    "X_test=test_seongsan[input_var]\n",
    "\n",
    "X_train.shape, y_train.shape, X_test.shape"
   ]
  },
  {
   "cell_type": "markdown",
   "metadata": {},
   "source": [
    "## 4.1. 최적의 파라미터 구하기"
   ]
  },
  {
   "cell_type": "code",
   "execution_count": 66,
   "metadata": {},
   "outputs": [
    {
     "data": {
      "text/plain": [
       "((1818, 38), (1818,))"
      ]
     },
     "execution_count": 66,
     "metadata": {},
     "output_type": "execute_result"
    }
   ],
   "source": [
    "random.seed(43)\n",
    "train_list = random.sample(list(range(X_train.shape[0])), int(round(X_train.shape[0]*0.05,0)))\n",
    "\n",
    "X_train_sample = X_train.iloc[train_list]\n",
    "y_train_sample = y_train.iloc[train_list]\n",
    "\n",
    "X_train_sample.shape, y_train_sample.shape"
   ]
  },
  {
   "cell_type": "code",
   "execution_count": 67,
   "metadata": {},
   "outputs": [
    {
     "data": {
      "text/plain": [
       "{'max_depth': 5,\n",
       " 'max_features': 'sqrt',\n",
       " 'min_samples_leaf': 3,\n",
       " 'min_samples_split': 2,\n",
       " 'subsample': 0.85}"
      ]
     },
     "execution_count": 67,
     "metadata": {},
     "output_type": "execute_result"
    }
   ],
   "source": [
    "param_grid = {\n",
    "    'max_features': ['sqrt',10, 14],\n",
    "    'min_samples_leaf': [2,3],\n",
    "    'min_samples_split': [2,4,6],\n",
    "    'max_depth': [5,6,7,8],\n",
    "    'subsample': [0.75,0.8,0.85]\n",
    "}\n",
    "\n",
    "# Create a baseline model\n",
    "gbm = GradientBoostingRegressor(learning_rate=0.12, n_estimators=200, random_state=43)\n",
    "\n",
    "# Instantiate the grid search model\n",
    "grid_search = GridSearchCV(estimator = gbm, param_grid = param_grid, cv=5)\n",
    "grid_search.fit(X_train_sample, y_train_sample)\n",
    "\n",
    "grid_search.best_params_ "
   ]
  },
  {
   "cell_type": "code",
   "execution_count": 68,
   "metadata": {},
   "outputs": [
    {
     "data": {
      "text/plain": [
       "((18175, 38), (18175,))"
      ]
     },
     "execution_count": 68,
     "metadata": {},
     "output_type": "execute_result"
    }
   ],
   "source": [
    "random.seed(43)\n",
    "train_list = random.sample(list(range(X_train.shape[0])), int(round(X_train.shape[0]*0.5,0)))\n",
    "\n",
    "X_train_sample = X_train.iloc[train_list]\n",
    "y_train_sample = y_train.iloc[train_list]\n",
    "\n",
    "X_train_sample.shape, y_train_sample.shape"
   ]
  },
  {
   "cell_type": "code",
   "execution_count": 69,
   "metadata": {},
   "outputs": [
    {
     "data": {
      "text/plain": [
       "{'max_depth': 7, 'subsample': 0.85}"
      ]
     },
     "execution_count": 69,
     "metadata": {},
     "output_type": "execute_result"
    }
   ],
   "source": [
    "param_grid = {\n",
    "    'max_depth': [5,6,7,8],\n",
    "    'subsample': [0.75,0.8,0.85]\n",
    "}\n",
    "\n",
    "# Create a baseline model\n",
    "gbm = GradientBoostingRegressor(learning_rate=0.12, n_estimators=200, max_features='sqrt',\n",
    "                                min_samples_leaf=3, min_samples_split=2, random_state=43)\n",
    "\n",
    "# Instantiate the grid search model\n",
    "grid_search = GridSearchCV(estimator = gbm, param_grid = param_grid, cv=5)\n",
    "grid_search.fit(X_train_sample, y_train_sample)\n",
    "\n",
    "grid_search.best_params_ "
   ]
  },
  {
   "cell_type": "markdown",
   "metadata": {},
   "source": [
    "## 4.2. 불필요한 Feature 제거하기"
   ]
  },
  {
   "cell_type": "markdown",
   "metadata": {},
   "source": [
    "#### Baseline"
   ]
  },
  {
   "cell_type": "code",
   "execution_count": 70,
   "metadata": {},
   "outputs": [
    {
     "data": {
      "text/plain": [
       "((36350, 38), (36350,), (20054, 38))"
      ]
     },
     "execution_count": 70,
     "metadata": {},
     "output_type": "execute_result"
    }
   ],
   "source": [
    "input_var = [\n",
    "       'in_out', 'bus_route_id', 'station_code', \n",
    "       'latitude', 'longitude', 'weekday', \n",
    "       'bus_route_type', 'holiday', 'temperature', 'rain',\n",
    "       'windspeed', 'humidity', 'num_business_2017', 'num_employee_2017',\n",
    "       'population_2018', 'day', 'am_ride', 'am_takeoff', 'user1_geton_count',\n",
    "       'user1_getoff_count', 'user2_geton_count', 'user2_getoff_count',\n",
    "       'user4_geton_count', 'user4_getoff_count', 'user6_geton_count',\n",
    "       'user6_getoff_count', 'user27_geton_count', 'user27_getoff_count',\n",
    "       'user28_geton_count', 'user28_getoff_count', 'user29_geton_count',\n",
    "       'user29_getoff_count', 'user30_geton_count', 'user30_getoff_count',\n",
    "       'dis_jeju', 'dis_gosan', 'dis_seongsan', 'dis_seoguipo'\n",
    "]\n",
    "\n",
    "target='18~20_ride'\n",
    "\n",
    "X_train = train_seongsan[input_var]\n",
    "y_train = train_seongsan[target]\n",
    "X_test=test_seongsan[input_var]\n",
    "\n",
    "X_train.shape, y_train.shape, X_test.shape"
   ]
  },
  {
   "cell_type": "code",
   "execution_count": 71,
   "metadata": {},
   "outputs": [
    {
     "name": "stdout",
     "output_type": "stream",
     "text": [
      "Score:  0.7821288674243823\n"
     ]
    },
    {
     "data": {
      "text/plain": [
       "Text(0, 0.5, 'Feature Importance Score')"
      ]
     },
     "execution_count": 71,
     "metadata": {},
     "output_type": "execute_result"
    },
    {
     "data": {
      "image/png": "[encoded data removed]",
      "text/plain": [
       "<Figure size 432x288 with 1 Axes>"
      ]
     },
     "metadata": {
      "needs_background": "light"
     },
     "output_type": "display_data"
    }
   ],
   "source": [
    "gbm3 = GradientBoostingRegressor(learning_rate=0.12, n_estimators=200, max_depth=7 , max_features= 'sqrt',\n",
    "                                 min_samples_leaf= 3, min_samples_split=2, subsample= 0.85, random_state=43)\n",
    "\n",
    "gbm3.fit(X_train, y_train)\n",
    "preds = gbm3.predict(X_train)\n",
    "score = rmse(y_train,preds)\n",
    "print (\"Score: \", score)\n",
    "\n",
    "feat_imp = pd.Series(gbm3.feature_importances_, input_var).sort_values(ascending=False)\n",
    "feat_imp.plot(kind='bar', title='Feature Importances')\n",
    "plt.ylabel('Feature Importance Score')"
   ]
  },
  {
   "cell_type": "markdown",
   "metadata": {},
   "source": [
    "#### user30_getoff_count 제거"
   ]
  },
  {
   "cell_type": "code",
   "execution_count": 72,
   "metadata": {},
   "outputs": [
    {
     "data": {
      "text/plain": [
       "((36350, 37), (36350,), (20054, 37))"
      ]
     },
     "execution_count": 72,
     "metadata": {},
     "output_type": "execute_result"
    }
   ],
   "source": [
    "input_var = [\n",
    "       'in_out', 'bus_route_id', 'station_code', \n",
    "       'latitude', 'longitude', 'weekday', \n",
    "       'bus_route_type', 'holiday', 'temperature', 'rain',\n",
    "       'windspeed', 'humidity', 'num_business_2017', 'num_employee_2017',\n",
    "       'population_2018', 'day', 'am_ride', 'am_takeoff', 'user1_geton_count',\n",
    "       'user1_getoff_count', 'user2_geton_count', 'user2_getoff_count',\n",
    "       'user4_geton_count', 'user4_getoff_count', 'user6_geton_count',\n",
    "       'user6_getoff_count', 'user27_geton_count', 'user27_getoff_count',\n",
    "       'user28_geton_count', 'user28_getoff_count', 'user29_geton_count',\n",
    "       'user29_getoff_count', 'user30_geton_count', \n",
    "       'dis_jeju', 'dis_gosan', 'dis_seongsan', 'dis_seoguipo'\n",
    "]\n",
    "\n",
    "target='18~20_ride'\n",
    "\n",
    "X_train = train_seongsan[input_var]\n",
    "y_train = train_seongsan[target]\n",
    "X_test=test_seongsan[input_var]\n",
    "\n",
    "X_train.shape, y_train.shape, X_test.shape"
   ]
  },
  {
   "cell_type": "code",
   "execution_count": 73,
   "metadata": {},
   "outputs": [
    {
     "name": "stdout",
     "output_type": "stream",
     "text": [
      "Score:  0.7798174489268013\n"
     ]
    },
    {
     "data": {
      "text/plain": [
       "Text(0, 0.5, 'Feature Importance Score')"
      ]
     },
     "execution_count": 73,
     "metadata": {},
     "output_type": "execute_result"
    },
    {
     "data": {
      "image/png": "[encoded data removed]",
      "text/plain": [
       "<Figure size 432x288 with 1 Axes>"
      ]
     },
     "metadata": {
      "needs_background": "light"
     },
     "output_type": "display_data"
    }
   ],
   "source": [
    "gbm3 = GradientBoostingRegressor(learning_rate=0.12, n_estimators=200, max_depth=7 , max_features= 'sqrt',\n",
    "                                 min_samples_leaf= 3, min_samples_split=2, subsample= 0.85, random_state=43)\n",
    "\n",
    "gbm3.fit(X_train, y_train)\n",
    "preds = gbm3.predict(X_train)\n",
    "score = rmse(y_train,preds)\n",
    "print (\"Score: \", score)\n",
    "\n",
    "feat_imp = pd.Series(gbm3.feature_importances_, input_var).sort_values(ascending=False)\n",
    "feat_imp.plot(kind='bar', title='Feature Importances')\n",
    "plt.ylabel('Feature Importance Score')"
   ]
  },
  {
   "cell_type": "markdown",
   "metadata": {},
   "source": [
    "#### user30_getoff_count, user30_geton_count 제거"
   ]
  },
  {
   "cell_type": "code",
   "execution_count": 74,
   "metadata": {},
   "outputs": [
    {
     "data": {
      "text/plain": [
       "((36350, 36), (36350,), (20054, 36))"
      ]
     },
     "execution_count": 74,
     "metadata": {},
     "output_type": "execute_result"
    }
   ],
   "source": [
    "input_var = [\n",
    "       'in_out', 'bus_route_id', 'station_code', \n",
    "       'latitude', 'longitude', 'weekday', \n",
    "       'bus_route_type', 'holiday', 'temperature', 'rain',\n",
    "       'windspeed', 'humidity', 'num_business_2017', 'num_employee_2017',\n",
    "       'population_2018', 'day', 'am_ride', 'am_takeoff', 'user1_geton_count',\n",
    "       'user1_getoff_count', 'user2_geton_count', 'user2_getoff_count',\n",
    "       'user4_geton_count', 'user4_getoff_count', 'user6_geton_count',\n",
    "       'user6_getoff_count', 'user27_geton_count', 'user27_getoff_count',\n",
    "       'user28_geton_count', 'user28_getoff_count', 'user29_geton_count',\n",
    "       'user29_getoff_count',  \n",
    "       'dis_jeju', 'dis_gosan', 'dis_seongsan', 'dis_seoguipo'\n",
    "]\n",
    "\n",
    "target='18~20_ride'\n",
    "\n",
    "X_train = train_seongsan[input_var]\n",
    "y_train = train_seongsan[target]\n",
    "X_test=test_seongsan[input_var]\n",
    "\n",
    "X_train.shape, y_train.shape, X_test.shape"
   ]
  },
  {
   "cell_type": "code",
   "execution_count": 75,
   "metadata": {},
   "outputs": [
    {
     "name": "stdout",
     "output_type": "stream",
     "text": [
      "Score:  0.7720029400650233\n"
     ]
    },
    {
     "data": {
      "text/plain": [
       "Text(0, 0.5, 'Feature Importance Score')"
      ]
     },
     "execution_count": 75,
     "metadata": {},
     "output_type": "execute_result"
    },
    {
     "data": {
      "image/png": "[encoded data removed]",
      "text/plain": [
       "<Figure size 432x288 with 1 Axes>"
      ]
     },
     "metadata": {
      "needs_background": "light"
     },
     "output_type": "display_data"
    }
   ],
   "source": [
    "gbm3 = GradientBoostingRegressor(learning_rate=0.12, n_estimators=200, max_depth=7 , max_features= 'sqrt',\n",
    "                                 min_samples_leaf= 3, min_samples_split=2, subsample= 0.85, random_state=43)\n",
    "\n",
    "gbm3.fit(X_train, y_train)\n",
    "preds = gbm3.predict(X_train)\n",
    "score = rmse(y_train,preds)\n",
    "print (\"Score: \", score)\n",
    "\n",
    "feat_imp = pd.Series(gbm3.feature_importances_, input_var).sort_values(ascending=False)\n",
    "feat_imp.plot(kind='bar', title='Feature Importances')\n",
    "plt.ylabel('Feature Importance Score')"
   ]
  },
  {
   "cell_type": "markdown",
   "metadata": {},
   "source": [
    "#### user30_getoff_count, user30_geton_count, in_out 제거"
   ]
  },
  {
   "cell_type": "code",
   "execution_count": 76,
   "metadata": {},
   "outputs": [
    {
     "data": {
      "text/plain": [
       "((36350, 35), (36350,), (20054, 35))"
      ]
     },
     "execution_count": 76,
     "metadata": {},
     "output_type": "execute_result"
    }
   ],
   "source": [
    "input_var = [\n",
    "       'bus_route_id', 'station_code', \n",
    "       'latitude', 'longitude', 'weekday', \n",
    "       'bus_route_type', 'holiday', 'temperature', 'rain',\n",
    "       'windspeed', 'humidity', 'num_business_2017', 'num_employee_2017',\n",
    "       'population_2018', 'day', 'am_ride', 'am_takeoff', 'user1_geton_count',\n",
    "       'user1_getoff_count', 'user2_geton_count', 'user2_getoff_count',\n",
    "       'user4_geton_count', 'user4_getoff_count', 'user6_geton_count',\n",
    "       'user6_getoff_count', 'user27_geton_count', 'user27_getoff_count',\n",
    "       'user28_geton_count', 'user28_getoff_count', 'user29_geton_count',\n",
    "       'user29_getoff_count',  \n",
    "       'dis_jeju', 'dis_gosan', 'dis_seongsan', 'dis_seoguipo'\n",
    "]\n",
    "\n",
    "target='18~20_ride'\n",
    "\n",
    "X_train = train_seongsan[input_var]\n",
    "y_train = train_seongsan[target]\n",
    "X_test=test_seongsan[input_var]\n",
    "\n",
    "X_train.shape, y_train.shape, X_test.shape"
   ]
  },
  {
   "cell_type": "code",
   "execution_count": 77,
   "metadata": {},
   "outputs": [
    {
     "name": "stdout",
     "output_type": "stream",
     "text": [
      "Score:  0.7989085124947168\n"
     ]
    },
    {
     "data": {
      "text/plain": [
       "Text(0, 0.5, 'Feature Importance Score')"
      ]
     },
     "execution_count": 77,
     "metadata": {},
     "output_type": "execute_result"
    },
    {
     "data": {
      "image/png": "[encoded data removed]",
      "text/plain": [
       "<Figure size 432x288 with 1 Axes>"
      ]
     },
     "metadata": {
      "needs_background": "light"
     },
     "output_type": "display_data"
    }
   ],
   "source": [
    "gbm3 = GradientBoostingRegressor(learning_rate=0.12, n_estimators=200, max_depth=7 , max_features= 'sqrt',\n",
    "                                 min_samples_leaf= 3, min_samples_split=2, subsample= 0.85, random_state=43)\n",
    "\n",
    "gbm3.fit(X_train, y_train)\n",
    "preds = gbm3.predict(X_train)\n",
    "score = rmse(y_train,preds)\n",
    "print (\"Score: \", score)\n",
    "\n",
    "feat_imp = pd.Series(gbm3.feature_importances_, input_var).sort_values(ascending=False)\n",
    "feat_imp.plot(kind='bar', title='Feature Importances')\n",
    "plt.ylabel('Feature Importance Score')"
   ]
  },
  {
   "cell_type": "markdown",
   "metadata": {},
   "source": [
    "- user30_getoff_count, user30_geton_count만 제거하기로 한다"
   ]
  },
  {
   "cell_type": "markdown",
   "metadata": {},
   "source": [
    "## 4.3. 최적의 결과 test_seongsan에 적용"
   ]
  },
  {
   "cell_type": "code",
   "execution_count": 78,
   "metadata": {},
   "outputs": [
    {
     "data": {
      "text/plain": [
       "((36350, 36), (36350,), (20054, 36))"
      ]
     },
     "execution_count": 78,
     "metadata": {},
     "output_type": "execute_result"
    }
   ],
   "source": [
    "input_var = [\n",
    "       'in_out', 'bus_route_id', 'station_code', \n",
    "       'latitude', 'longitude', 'weekday', \n",
    "       'bus_route_type', 'holiday', 'temperature', 'rain',\n",
    "       'windspeed', 'humidity', 'num_business_2017', 'num_employee_2017',\n",
    "       'population_2018', 'day', 'am_ride', 'am_takeoff', 'user1_geton_count',\n",
    "       'user1_getoff_count', 'user2_geton_count', 'user2_getoff_count',\n",
    "       'user4_geton_count', 'user4_getoff_count', 'user6_geton_count',\n",
    "       'user6_getoff_count', 'user27_geton_count', 'user27_getoff_count',\n",
    "       'user28_geton_count', 'user28_getoff_count', 'user29_geton_count',\n",
    "       'user29_getoff_count',  \n",
    "       'dis_jeju', 'dis_gosan', 'dis_seongsan', 'dis_seoguipo'\n",
    "]\n",
    "\n",
    "target='18~20_ride'\n",
    "\n",
    "X_train = train_seongsan[input_var]\n",
    "y_train = train_seongsan[target]\n",
    "X_test=test_seongsan[input_var]\n",
    "\n",
    "X_train.shape, y_train.shape, X_test.shape"
   ]
  },
  {
   "cell_type": "code",
   "execution_count": 79,
   "metadata": {},
   "outputs": [
    {
     "name": "stdout",
     "output_type": "stream",
     "text": [
      "Score:  0.7720029400650233\n"
     ]
    },
    {
     "data": {
      "text/plain": [
       "Text(0, 0.5, 'Feature Importance Score')"
      ]
     },
     "execution_count": 79,
     "metadata": {},
     "output_type": "execute_result"
    },
    {
     "data": {
      "image/png": "[encoded data removed]",
      "text/plain": [
       "<Figure size 432x288 with 1 Axes>"
      ]
     },
     "metadata": {
      "needs_background": "light"
     },
     "output_type": "display_data"
    }
   ],
   "source": [
    "gbm3 = GradientBoostingRegressor(learning_rate=0.12, n_estimators=200, max_depth=7 , max_features= 'sqrt',\n",
    "                                 min_samples_leaf= 3, min_samples_split=2, subsample= 0.85, random_state=43)\n",
    "\n",
    "gbm3.fit(X_train, y_train)\n",
    "preds = gbm3.predict(X_train)\n",
    "score = rmse(y_train,preds)\n",
    "print (\"Score: \", score)\n",
    "\n",
    "feat_imp = pd.Series(gbm3.feature_importances_, input_var).sort_values(ascending=False)\n",
    "feat_imp.plot(kind='bar', title='Feature Importances')\n",
    "plt.ylabel('Feature Importance Score')"
   ]
  },
  {
   "cell_type": "code",
   "execution_count": 80,
   "metadata": {},
   "outputs": [
    {
     "data": {
      "text/html": [
       "<div>\n",
       "<style scoped>\n",
       "    .dataframe tbody tr th:only-of-type {\n",
       "        vertical-align: middle;\n",
       "    }\n",
       "\n",
       "    .dataframe tbody tr th {\n",
       "        vertical-align: top;\n",
       "    }\n",
       "\n",
       "    .dataframe thead th {\n",
       "        text-align: right;\n",
       "    }\n",
       "</style>\n",
       "<table border=\"1\" class=\"dataframe\">\n",
       "  <thead>\n",
       "    <tr style=\"text-align: right;\">\n",
       "      <th></th>\n",
       "      <th>id</th>\n",
       "      <th>18~20_ride</th>\n",
       "    </tr>\n",
       "  </thead>\n",
       "  <tbody>\n",
       "    <tr>\n",
       "      <th>105</th>\n",
       "      <td>415528</td>\n",
       "      <td>-0.621183</td>\n",
       "    </tr>\n",
       "    <tr>\n",
       "      <th>106</th>\n",
       "      <td>415529</td>\n",
       "      <td>0.081797</td>\n",
       "    </tr>\n",
       "    <tr>\n",
       "      <th>116</th>\n",
       "      <td>415539</td>\n",
       "      <td>2.114192</td>\n",
       "    </tr>\n",
       "    <tr>\n",
       "      <th>117</th>\n",
       "      <td>415540</td>\n",
       "      <td>2.297464</td>\n",
       "    </tr>\n",
       "    <tr>\n",
       "      <th>119</th>\n",
       "      <td>415542</td>\n",
       "      <td>1.560910</td>\n",
       "    </tr>\n",
       "  </tbody>\n",
       "</table>\n",
       "</div>"
      ],
      "text/plain": [
       "         id  18~20_ride\n",
       "105  415528   -0.621183\n",
       "106  415529    0.081797\n",
       "116  415539    2.114192\n",
       "117  415540    2.297464\n",
       "119  415542    1.560910"
      ]
     },
     "execution_count": 80,
     "metadata": {},
     "output_type": "execute_result"
    }
   ],
   "source": [
    "test_seongsan['18~20_ride'] = gbm3.predict(X_test)\n",
    "test_seongsan = test_seongsan[['id', '18~20_ride']]\n",
    "test_seongsan.head()"
   ]
  },
  {
   "cell_type": "code",
   "execution_count": 81,
   "metadata": {},
   "outputs": [
    {
     "data": {
      "text/plain": [
       "(20054, 2)"
      ]
     },
     "execution_count": 81,
     "metadata": {},
     "output_type": "execute_result"
    }
   ],
   "source": [
    "test_seongsan.shape"
   ]
  },
  {
   "cell_type": "markdown",
   "metadata": {},
   "source": [
    "# 지역별 결과 합치기"
   ]
  },
  {
   "cell_type": "code",
   "execution_count": 82,
   "metadata": {},
   "outputs": [
    {
     "data": {
      "text/plain": [
       "((136784, 2), (50632, 2), (20700, 2), (20054, 2))"
      ]
     },
     "execution_count": 82,
     "metadata": {},
     "output_type": "execute_result"
    }
   ],
   "source": [
    "test_jeju.shape, test_seoguipo.shape, test_gosan.shape, test_seongsan.shape"
   ]
  },
  {
   "cell_type": "code",
   "execution_count": 83,
   "metadata": {},
   "outputs": [
    {
     "data": {
      "text/plain": [
       "(228170, 2)"
      ]
     },
     "execution_count": 83,
     "metadata": {},
     "output_type": "execute_result"
    }
   ],
   "source": [
    "result = pd.concat([test_jeju, test_seoguipo, test_gosan, test_seongsan])\n",
    "result.shape"
   ]
  },
  {
   "cell_type": "code",
   "execution_count": 84,
   "metadata": {},
   "outputs": [],
   "source": [
    "sample = pd.read_csv(\"submission_sample.csv\")\n",
    "del sample['18~20_ride']"
   ]
  },
  {
   "cell_type": "markdown",
   "metadata": {},
   "source": [
    "#### id순서를 sample에 맞추기 위해 sample에 merge"
   ]
  },
  {
   "cell_type": "code",
   "execution_count": 85,
   "metadata": {},
   "outputs": [
    {
     "data": {
      "text/html": [
       "<div>\n",
       "<style scoped>\n",
       "    .dataframe tbody tr th:only-of-type {\n",
       "        vertical-align: middle;\n",
       "    }\n",
       "\n",
       "    .dataframe tbody tr th {\n",
       "        vertical-align: top;\n",
       "    }\n",
       "\n",
       "    .dataframe thead th {\n",
       "        text-align: right;\n",
       "    }\n",
       "</style>\n",
       "<table border=\"1\" class=\"dataframe\">\n",
       "  <thead>\n",
       "    <tr style=\"text-align: right;\">\n",
       "      <th></th>\n",
       "      <th>id</th>\n",
       "      <th>18~20_ride</th>\n",
       "    </tr>\n",
       "  </thead>\n",
       "  <tbody>\n",
       "    <tr>\n",
       "      <th>0</th>\n",
       "      <td>415423</td>\n",
       "      <td>1.634272</td>\n",
       "    </tr>\n",
       "    <tr>\n",
       "      <th>1</th>\n",
       "      <td>415424</td>\n",
       "      <td>4.181670</td>\n",
       "    </tr>\n",
       "    <tr>\n",
       "      <th>2</th>\n",
       "      <td>415425</td>\n",
       "      <td>0.908170</td>\n",
       "    </tr>\n",
       "    <tr>\n",
       "      <th>3</th>\n",
       "      <td>415426</td>\n",
       "      <td>18.861597</td>\n",
       "    </tr>\n",
       "    <tr>\n",
       "      <th>4</th>\n",
       "      <td>415427</td>\n",
       "      <td>1.428282</td>\n",
       "    </tr>\n",
       "  </tbody>\n",
       "</table>\n",
       "</div>"
      ],
      "text/plain": [
       "       id  18~20_ride\n",
       "0  415423    1.634272\n",
       "1  415424    4.181670\n",
       "2  415425    0.908170\n",
       "3  415426   18.861597\n",
       "4  415427    1.428282"
      ]
     },
     "execution_count": 85,
     "metadata": {},
     "output_type": "execute_result"
    }
   ],
   "source": [
    "final = pd.merge(sample, result, how='left', on='id')\n",
    "final.head()"
   ]
  },
  {
   "cell_type": "code",
   "execution_count": 86,
   "metadata": {},
   "outputs": [
    {
     "data": {
      "text/plain": [
       "(228170, 2)"
      ]
     },
     "execution_count": 86,
     "metadata": {},
     "output_type": "execute_result"
    }
   ],
   "source": [
    "final.shape"
   ]
  },
  {
   "cell_type": "code",
   "execution_count": 87,
   "metadata": {},
   "outputs": [
    {
     "data": {
      "text/plain": [
       "id            0\n",
       "18~20_ride    0\n",
       "dtype: int64"
      ]
     },
     "execution_count": 87,
     "metadata": {},
     "output_type": "execute_result"
    }
   ],
   "source": [
    "final.isnull().sum()"
   ]
  },
  {
   "cell_type": "code",
   "execution_count": 88,
   "metadata": {},
   "outputs": [],
   "source": [
    "final.to_csv(\"submission_best.csv\", index=False)"
   ]
  },
  {
   "cell_type": "code",
   "execution_count": 89,
   "metadata": {},
   "outputs": [],
   "source": [
    "final = pd.read_csv(\"submission_best.csv\")"
   ]
  },
  {
   "cell_type": "code",
   "execution_count": 90,
   "metadata": {},
   "outputs": [
    {
     "data": {
      "text/html": [
       "<div>\n",
       "<style scoped>\n",
       "    .dataframe tbody tr th:only-of-type {\n",
       "        vertical-align: middle;\n",
       "    }\n",
       "\n",
       "    .dataframe tbody tr th {\n",
       "        vertical-align: top;\n",
       "    }\n",
       "\n",
       "    .dataframe thead th {\n",
       "        text-align: right;\n",
       "    }\n",
       "</style>\n",
       "<table border=\"1\" class=\"dataframe\">\n",
       "  <thead>\n",
       "    <tr style=\"text-align: right;\">\n",
       "      <th></th>\n",
       "      <th>id</th>\n",
       "      <th>18~20_ride</th>\n",
       "    </tr>\n",
       "  </thead>\n",
       "  <tbody>\n",
       "    <tr>\n",
       "      <th>0</th>\n",
       "      <td>415423</td>\n",
       "      <td>1.634272</td>\n",
       "    </tr>\n",
       "    <tr>\n",
       "      <th>1</th>\n",
       "      <td>415424</td>\n",
       "      <td>4.181670</td>\n",
       "    </tr>\n",
       "    <tr>\n",
       "      <th>2</th>\n",
       "      <td>415425</td>\n",
       "      <td>0.908170</td>\n",
       "    </tr>\n",
       "    <tr>\n",
       "      <th>3</th>\n",
       "      <td>415426</td>\n",
       "      <td>18.861597</td>\n",
       "    </tr>\n",
       "    <tr>\n",
       "      <th>4</th>\n",
       "      <td>415427</td>\n",
       "      <td>1.428282</td>\n",
       "    </tr>\n",
       "  </tbody>\n",
       "</table>\n",
       "</div>"
      ],
      "text/plain": [
       "       id  18~20_ride\n",
       "0  415423    1.634272\n",
       "1  415424    4.181670\n",
       "2  415425    0.908170\n",
       "3  415426   18.861597\n",
       "4  415427    1.428282"
      ]
     },
     "execution_count": 90,
     "metadata": {},
     "output_type": "execute_result"
    }
   ],
   "source": [
    "final.head()"
   ]
  },
  {
   "cell_type": "code",
   "execution_count": 91,
   "metadata": {},
   "outputs": [
    {
     "data": {
      "text/plain": [
       "(228170, 2)"
      ]
     },
     "execution_count": 91,
     "metadata": {},
     "output_type": "execute_result"
    }
   ],
   "source": [
    "final.shape"
   ]
  },
  {
   "cell_type": "markdown",
   "metadata": {},
   "source": [
    "- 모든 지역의 파라미터를 `learning_rate=0.1, n_estimators=200` 으로 통일하고 돌렸을 때 점수는 2.419556473 이었는데 각 지역 별로 `learning_rate` 조정해주었더니 점수가 2.419400983으로 올랐다!  "
   ]
  }
 ],
 "metadata": {
  "kernelspec": {
   "display_name": "Python 3",
   "language": "python",
   "name": "python3"
  },
  "language_info": {
   "codemirror_mode": {
    "name": "ipython",
    "version": 3
   },
   "file_extension": ".py",
   "mimetype": "text/x-python",
   "name": "python",
   "nbconvert_exporter": "python",
   "pygments_lexer": "ipython3",
   "version": "3.6.5"
  }
 },
 "nbformat": 4,
 "nbformat_minor": 2
}
