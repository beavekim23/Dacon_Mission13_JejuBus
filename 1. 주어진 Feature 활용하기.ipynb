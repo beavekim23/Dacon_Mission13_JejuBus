{
 "cells": [
  {
   "cell_type": "code",
   "execution_count": 1,
   "metadata": {},
   "outputs": [],
   "source": [
    "import pandas as pd\n",
    "import numpy as np\n",
    "import geopy.distance\n",
    "import warnings\n",
    "warnings.filterwarnings('ignore')"
   ]
  },
  {
   "cell_type": "code",
   "execution_count": 2,
   "metadata": {},
   "outputs": [],
   "source": [
    "train = pd.read_csv(\"train.csv\")\n",
    "test = pd.read_csv(\"test.csv\")"
   ]
  },
  {
   "cell_type": "code",
   "execution_count": 3,
   "metadata": {},
   "outputs": [
    {
     "data": {
      "text/plain": [
       "((415423, 21), (228170, 20))"
      ]
     },
     "execution_count": 3,
     "metadata": {},
     "output_type": "execute_result"
    }
   ],
   "source": [
    "train.shape, test.shape"
   ]
  },
  {
   "cell_type": "code",
   "execution_count": 4,
   "metadata": {},
   "outputs": [
    {
     "data": {
      "text/plain": [
       "id                 int64\n",
       "date              object\n",
       "bus_route_id       int64\n",
       "in_out            object\n",
       "station_code       int64\n",
       "station_name      object\n",
       "latitude         float64\n",
       "longitude        float64\n",
       "6~7_ride         float64\n",
       "7~8_ride         float64\n",
       "8~9_ride         float64\n",
       "9~10_ride        float64\n",
       "10~11_ride       float64\n",
       "11~12_ride       float64\n",
       "6~7_takeoff      float64\n",
       "7~8_takeoff      float64\n",
       "8~9_takeoff      float64\n",
       "9~10_takeoff     float64\n",
       "10~11_takeoff    float64\n",
       "11~12_takeoff    float64\n",
       "18~20_ride       float64\n",
       "dtype: object"
      ]
     },
     "execution_count": 4,
     "metadata": {},
     "output_type": "execute_result"
    }
   ],
   "source": [
    "train.dtypes"
   ]
  },
  {
   "cell_type": "code",
   "execution_count": 5,
   "metadata": {},
   "outputs": [
    {
     "data": {
      "text/plain": [
       "id                 int64\n",
       "date              object\n",
       "bus_route_id       int64\n",
       "in_out            object\n",
       "station_code       int64\n",
       "station_name      object\n",
       "latitude         float64\n",
       "longitude        float64\n",
       "6~7_ride         float64\n",
       "7~8_ride         float64\n",
       "8~9_ride         float64\n",
       "9~10_ride        float64\n",
       "10~11_ride       float64\n",
       "11~12_ride       float64\n",
       "6~7_takeoff      float64\n",
       "7~8_takeoff      float64\n",
       "8~9_takeoff      float64\n",
       "9~10_takeoff     float64\n",
       "10~11_takeoff    float64\n",
       "11~12_takeoff    float64\n",
       "dtype: object"
      ]
     },
     "execution_count": 5,
     "metadata": {},
     "output_type": "execute_result"
    }
   ],
   "source": [
    "test.dtypes"
   ]
  },
  {
   "cell_type": "markdown",
   "metadata": {},
   "source": [
    "# 1. date  \n",
    "- 날짜  \n",
    "- object type인 date를 datetime으로 변환한 후  \n",
    "  - dt.weekday를 이용해 weekday를 추출하여 새로운 컬럼으로 추가  \n",
    "  - dt.day를 이용해 day를 추출하여 새로운 컬럼으로 추가"
   ]
  },
  {
   "cell_type": "code",
   "execution_count": 6,
   "metadata": {},
   "outputs": [],
   "source": [
    "train['date'] = pd.to_datetime(train['date'])\n",
    "train['weekday'] = train['date'].dt.weekday\n",
    "train['day'] = train['date'].dt.day"
   ]
  },
  {
   "cell_type": "markdown",
   "metadata": {},
   "source": [
    "test에도 똑같이 적용"
   ]
  },
  {
   "cell_type": "code",
   "execution_count": 7,
   "metadata": {},
   "outputs": [],
   "source": [
    "test['date'] = pd.to_datetime(train['date'])\n",
    "test['weekday'] = test['date'].dt.weekday\n",
    "test['day'] = test['date'].dt.day"
   ]
  },
  {
   "cell_type": "markdown",
   "metadata": {},
   "source": [
    "확인"
   ]
  },
  {
   "cell_type": "code",
   "execution_count": 8,
   "metadata": {},
   "outputs": [
    {
     "data": {
      "text/plain": [
       "((415423, 23), (228170, 22))"
      ]
     },
     "execution_count": 8,
     "metadata": {},
     "output_type": "execute_result"
    }
   ],
   "source": [
    "train.shape, test.shape"
   ]
  },
  {
   "cell_type": "markdown",
   "metadata": {},
   "source": [
    "# 2. in_out  \n",
    "- 시내버스/시외버스 구분  \n",
    "- value_counts()에서 더 많은 쪽을 0, 적은 쪽을 1로 변경 "
   ]
  },
  {
   "cell_type": "code",
   "execution_count": 9,
   "metadata": {},
   "outputs": [
    {
     "data": {
      "text/plain": [
       "시내    408500\n",
       "시외      6923\n",
       "Name: in_out, dtype: int64"
      ]
     },
     "execution_count": 9,
     "metadata": {},
     "output_type": "execute_result"
    }
   ],
   "source": [
    "train['in_out'].value_counts()"
   ]
  },
  {
   "cell_type": "code",
   "execution_count": 10,
   "metadata": {},
   "outputs": [],
   "source": [
    "train['in_out'] = train['in_out'].map({'시내':0, '시외':1})"
   ]
  },
  {
   "cell_type": "code",
   "execution_count": 11,
   "metadata": {},
   "outputs": [],
   "source": [
    "test['in_out'] = test['in_out'].map({'시내':0, '시외':1})"
   ]
  },
  {
   "cell_type": "code",
   "execution_count": 12,
   "metadata": {},
   "outputs": [
    {
     "data": {
      "text/plain": [
       "((415423, 23), (228170, 22))"
      ]
     },
     "execution_count": 12,
     "metadata": {},
     "output_type": "execute_result"
    }
   ],
   "source": [
    "train.shape, test.shape"
   ]
  },
  {
   "cell_type": "markdown",
   "metadata": {},
   "source": [
    "# 3. 승차, 하차 인원   \n",
    "- 6:00:00-11:59:59까지 승/하차 인원  \n",
    "- 더욱 강한 상관관계를 위해 시간대별 승하차 인원을 각각 오전시간 승차인원, 하차인원으로 합해준다   "
   ]
  },
  {
   "cell_type": "code",
   "execution_count": 13,
   "metadata": {},
   "outputs": [],
   "source": [
    "train['a68_ride']=train['6~7_ride']+train['7~8_ride']\n",
    "train['a810_ride']=train['8~9_ride']+train['9~10_ride']\n",
    "train['a1012_ride']=train['10~11_ride']+train['11~12_ride']\n",
    "\n",
    "train['a68_takeoff']=train['6~7_takeoff']+train['7~8_takeoff']\n",
    "train['a810_takeoff']=train['8~9_takeoff']+train['9~10_takeoff']\n",
    "train['a1012_takeoff']=train['10~11_takeoff']+train['11~12_takeoff']"
   ]
  },
  {
   "cell_type": "code",
   "execution_count": 14,
   "metadata": {},
   "outputs": [],
   "source": [
    "test['a68_ride']=test['6~7_ride']+test['7~8_ride']\n",
    "test['a810_ride']=test['8~9_ride']+test['9~10_ride']\n",
    "test['a1012_ride']=test['10~11_ride']+test['11~12_ride']\n",
    "\n",
    "test['a68_takeoff']=test['6~7_takeoff']+test['7~8_takeoff']\n",
    "test['a810_takeoff']=test['8~9_takeoff']+test['9~10_takeoff']\n",
    "test['a1012_takeoff']=test['10~11_takeoff']+test['11~12_takeoff']"
   ]
  },
  {
   "cell_type": "markdown",
   "metadata": {},
   "source": [
    "확인"
   ]
  },
  {
   "cell_type": "code",
   "execution_count": 15,
   "metadata": {},
   "outputs": [
    {
     "data": {
      "text/plain": [
       "((415423, 29), (228170, 28))"
      ]
     },
     "execution_count": 15,
     "metadata": {},
     "output_type": "execute_result"
    }
   ],
   "source": [
    "train.shape, test.shape"
   ]
  },
  {
   "cell_type": "markdown",
   "metadata": {},
   "source": [
    "# 4. 좌표 데이터 활용하기  \n",
    "1. 네 군데 기상대와의 거리와 가장 가까운 기상대 이름을 feature로 추가해주기   \n",
    "\n",
    "  - 제주 측정소의 위.경도 : 33.51411, 126.52969  \n",
    "  - 고산 측정소의 위.경도 : 33.29382, 126.16283  \n",
    "  - 성산 측정소의 위.경도 : 33.38677, 126.880  \n",
    "  - 서귀포 측정소의 위.경도 : 33.24616, 126.5653  \n",
    "  \n",
    "2. reverse_geocode를 이용해 주소 구하고 feature로 추가해주기"
   ]
  },
  {
   "cell_type": "markdown",
   "metadata": {},
   "source": [
    "## 4.1 네 군데 기상대와의 거리와 가장 가까운 기상대 이름을 feature로 추가해주기  \n",
    "- 해당 버스 정류장으로부터 네 기상대와의 거리는 각각 dis_jeju, dis_gosan, dis_seongsan, dis_seoguipo, dis_seoguipo  \n",
    "- 해당 버스 정류장으로부터 가장 가까운 기상대 이름은 location_name으로 추가  "
   ]
  },
  {
   "cell_type": "code",
   "execution_count": 16,
   "metadata": {},
   "outputs": [],
   "source": [
    "jeju = (33.51411, 126.52969)\n",
    "gosan = (33.29382, 126.16283)\n",
    "seongsan = (33.38677, 126.880)\n",
    "seoguipo = (33.24616, 126.5653)"
   ]
  },
  {
   "cell_type": "markdown",
   "metadata": {},
   "source": [
    "#### 중복 제거한 데이터 만들기  \n",
    "- 정류장별 데이터를 구하면 되기 때문에 원활한 작업을 위해 중복을 제거  \n",
    "- station_name, latitude, longitude 기준으로 중복 제거"
   ]
  },
  {
   "cell_type": "code",
   "execution_count": 17,
   "metadata": {},
   "outputs": [
    {
     "data": {
      "text/html": [
       "<div>\n",
       "<style scoped>\n",
       "    .dataframe tbody tr th:only-of-type {\n",
       "        vertical-align: middle;\n",
       "    }\n",
       "\n",
       "    .dataframe tbody tr th {\n",
       "        vertical-align: top;\n",
       "    }\n",
       "\n",
       "    .dataframe thead th {\n",
       "        text-align: right;\n",
       "    }\n",
       "</style>\n",
       "<table border=\"1\" class=\"dataframe\">\n",
       "  <thead>\n",
       "    <tr style=\"text-align: right;\">\n",
       "      <th></th>\n",
       "      <th>station_code</th>\n",
       "      <th>latitude</th>\n",
       "      <th>longitude</th>\n",
       "    </tr>\n",
       "  </thead>\n",
       "  <tbody>\n",
       "    <tr>\n",
       "      <th>0</th>\n",
       "      <td>344</td>\n",
       "      <td>33.48990</td>\n",
       "      <td>126.49373</td>\n",
       "    </tr>\n",
       "    <tr>\n",
       "      <th>1</th>\n",
       "      <td>357</td>\n",
       "      <td>33.48944</td>\n",
       "      <td>126.48508</td>\n",
       "    </tr>\n",
       "    <tr>\n",
       "      <th>2</th>\n",
       "      <td>432</td>\n",
       "      <td>33.48181</td>\n",
       "      <td>126.47352</td>\n",
       "    </tr>\n",
       "    <tr>\n",
       "      <th>3</th>\n",
       "      <td>1579</td>\n",
       "      <td>33.50577</td>\n",
       "      <td>126.49252</td>\n",
       "    </tr>\n",
       "    <tr>\n",
       "      <th>4</th>\n",
       "      <td>1646</td>\n",
       "      <td>33.25579</td>\n",
       "      <td>126.41260</td>\n",
       "    </tr>\n",
       "  </tbody>\n",
       "</table>\n",
       "</div>"
      ],
      "text/plain": [
       "   station_code  latitude  longitude\n",
       "0           344  33.48990  126.49373\n",
       "1           357  33.48944  126.48508\n",
       "2           432  33.48181  126.47352\n",
       "3          1579  33.50577  126.49252\n",
       "4          1646  33.25579  126.41260"
      ]
     },
     "execution_count": 17,
     "metadata": {},
     "output_type": "execute_result"
    }
   ],
   "source": [
    "data2 = train[['station_code','latitude', 'longitude']].drop_duplicates(keep='first')\n",
    "data2.head()"
   ]
  },
  {
   "cell_type": "markdown",
   "metadata": {},
   "source": [
    "#### 각 정류장과 제주도에 존재하는 4군데의 기상 측정소와의 거리를 계산하여 t1~t4에 할당"
   ]
  },
  {
   "cell_type": "code",
   "execution_count": 18,
   "metadata": {},
   "outputs": [],
   "source": [
    "t1 = [geopy.distance.vincenty((i,j), jeju).km for i,j in list(zip(data2['latitude'],data2['longitude']))]\n",
    "t2 = [geopy.distance.vincenty((i,j), gosan).km for i,j in list(zip(data2['latitude'],data2['longitude']))]\n",
    "t3 = [geopy.distance.vincenty((i,j), seongsan).km for i,j in list(zip(data2['latitude'],data2['longitude']))]\n",
    "t4 = [geopy.distance.vincenty((i,j), seoguipo).km for i,j in list(zip(data2['latitude'],data2['longitude']))]\n",
    "\n",
    "data2['dis_jeju']=t1\n",
    "data2['dis_gosan']=t2\n",
    "data2['dis_seongsan']=t3\n",
    "data2['dis_seoguipo']=t4"
   ]
  },
  {
   "cell_type": "markdown",
   "metadata": {},
   "source": [
    "#### 각 정류소에서 가장 가까운 곳에 있는 측정소를 location_name으로 추가해주기"
   ]
  },
  {
   "cell_type": "code",
   "execution_count": 19,
   "metadata": {},
   "outputs": [
    {
     "data": {
      "text/html": [
       "<div>\n",
       "<style scoped>\n",
       "    .dataframe tbody tr th:only-of-type {\n",
       "        vertical-align: middle;\n",
       "    }\n",
       "\n",
       "    .dataframe tbody tr th {\n",
       "        vertical-align: top;\n",
       "    }\n",
       "\n",
       "    .dataframe thead th {\n",
       "        text-align: right;\n",
       "    }\n",
       "</style>\n",
       "<table border=\"1\" class=\"dataframe\">\n",
       "  <thead>\n",
       "    <tr style=\"text-align: right;\">\n",
       "      <th></th>\n",
       "      <th>dis_jeju</th>\n",
       "      <th>dis_gosan</th>\n",
       "      <th>dis_seongsan</th>\n",
       "      <th>dis_seoguipo</th>\n",
       "      <th>location_name</th>\n",
       "    </tr>\n",
       "  </thead>\n",
       "  <tbody>\n",
       "    <tr>\n",
       "      <th>0</th>\n",
       "      <td>4.286659</td>\n",
       "      <td>37.692766</td>\n",
       "      <td>37.695909</td>\n",
       "      <td>27.841879</td>\n",
       "      <td>jeju</td>\n",
       "    </tr>\n",
       "    <tr>\n",
       "      <th>1</th>\n",
       "      <td>4.966848</td>\n",
       "      <td>37.008492</td>\n",
       "      <td>38.448058</td>\n",
       "      <td>27.996179</td>\n",
       "      <td>jeju</td>\n",
       "    </tr>\n",
       "    <tr>\n",
       "      <th>2</th>\n",
       "      <td>6.330746</td>\n",
       "      <td>35.642126</td>\n",
       "      <td>39.241905</td>\n",
       "      <td>27.496551</td>\n",
       "      <td>jeju</td>\n",
       "    </tr>\n",
       "    <tr>\n",
       "      <th>3</th>\n",
       "      <td>3.575272</td>\n",
       "      <td>38.643401</td>\n",
       "      <td>38.369340</td>\n",
       "      <td>29.579404</td>\n",
       "      <td>jeju</td>\n",
       "    </tr>\n",
       "    <tr>\n",
       "      <th>4</th>\n",
       "      <td>30.652098</td>\n",
       "      <td>23.648361</td>\n",
       "      <td>45.881475</td>\n",
       "      <td>14.269792</td>\n",
       "      <td>seoguipo</td>\n",
       "    </tr>\n",
       "  </tbody>\n",
       "</table>\n",
       "</div>"
      ],
      "text/plain": [
       "    dis_jeju  dis_gosan  dis_seongsan  dis_seoguipo location_name\n",
       "0   4.286659  37.692766     37.695909     27.841879          jeju\n",
       "1   4.966848  37.008492     38.448058     27.996179          jeju\n",
       "2   6.330746  35.642126     39.241905     27.496551          jeju\n",
       "3   3.575272  38.643401     38.369340     29.579404          jeju\n",
       "4  30.652098  23.648361     45.881475     14.269792      seoguipo"
      ]
     },
     "execution_count": 19,
     "metadata": {},
     "output_type": "execute_result"
    }
   ],
   "source": [
    "total=pd.DataFrame(list(zip( t1,t2,t3,t4)),columns=['dis_jeju','dis_gosan','dis_seongsan','dis_seoguipo'])\n",
    "total['location_name'] = total.apply(lambda x: x.argmin(), axis=1)\n",
    "total['location_name'] = total['location_name'].apply(lambda x: x[4:])\n",
    "\n",
    "total.head()"
   ]
  },
  {
   "cell_type": "code",
   "execution_count": 20,
   "metadata": {},
   "outputs": [
    {
     "data": {
      "text/plain": [
       "(3563, 8)"
      ]
     },
     "execution_count": 20,
     "metadata": {},
     "output_type": "execute_result"
    }
   ],
   "source": [
    "data2 = pd.merge(data2, total, on=['dis_jeju', 'dis_gosan', 'dis_seongsan', 'dis_seoguipo'])\n",
    "data2.shape"
   ]
  },
  {
   "cell_type": "markdown",
   "metadata": {},
   "source": [
    "#### train에 data2를 merge"
   ]
  },
  {
   "cell_type": "code",
   "execution_count": 21,
   "metadata": {},
   "outputs": [
    {
     "data": {
      "text/html": [
       "<div>\n",
       "<style scoped>\n",
       "    .dataframe tbody tr th:only-of-type {\n",
       "        vertical-align: middle;\n",
       "    }\n",
       "\n",
       "    .dataframe tbody tr th {\n",
       "        vertical-align: top;\n",
       "    }\n",
       "\n",
       "    .dataframe thead th {\n",
       "        text-align: right;\n",
       "    }\n",
       "</style>\n",
       "<table border=\"1\" class=\"dataframe\">\n",
       "  <thead>\n",
       "    <tr style=\"text-align: right;\">\n",
       "      <th></th>\n",
       "      <th>id</th>\n",
       "      <th>date</th>\n",
       "      <th>bus_route_id</th>\n",
       "      <th>in_out</th>\n",
       "      <th>station_code</th>\n",
       "      <th>station_name</th>\n",
       "      <th>latitude</th>\n",
       "      <th>longitude</th>\n",
       "      <th>6~7_ride</th>\n",
       "      <th>7~8_ride</th>\n",
       "      <th>...</th>\n",
       "      <th>a810_ride</th>\n",
       "      <th>a1012_ride</th>\n",
       "      <th>a68_takeoff</th>\n",
       "      <th>a810_takeoff</th>\n",
       "      <th>a1012_takeoff</th>\n",
       "      <th>dis_jeju</th>\n",
       "      <th>dis_gosan</th>\n",
       "      <th>dis_seongsan</th>\n",
       "      <th>dis_seoguipo</th>\n",
       "      <th>location_name</th>\n",
       "    </tr>\n",
       "  </thead>\n",
       "  <tbody>\n",
       "    <tr>\n",
       "      <th>0</th>\n",
       "      <td>0</td>\n",
       "      <td>2019-09-01</td>\n",
       "      <td>4270000</td>\n",
       "      <td>1</td>\n",
       "      <td>344</td>\n",
       "      <td>제주썬호텔</td>\n",
       "      <td>33.48990</td>\n",
       "      <td>126.49373</td>\n",
       "      <td>0.0</td>\n",
       "      <td>1.0</td>\n",
       "      <td>...</td>\n",
       "      <td>7.0</td>\n",
       "      <td>8.0</td>\n",
       "      <td>0.0</td>\n",
       "      <td>0.0</td>\n",
       "      <td>0.0</td>\n",
       "      <td>4.286659</td>\n",
       "      <td>37.692766</td>\n",
       "      <td>37.695909</td>\n",
       "      <td>27.841879</td>\n",
       "      <td>jeju</td>\n",
       "    </tr>\n",
       "    <tr>\n",
       "      <th>1</th>\n",
       "      <td>1</td>\n",
       "      <td>2019-09-01</td>\n",
       "      <td>4270000</td>\n",
       "      <td>1</td>\n",
       "      <td>357</td>\n",
       "      <td>한라병원</td>\n",
       "      <td>33.48944</td>\n",
       "      <td>126.48508</td>\n",
       "      <td>1.0</td>\n",
       "      <td>4.0</td>\n",
       "      <td>...</td>\n",
       "      <td>6.0</td>\n",
       "      <td>11.0</td>\n",
       "      <td>0.0</td>\n",
       "      <td>0.0</td>\n",
       "      <td>0.0</td>\n",
       "      <td>4.966848</td>\n",
       "      <td>37.008492</td>\n",
       "      <td>38.448058</td>\n",
       "      <td>27.996179</td>\n",
       "      <td>jeju</td>\n",
       "    </tr>\n",
       "    <tr>\n",
       "      <th>2</th>\n",
       "      <td>2</td>\n",
       "      <td>2019-09-01</td>\n",
       "      <td>4270000</td>\n",
       "      <td>1</td>\n",
       "      <td>432</td>\n",
       "      <td>정존마을</td>\n",
       "      <td>33.48181</td>\n",
       "      <td>126.47352</td>\n",
       "      <td>1.0</td>\n",
       "      <td>1.0</td>\n",
       "      <td>...</td>\n",
       "      <td>2.0</td>\n",
       "      <td>0.0</td>\n",
       "      <td>0.0</td>\n",
       "      <td>0.0</td>\n",
       "      <td>0.0</td>\n",
       "      <td>6.330746</td>\n",
       "      <td>35.642126</td>\n",
       "      <td>39.241905</td>\n",
       "      <td>27.496551</td>\n",
       "      <td>jeju</td>\n",
       "    </tr>\n",
       "    <tr>\n",
       "      <th>3</th>\n",
       "      <td>3</td>\n",
       "      <td>2019-09-01</td>\n",
       "      <td>4270000</td>\n",
       "      <td>0</td>\n",
       "      <td>1579</td>\n",
       "      <td>제주국제공항(600번)</td>\n",
       "      <td>33.50577</td>\n",
       "      <td>126.49252</td>\n",
       "      <td>0.0</td>\n",
       "      <td>17.0</td>\n",
       "      <td>...</td>\n",
       "      <td>32.0</td>\n",
       "      <td>30.0</td>\n",
       "      <td>0.0</td>\n",
       "      <td>0.0</td>\n",
       "      <td>0.0</td>\n",
       "      <td>3.575272</td>\n",
       "      <td>38.643401</td>\n",
       "      <td>38.369340</td>\n",
       "      <td>29.579404</td>\n",
       "      <td>jeju</td>\n",
       "    </tr>\n",
       "    <tr>\n",
       "      <th>4</th>\n",
       "      <td>4</td>\n",
       "      <td>2019-09-01</td>\n",
       "      <td>4270000</td>\n",
       "      <td>0</td>\n",
       "      <td>1646</td>\n",
       "      <td>중문관광단지입구</td>\n",
       "      <td>33.25579</td>\n",
       "      <td>126.41260</td>\n",
       "      <td>0.0</td>\n",
       "      <td>0.0</td>\n",
       "      <td>...</td>\n",
       "      <td>0.0</td>\n",
       "      <td>0.0</td>\n",
       "      <td>0.0</td>\n",
       "      <td>1.0</td>\n",
       "      <td>0.0</td>\n",
       "      <td>30.652098</td>\n",
       "      <td>23.648361</td>\n",
       "      <td>45.881475</td>\n",
       "      <td>14.269792</td>\n",
       "      <td>seoguipo</td>\n",
       "    </tr>\n",
       "  </tbody>\n",
       "</table>\n",
       "<p>5 rows × 34 columns</p>\n",
       "</div>"
      ],
      "text/plain": [
       "   id       date  bus_route_id  in_out  station_code  station_name  latitude  \\\n",
       "0   0 2019-09-01       4270000       1           344         제주썬호텔  33.48990   \n",
       "1   1 2019-09-01       4270000       1           357          한라병원  33.48944   \n",
       "2   2 2019-09-01       4270000       1           432          정존마을  33.48181   \n",
       "3   3 2019-09-01       4270000       0          1579  제주국제공항(600번)  33.50577   \n",
       "4   4 2019-09-01       4270000       0          1646      중문관광단지입구  33.25579   \n",
       "\n",
       "   longitude  6~7_ride  7~8_ride  ...  a810_ride  a1012_ride  a68_takeoff  \\\n",
       "0  126.49373       0.0       1.0  ...        7.0         8.0          0.0   \n",
       "1  126.48508       1.0       4.0  ...        6.0        11.0          0.0   \n",
       "2  126.47352       1.0       1.0  ...        2.0         0.0          0.0   \n",
       "3  126.49252       0.0      17.0  ...       32.0        30.0          0.0   \n",
       "4  126.41260       0.0       0.0  ...        0.0         0.0          0.0   \n",
       "\n",
       "   a810_takeoff  a1012_takeoff   dis_jeju  dis_gosan  dis_seongsan  \\\n",
       "0           0.0            0.0   4.286659  37.692766     37.695909   \n",
       "1           0.0            0.0   4.966848  37.008492     38.448058   \n",
       "2           0.0            0.0   6.330746  35.642126     39.241905   \n",
       "3           0.0            0.0   3.575272  38.643401     38.369340   \n",
       "4           1.0            0.0  30.652098  23.648361     45.881475   \n",
       "\n",
       "   dis_seoguipo  location_name  \n",
       "0     27.841879           jeju  \n",
       "1     27.996179           jeju  \n",
       "2     27.496551           jeju  \n",
       "3     29.579404           jeju  \n",
       "4     14.269792       seoguipo  \n",
       "\n",
       "[5 rows x 34 columns]"
      ]
     },
     "execution_count": 21,
     "metadata": {},
     "output_type": "execute_result"
    }
   ],
   "source": [
    "train = pd.merge(train, data2, how='left', on=['station_code', 'latitude', 'longitude'])\n",
    "train.head()"
   ]
  },
  {
   "cell_type": "code",
   "execution_count": 22,
   "metadata": {},
   "outputs": [
    {
     "data": {
      "text/plain": [
       "(415423, 34)"
      ]
     },
     "execution_count": 22,
     "metadata": {},
     "output_type": "execute_result"
    }
   ],
   "source": [
    "train.shape"
   ]
  },
  {
   "cell_type": "markdown",
   "metadata": {},
   "source": [
    "#### test에도 똑같이 적용"
   ]
  },
  {
   "cell_type": "code",
   "execution_count": 23,
   "metadata": {},
   "outputs": [
    {
     "data": {
      "text/html": [
       "<div>\n",
       "<style scoped>\n",
       "    .dataframe tbody tr th:only-of-type {\n",
       "        vertical-align: middle;\n",
       "    }\n",
       "\n",
       "    .dataframe tbody tr th {\n",
       "        vertical-align: top;\n",
       "    }\n",
       "\n",
       "    .dataframe thead th {\n",
       "        text-align: right;\n",
       "    }\n",
       "</style>\n",
       "<table border=\"1\" class=\"dataframe\">\n",
       "  <thead>\n",
       "    <tr style=\"text-align: right;\">\n",
       "      <th></th>\n",
       "      <th>station_code</th>\n",
       "      <th>latitude</th>\n",
       "      <th>longitude</th>\n",
       "    </tr>\n",
       "  </thead>\n",
       "  <tbody>\n",
       "    <tr>\n",
       "      <th>0</th>\n",
       "      <td>344</td>\n",
       "      <td>33.48990</td>\n",
       "      <td>126.49373</td>\n",
       "    </tr>\n",
       "    <tr>\n",
       "      <th>1</th>\n",
       "      <td>357</td>\n",
       "      <td>33.48944</td>\n",
       "      <td>126.48508</td>\n",
       "    </tr>\n",
       "    <tr>\n",
       "      <th>2</th>\n",
       "      <td>432</td>\n",
       "      <td>33.48181</td>\n",
       "      <td>126.47352</td>\n",
       "    </tr>\n",
       "    <tr>\n",
       "      <th>3</th>\n",
       "      <td>1579</td>\n",
       "      <td>33.50577</td>\n",
       "      <td>126.49252</td>\n",
       "    </tr>\n",
       "    <tr>\n",
       "      <th>4</th>\n",
       "      <td>1636</td>\n",
       "      <td>33.24872</td>\n",
       "      <td>126.41032</td>\n",
       "    </tr>\n",
       "  </tbody>\n",
       "</table>\n",
       "</div>"
      ],
      "text/plain": [
       "   station_code  latitude  longitude\n",
       "0           344  33.48990  126.49373\n",
       "1           357  33.48944  126.48508\n",
       "2           432  33.48181  126.47352\n",
       "3          1579  33.50577  126.49252\n",
       "4          1636  33.24872  126.41032"
      ]
     },
     "execution_count": 23,
     "metadata": {},
     "output_type": "execute_result"
    }
   ],
   "source": [
    "data3 = test[['station_code','latitude', 'longitude']].drop_duplicates(keep='first')\n",
    "data3.head()"
   ]
  },
  {
   "cell_type": "code",
   "execution_count": 24,
   "metadata": {},
   "outputs": [],
   "source": [
    "t1 = [geopy.distance.vincenty((i,j), jeju).km for i,j in list(zip(data3['latitude'],data3['longitude']))]\n",
    "t2 = [geopy.distance.vincenty((i,j), gosan).km for i,j in list(zip(data3['latitude'],data3['longitude']))]\n",
    "t3 = [geopy.distance.vincenty((i,j), seongsan).km for i,j in list(zip(data3['latitude'],data3['longitude']))]\n",
    "t4 = [geopy.distance.vincenty((i,j), seoguipo).km for i,j in list(zip(data3['latitude'],data3['longitude']))]\n",
    "\n",
    "data3['dis_jeju']=t1\n",
    "data3['dis_gosan']=t2\n",
    "data3['dis_seongsan']=t3\n",
    "data3['dis_seoguipo']=t4"
   ]
  },
  {
   "cell_type": "code",
   "execution_count": 25,
   "metadata": {},
   "outputs": [
    {
     "data": {
      "text/plain": [
       "(3505, 5)"
      ]
     },
     "execution_count": 25,
     "metadata": {},
     "output_type": "execute_result"
    }
   ],
   "source": [
    "total=pd.DataFrame(list(zip( t1,t2,t3,t4)),columns=['dis_jeju','dis_gosan','dis_seongsan','dis_seoguipo'])\n",
    "total['location_name'] = total.apply(lambda x: x.argmin(), axis=1)\n",
    "total['location_name'] = total['location_name'].apply(lambda x: x[4:])\n",
    "total.shape"
   ]
  },
  {
   "cell_type": "code",
   "execution_count": 26,
   "metadata": {},
   "outputs": [
    {
     "data": {
      "text/plain": [
       "(3507, 8)"
      ]
     },
     "execution_count": 26,
     "metadata": {},
     "output_type": "execute_result"
    }
   ],
   "source": [
    "data3 = pd.merge(data3, total, how='left', on=['dis_jeju', 'dis_gosan', 'dis_seongsan', 'dis_seoguipo'])\n",
    "data3.shape"
   ]
  },
  {
   "cell_type": "code",
   "execution_count": 27,
   "metadata": {},
   "outputs": [
    {
     "data": {
      "text/plain": [
       "(3505, 8)"
      ]
     },
     "execution_count": 27,
     "metadata": {},
     "output_type": "execute_result"
    }
   ],
   "source": [
    "# 이유는 모르겠으나 중복이 있어서 제거\n",
    "data3 = data3[['station_code', 'latitude', 'longitude', 'dis_jeju', 'dis_gosan',\n",
    "       'dis_seongsan', 'dis_seoguipo', 'location_name']].drop_duplicates(keep='first')\n",
    "data3.shape"
   ]
  },
  {
   "cell_type": "code",
   "execution_count": 28,
   "metadata": {},
   "outputs": [
    {
     "data": {
      "text/plain": [
       "(228170, 33)"
      ]
     },
     "execution_count": 28,
     "metadata": {},
     "output_type": "execute_result"
    }
   ],
   "source": [
    "test = pd.merge(test, data3, how='left', on=['station_code','latitude','longitude'])\n",
    "test.shape"
   ]
  },
  {
   "cell_type": "markdown",
   "metadata": {},
   "source": [
    "## 4.2.  reverse_geocode를 이용해 주소 구하고 feature로 추가해주기\n",
    "- googlemaps의 `reverse_geocode` 를 활용  "
   ]
  },
  {
   "cell_type": "code",
   "execution_count": 29,
   "metadata": {},
   "outputs": [],
   "source": [
    "import googlemaps\n",
    "\n",
    "gmaps_key = 'API Key'\n",
    "gmaps = googlemaps.Client(key=gmaps_key)"
   ]
  },
  {
   "cell_type": "code",
   "execution_count": 30,
   "metadata": {},
   "outputs": [
    {
     "data": {
      "text/plain": [
       "(3601, 3)"
      ]
     },
     "execution_count": 30,
     "metadata": {},
     "output_type": "execute_result"
    }
   ],
   "source": [
    "df1 = train[[\"station_code\", \"latitude\", \"longitude\"]]\n",
    "df2 = test[[\"station_code\", \"latitude\", \"longitude\"]]\n",
    "\n",
    "df = pd.concat([df1, df2])\n",
    "df = df[['station_code', 'latitude', 'longitude']].drop_duplicates(keep='first')\n",
    "df.shape"
   ]
  },
  {
   "cell_type": "markdown",
   "metadata": {},
   "source": [
    "#### 전체 주소가 들은 station_address list 생성"
   ]
  },
  {
   "cell_type": "code",
   "execution_count": 31,
   "metadata": {},
   "outputs": [],
   "source": [
    "station_address = []\n",
    "for lat, lng in zip(df['latitude'], df['longitude']):\n",
    "    address = gmaps.reverse_geocode((lat,lng), language='ko')[0]['formatted_address']\n",
    "    station_address.append(address)"
   ]
  },
  {
   "cell_type": "code",
   "execution_count": 32,
   "metadata": {},
   "outputs": [
    {
     "data": {
      "text/html": [
       "<div>\n",
       "<style scoped>\n",
       "    .dataframe tbody tr th:only-of-type {\n",
       "        vertical-align: middle;\n",
       "    }\n",
       "\n",
       "    .dataframe tbody tr th {\n",
       "        vertical-align: top;\n",
       "    }\n",
       "\n",
       "    .dataframe thead th {\n",
       "        text-align: right;\n",
       "    }\n",
       "</style>\n",
       "<table border=\"1\" class=\"dataframe\">\n",
       "  <thead>\n",
       "    <tr style=\"text-align: right;\">\n",
       "      <th></th>\n",
       "      <th>station_code</th>\n",
       "      <th>latitude</th>\n",
       "      <th>longitude</th>\n",
       "      <th>address</th>\n",
       "    </tr>\n",
       "  </thead>\n",
       "  <tbody>\n",
       "    <tr>\n",
       "      <th>0</th>\n",
       "      <td>344</td>\n",
       "      <td>33.48990</td>\n",
       "      <td>126.49373</td>\n",
       "      <td>대한민국 제주시 연동 제주 썬호텔</td>\n",
       "    </tr>\n",
       "    <tr>\n",
       "      <th>1</th>\n",
       "      <td>357</td>\n",
       "      <td>33.48944</td>\n",
       "      <td>126.48508</td>\n",
       "      <td>대한민국 제주특별자치도 제주시 연동 도령로</td>\n",
       "    </tr>\n",
       "    <tr>\n",
       "      <th>2</th>\n",
       "      <td>432</td>\n",
       "      <td>33.48181</td>\n",
       "      <td>126.47352</td>\n",
       "      <td>대한민국 제주시 노형동 정존마을</td>\n",
       "    </tr>\n",
       "    <tr>\n",
       "      <th>3</th>\n",
       "      <td>1579</td>\n",
       "      <td>33.50577</td>\n",
       "      <td>126.49252</td>\n",
       "      <td>대한민국 제주특별자치도 제주시 용담2동 1984-5</td>\n",
       "    </tr>\n",
       "    <tr>\n",
       "      <th>4</th>\n",
       "      <td>1646</td>\n",
       "      <td>33.25579</td>\n",
       "      <td>126.41260</td>\n",
       "      <td>대한민국 서귀포시 색달동 중문관광단지입구</td>\n",
       "    </tr>\n",
       "  </tbody>\n",
       "</table>\n",
       "</div>"
      ],
      "text/plain": [
       "   station_code  latitude  longitude                       address\n",
       "0           344  33.48990  126.49373            대한민국 제주시 연동 제주 썬호텔\n",
       "1           357  33.48944  126.48508       대한민국 제주특별자치도 제주시 연동 도령로\n",
       "2           432  33.48181  126.47352             대한민국 제주시 노형동 정존마을\n",
       "3          1579  33.50577  126.49252  대한민국 제주특별자치도 제주시 용담2동 1984-5\n",
       "4          1646  33.25579  126.41260        대한민국 서귀포시 색달동 중문관광단지입구"
      ]
     },
     "execution_count": 32,
     "metadata": {},
     "output_type": "execute_result"
    }
   ],
   "source": [
    "df['address'] = station_address\n",
    "df.head()"
   ]
  },
  {
   "cell_type": "markdown",
   "metadata": {},
   "source": [
    "#### test, train에 merge"
   ]
  },
  {
   "cell_type": "code",
   "execution_count": 33,
   "metadata": {},
   "outputs": [
    {
     "data": {
      "text/plain": [
       "(415423, 35)"
      ]
     },
     "execution_count": 33,
     "metadata": {},
     "output_type": "execute_result"
    }
   ],
   "source": [
    "train = pd.merge(train, df, how='left', on=['station_code', 'latitude', 'longitude'])\n",
    "train.shape"
   ]
  },
  {
   "cell_type": "code",
   "execution_count": 34,
   "metadata": {},
   "outputs": [
    {
     "data": {
      "text/plain": [
       "(228170, 34)"
      ]
     },
     "execution_count": 34,
     "metadata": {},
     "output_type": "execute_result"
    }
   ],
   "source": [
    "test = pd.merge(test, df, how='left', on=['station_code', 'latitude', 'longitude'])\n",
    "test.shape"
   ]
  },
  {
   "cell_type": "markdown",
   "metadata": {},
   "source": [
    "# 5. bus_route_id  \n",
    "- 주어진 bus_route_id는 실제 제주 버스 노선에 존재하진 않았으나 Padding된 숫자인 것 같음  \n",
    "- 제주도 버스 노선 정보에 대해 검색해본 결과 제주도 버스 노선은 앞자리로 분류 가능하다는 사실 확인  \n",
    "  - [출처](https://www.wooleelife.com/88)  \n",
    "\n",
    "$\\Rightarrow$ bus_route_id의 앞자리만 따로 추출하여 bus_route_type이라는 feature로 추가  \n",
    "- 우선 bus_route_id의 data type인 int에서는 indexing이 되지 않으므로 str으로 변경부터 해줌   "
   ]
  },
  {
   "cell_type": "code",
   "execution_count": 35,
   "metadata": {},
   "outputs": [
    {
     "data": {
      "text/html": [
       "<div>\n",
       "<style scoped>\n",
       "    .dataframe tbody tr th:only-of-type {\n",
       "        vertical-align: middle;\n",
       "    }\n",
       "\n",
       "    .dataframe tbody tr th {\n",
       "        vertical-align: top;\n",
       "    }\n",
       "\n",
       "    .dataframe thead th {\n",
       "        text-align: right;\n",
       "    }\n",
       "</style>\n",
       "<table border=\"1\" class=\"dataframe\">\n",
       "  <thead>\n",
       "    <tr style=\"text-align: right;\">\n",
       "      <th></th>\n",
       "      <th>id</th>\n",
       "      <th>date</th>\n",
       "      <th>bus_route_id</th>\n",
       "      <th>in_out</th>\n",
       "      <th>station_code</th>\n",
       "      <th>station_name</th>\n",
       "      <th>latitude</th>\n",
       "      <th>longitude</th>\n",
       "      <th>6~7_ride</th>\n",
       "      <th>7~8_ride</th>\n",
       "      <th>...</th>\n",
       "      <th>a810_takeoff</th>\n",
       "      <th>a1012_takeoff</th>\n",
       "      <th>dis_jeju</th>\n",
       "      <th>dis_gosan</th>\n",
       "      <th>dis_seongsan</th>\n",
       "      <th>dis_seoguipo</th>\n",
       "      <th>location_name</th>\n",
       "      <th>address</th>\n",
       "      <th>bus_route_str</th>\n",
       "      <th>bus_route_type</th>\n",
       "    </tr>\n",
       "  </thead>\n",
       "  <tbody>\n",
       "    <tr>\n",
       "      <th>0</th>\n",
       "      <td>0</td>\n",
       "      <td>2019-09-01</td>\n",
       "      <td>4270000</td>\n",
       "      <td>1</td>\n",
       "      <td>344</td>\n",
       "      <td>제주썬호텔</td>\n",
       "      <td>33.48990</td>\n",
       "      <td>126.49373</td>\n",
       "      <td>0.0</td>\n",
       "      <td>1.0</td>\n",
       "      <td>...</td>\n",
       "      <td>0.0</td>\n",
       "      <td>0.0</td>\n",
       "      <td>4.286659</td>\n",
       "      <td>37.692766</td>\n",
       "      <td>37.695909</td>\n",
       "      <td>27.841879</td>\n",
       "      <td>jeju</td>\n",
       "      <td>대한민국 제주시 연동 제주 썬호텔</td>\n",
       "      <td>4270000</td>\n",
       "      <td>4</td>\n",
       "    </tr>\n",
       "    <tr>\n",
       "      <th>1</th>\n",
       "      <td>1</td>\n",
       "      <td>2019-09-01</td>\n",
       "      <td>4270000</td>\n",
       "      <td>1</td>\n",
       "      <td>357</td>\n",
       "      <td>한라병원</td>\n",
       "      <td>33.48944</td>\n",
       "      <td>126.48508</td>\n",
       "      <td>1.0</td>\n",
       "      <td>4.0</td>\n",
       "      <td>...</td>\n",
       "      <td>0.0</td>\n",
       "      <td>0.0</td>\n",
       "      <td>4.966848</td>\n",
       "      <td>37.008492</td>\n",
       "      <td>38.448058</td>\n",
       "      <td>27.996179</td>\n",
       "      <td>jeju</td>\n",
       "      <td>대한민국 제주특별자치도 제주시 연동 도령로</td>\n",
       "      <td>4270000</td>\n",
       "      <td>4</td>\n",
       "    </tr>\n",
       "    <tr>\n",
       "      <th>2</th>\n",
       "      <td>2</td>\n",
       "      <td>2019-09-01</td>\n",
       "      <td>4270000</td>\n",
       "      <td>1</td>\n",
       "      <td>432</td>\n",
       "      <td>정존마을</td>\n",
       "      <td>33.48181</td>\n",
       "      <td>126.47352</td>\n",
       "      <td>1.0</td>\n",
       "      <td>1.0</td>\n",
       "      <td>...</td>\n",
       "      <td>0.0</td>\n",
       "      <td>0.0</td>\n",
       "      <td>6.330746</td>\n",
       "      <td>35.642126</td>\n",
       "      <td>39.241905</td>\n",
       "      <td>27.496551</td>\n",
       "      <td>jeju</td>\n",
       "      <td>대한민국 제주시 노형동 정존마을</td>\n",
       "      <td>4270000</td>\n",
       "      <td>4</td>\n",
       "    </tr>\n",
       "    <tr>\n",
       "      <th>3</th>\n",
       "      <td>3</td>\n",
       "      <td>2019-09-01</td>\n",
       "      <td>4270000</td>\n",
       "      <td>0</td>\n",
       "      <td>1579</td>\n",
       "      <td>제주국제공항(600번)</td>\n",
       "      <td>33.50577</td>\n",
       "      <td>126.49252</td>\n",
       "      <td>0.0</td>\n",
       "      <td>17.0</td>\n",
       "      <td>...</td>\n",
       "      <td>0.0</td>\n",
       "      <td>0.0</td>\n",
       "      <td>3.575272</td>\n",
       "      <td>38.643401</td>\n",
       "      <td>38.369340</td>\n",
       "      <td>29.579404</td>\n",
       "      <td>jeju</td>\n",
       "      <td>대한민국 제주특별자치도 제주시 용담2동 1984-5</td>\n",
       "      <td>4270000</td>\n",
       "      <td>4</td>\n",
       "    </tr>\n",
       "    <tr>\n",
       "      <th>4</th>\n",
       "      <td>4</td>\n",
       "      <td>2019-09-01</td>\n",
       "      <td>4270000</td>\n",
       "      <td>0</td>\n",
       "      <td>1646</td>\n",
       "      <td>중문관광단지입구</td>\n",
       "      <td>33.25579</td>\n",
       "      <td>126.41260</td>\n",
       "      <td>0.0</td>\n",
       "      <td>0.0</td>\n",
       "      <td>...</td>\n",
       "      <td>1.0</td>\n",
       "      <td>0.0</td>\n",
       "      <td>30.652098</td>\n",
       "      <td>23.648361</td>\n",
       "      <td>45.881475</td>\n",
       "      <td>14.269792</td>\n",
       "      <td>seoguipo</td>\n",
       "      <td>대한민국 서귀포시 색달동 중문관광단지입구</td>\n",
       "      <td>4270000</td>\n",
       "      <td>4</td>\n",
       "    </tr>\n",
       "  </tbody>\n",
       "</table>\n",
       "<p>5 rows × 37 columns</p>\n",
       "</div>"
      ],
      "text/plain": [
       "   id       date  bus_route_id  in_out  station_code  station_name  latitude  \\\n",
       "0   0 2019-09-01       4270000       1           344         제주썬호텔  33.48990   \n",
       "1   1 2019-09-01       4270000       1           357          한라병원  33.48944   \n",
       "2   2 2019-09-01       4270000       1           432          정존마을  33.48181   \n",
       "3   3 2019-09-01       4270000       0          1579  제주국제공항(600번)  33.50577   \n",
       "4   4 2019-09-01       4270000       0          1646      중문관광단지입구  33.25579   \n",
       "\n",
       "   longitude  6~7_ride  7~8_ride  ...  a810_takeoff  a1012_takeoff   dis_jeju  \\\n",
       "0  126.49373       0.0       1.0  ...           0.0            0.0   4.286659   \n",
       "1  126.48508       1.0       4.0  ...           0.0            0.0   4.966848   \n",
       "2  126.47352       1.0       1.0  ...           0.0            0.0   6.330746   \n",
       "3  126.49252       0.0      17.0  ...           0.0            0.0   3.575272   \n",
       "4  126.41260       0.0       0.0  ...           1.0            0.0  30.652098   \n",
       "\n",
       "   dis_gosan  dis_seongsan  dis_seoguipo  location_name  \\\n",
       "0  37.692766     37.695909     27.841879           jeju   \n",
       "1  37.008492     38.448058     27.996179           jeju   \n",
       "2  35.642126     39.241905     27.496551           jeju   \n",
       "3  38.643401     38.369340     29.579404           jeju   \n",
       "4  23.648361     45.881475     14.269792       seoguipo   \n",
       "\n",
       "                        address  bus_route_str  bus_route_type  \n",
       "0            대한민국 제주시 연동 제주 썬호텔        4270000               4  \n",
       "1       대한민국 제주특별자치도 제주시 연동 도령로        4270000               4  \n",
       "2             대한민국 제주시 노형동 정존마을        4270000               4  \n",
       "3  대한민국 제주특별자치도 제주시 용담2동 1984-5        4270000               4  \n",
       "4        대한민국 서귀포시 색달동 중문관광단지입구        4270000               4  \n",
       "\n",
       "[5 rows x 37 columns]"
      ]
     },
     "execution_count": 35,
     "metadata": {},
     "output_type": "execute_result"
    }
   ],
   "source": [
    "train['bus_route_str'] = train['bus_route_id'].apply(str)\n",
    "train['bus_route_type'] = [train['bus_route_str'].iloc[i][0] for i in range(len(train))]\n",
    "train.head()"
   ]
  },
  {
   "cell_type": "code",
   "execution_count": 36,
   "metadata": {},
   "outputs": [
    {
     "data": {
      "text/html": [
       "<div>\n",
       "<style scoped>\n",
       "    .dataframe tbody tr th:only-of-type {\n",
       "        vertical-align: middle;\n",
       "    }\n",
       "\n",
       "    .dataframe tbody tr th {\n",
       "        vertical-align: top;\n",
       "    }\n",
       "\n",
       "    .dataframe thead th {\n",
       "        text-align: right;\n",
       "    }\n",
       "</style>\n",
       "<table border=\"1\" class=\"dataframe\">\n",
       "  <thead>\n",
       "    <tr style=\"text-align: right;\">\n",
       "      <th></th>\n",
       "      <th>id</th>\n",
       "      <th>date</th>\n",
       "      <th>bus_route_id</th>\n",
       "      <th>in_out</th>\n",
       "      <th>station_code</th>\n",
       "      <th>station_name</th>\n",
       "      <th>latitude</th>\n",
       "      <th>longitude</th>\n",
       "      <th>6~7_ride</th>\n",
       "      <th>7~8_ride</th>\n",
       "      <th>...</th>\n",
       "      <th>a810_takeoff</th>\n",
       "      <th>a1012_takeoff</th>\n",
       "      <th>dis_jeju</th>\n",
       "      <th>dis_gosan</th>\n",
       "      <th>dis_seongsan</th>\n",
       "      <th>dis_seoguipo</th>\n",
       "      <th>location_name</th>\n",
       "      <th>address</th>\n",
       "      <th>bus_route_str</th>\n",
       "      <th>bus_route_type</th>\n",
       "    </tr>\n",
       "  </thead>\n",
       "  <tbody>\n",
       "    <tr>\n",
       "      <th>0</th>\n",
       "      <td>415423</td>\n",
       "      <td>2019-09-01</td>\n",
       "      <td>4270000</td>\n",
       "      <td>1</td>\n",
       "      <td>344</td>\n",
       "      <td>제주썬호텔</td>\n",
       "      <td>33.48990</td>\n",
       "      <td>126.49373</td>\n",
       "      <td>4.0</td>\n",
       "      <td>4.0</td>\n",
       "      <td>...</td>\n",
       "      <td>0.0</td>\n",
       "      <td>1.0</td>\n",
       "      <td>4.286659</td>\n",
       "      <td>37.692766</td>\n",
       "      <td>37.695909</td>\n",
       "      <td>27.841879</td>\n",
       "      <td>jeju</td>\n",
       "      <td>대한민국 제주시 연동 제주 썬호텔</td>\n",
       "      <td>4270000</td>\n",
       "      <td>4</td>\n",
       "    </tr>\n",
       "    <tr>\n",
       "      <th>1</th>\n",
       "      <td>415424</td>\n",
       "      <td>2019-09-01</td>\n",
       "      <td>4270000</td>\n",
       "      <td>1</td>\n",
       "      <td>357</td>\n",
       "      <td>한라병원</td>\n",
       "      <td>33.48944</td>\n",
       "      <td>126.48508</td>\n",
       "      <td>1.0</td>\n",
       "      <td>6.0</td>\n",
       "      <td>...</td>\n",
       "      <td>0.0</td>\n",
       "      <td>0.0</td>\n",
       "      <td>4.966848</td>\n",
       "      <td>37.008492</td>\n",
       "      <td>38.448058</td>\n",
       "      <td>27.996179</td>\n",
       "      <td>jeju</td>\n",
       "      <td>대한민국 제주특별자치도 제주시 연동 도령로</td>\n",
       "      <td>4270000</td>\n",
       "      <td>4</td>\n",
       "    </tr>\n",
       "    <tr>\n",
       "      <th>2</th>\n",
       "      <td>415425</td>\n",
       "      <td>2019-09-01</td>\n",
       "      <td>4270000</td>\n",
       "      <td>1</td>\n",
       "      <td>432</td>\n",
       "      <td>정존마을</td>\n",
       "      <td>33.48181</td>\n",
       "      <td>126.47352</td>\n",
       "      <td>2.0</td>\n",
       "      <td>4.0</td>\n",
       "      <td>...</td>\n",
       "      <td>0.0</td>\n",
       "      <td>0.0</td>\n",
       "      <td>6.330746</td>\n",
       "      <td>35.642126</td>\n",
       "      <td>39.241905</td>\n",
       "      <td>27.496551</td>\n",
       "      <td>jeju</td>\n",
       "      <td>대한민국 제주시 노형동 정존마을</td>\n",
       "      <td>4270000</td>\n",
       "      <td>4</td>\n",
       "    </tr>\n",
       "    <tr>\n",
       "      <th>3</th>\n",
       "      <td>415426</td>\n",
       "      <td>2019-09-01</td>\n",
       "      <td>4270000</td>\n",
       "      <td>0</td>\n",
       "      <td>1579</td>\n",
       "      <td>제주국제공항(600번)</td>\n",
       "      <td>33.50577</td>\n",
       "      <td>126.49252</td>\n",
       "      <td>1.0</td>\n",
       "      <td>11.0</td>\n",
       "      <td>...</td>\n",
       "      <td>0.0</td>\n",
       "      <td>0.0</td>\n",
       "      <td>3.575272</td>\n",
       "      <td>38.643401</td>\n",
       "      <td>38.369340</td>\n",
       "      <td>29.579404</td>\n",
       "      <td>jeju</td>\n",
       "      <td>대한민국 제주특별자치도 제주시 용담2동 1984-5</td>\n",
       "      <td>4270000</td>\n",
       "      <td>4</td>\n",
       "    </tr>\n",
       "    <tr>\n",
       "      <th>4</th>\n",
       "      <td>415427</td>\n",
       "      <td>2019-09-01</td>\n",
       "      <td>4270000</td>\n",
       "      <td>0</td>\n",
       "      <td>1636</td>\n",
       "      <td>롯데호텔</td>\n",
       "      <td>33.24872</td>\n",
       "      <td>126.41032</td>\n",
       "      <td>0.0</td>\n",
       "      <td>0.0</td>\n",
       "      <td>...</td>\n",
       "      <td>1.0</td>\n",
       "      <td>0.0</td>\n",
       "      <td>31.460686</td>\n",
       "      <td>23.594010</td>\n",
       "      <td>46.337724</td>\n",
       "      <td>14.445605</td>\n",
       "      <td>seoguipo</td>\n",
       "      <td>대한민국 제주특별자치도 서귀포시 색달동 2812-4</td>\n",
       "      <td>4270000</td>\n",
       "      <td>4</td>\n",
       "    </tr>\n",
       "  </tbody>\n",
       "</table>\n",
       "<p>5 rows × 36 columns</p>\n",
       "</div>"
      ],
      "text/plain": [
       "       id       date  bus_route_id  in_out  station_code  station_name  \\\n",
       "0  415423 2019-09-01       4270000       1           344         제주썬호텔   \n",
       "1  415424 2019-09-01       4270000       1           357          한라병원   \n",
       "2  415425 2019-09-01       4270000       1           432          정존마을   \n",
       "3  415426 2019-09-01       4270000       0          1579  제주국제공항(600번)   \n",
       "4  415427 2019-09-01       4270000       0          1636          롯데호텔   \n",
       "\n",
       "   latitude  longitude  6~7_ride  7~8_ride  ...  a810_takeoff  a1012_takeoff  \\\n",
       "0  33.48990  126.49373       4.0       4.0  ...           0.0            1.0   \n",
       "1  33.48944  126.48508       1.0       6.0  ...           0.0            0.0   \n",
       "2  33.48181  126.47352       2.0       4.0  ...           0.0            0.0   \n",
       "3  33.50577  126.49252       1.0      11.0  ...           0.0            0.0   \n",
       "4  33.24872  126.41032       0.0       0.0  ...           1.0            0.0   \n",
       "\n",
       "    dis_jeju  dis_gosan  dis_seongsan  dis_seoguipo  location_name  \\\n",
       "0   4.286659  37.692766     37.695909     27.841879           jeju   \n",
       "1   4.966848  37.008492     38.448058     27.996179           jeju   \n",
       "2   6.330746  35.642126     39.241905     27.496551           jeju   \n",
       "3   3.575272  38.643401     38.369340     29.579404           jeju   \n",
       "4  31.460686  23.594010     46.337724     14.445605       seoguipo   \n",
       "\n",
       "                        address  bus_route_str  bus_route_type  \n",
       "0            대한민국 제주시 연동 제주 썬호텔        4270000               4  \n",
       "1       대한민국 제주특별자치도 제주시 연동 도령로        4270000               4  \n",
       "2             대한민국 제주시 노형동 정존마을        4270000               4  \n",
       "3  대한민국 제주특별자치도 제주시 용담2동 1984-5        4270000               4  \n",
       "4  대한민국 제주특별자치도 서귀포시 색달동 2812-4        4270000               4  \n",
       "\n",
       "[5 rows x 36 columns]"
      ]
     },
     "execution_count": 36,
     "metadata": {},
     "output_type": "execute_result"
    }
   ],
   "source": [
    "test['bus_route_str'] = test['bus_route_id'].apply(str)\n",
    "test['bus_route_type'] = [test['bus_route_str'].iloc[i][0] for i in range(len(test))]\n",
    "test.head()"
   ]
  },
  {
   "cell_type": "code",
   "execution_count": 37,
   "metadata": {},
   "outputs": [],
   "source": [
    "del train['bus_route_str']\n",
    "del test['bus_route_str']"
   ]
  },
  {
   "cell_type": "code",
   "execution_count": 38,
   "metadata": {},
   "outputs": [
    {
     "data": {
      "text/plain": [
       "((415423, 36), (228170, 35))"
      ]
     },
     "execution_count": 38,
     "metadata": {},
     "output_type": "execute_result"
    }
   ],
   "source": [
    "train.shape, test.shape"
   ]
  },
  {
   "cell_type": "markdown",
   "metadata": {},
   "source": [
    "# 6. holiday 추가  \n",
    "- 9월= 주말+추석(12,13), 10월= 주말+(3,9)  \n",
    "- 공휴일이면 0, 아니면 1"
   ]
  },
  {
   "cell_type": "code",
   "execution_count": 39,
   "metadata": {},
   "outputs": [
    {
     "data": {
      "text/plain": [
       "DatetimeIndex(['2019-09-01', '2019-09-02', '2019-09-03', '2019-09-04',\n",
       "               '2019-09-05', '2019-09-06', '2019-09-07', '2019-09-08',\n",
       "               '2019-09-09', '2019-09-10', '2019-09-11', '2019-09-12',\n",
       "               '2019-09-13', '2019-09-14', '2019-09-15', '2019-09-16',\n",
       "               '2019-09-17', '2019-09-18', '2019-09-19', '2019-09-20',\n",
       "               '2019-09-21', '2019-09-22', '2019-09-23', '2019-09-24',\n",
       "               '2019-09-25', '2019-09-26', '2019-09-27', '2019-09-28',\n",
       "               '2019-09-29', '2019-09-30', '2019-10-01', '2019-10-02',\n",
       "               '2019-10-03', '2019-10-04', '2019-10-05', '2019-10-06',\n",
       "               '2019-10-07', '2019-10-08', '2019-10-09', '2019-10-10',\n",
       "               '2019-10-11', '2019-10-12', '2019-10-13', '2019-10-14',\n",
       "               '2019-10-15', '2019-10-16'],\n",
       "              dtype='datetime64[ns]', freq='D')"
      ]
     },
     "execution_count": 39,
     "metadata": {},
     "output_type": "execute_result"
    }
   ],
   "source": [
    "date_index = pd.date_range(start='20190901', end='20191016')\n",
    "date_index"
   ]
  },
  {
   "cell_type": "code",
   "execution_count": 40,
   "metadata": {},
   "outputs": [
    {
     "data": {
      "text/html": [
       "<div>\n",
       "<style scoped>\n",
       "    .dataframe tbody tr th:only-of-type {\n",
       "        vertical-align: middle;\n",
       "    }\n",
       "\n",
       "    .dataframe tbody tr th {\n",
       "        vertical-align: top;\n",
       "    }\n",
       "\n",
       "    .dataframe thead th {\n",
       "        text-align: right;\n",
       "    }\n",
       "</style>\n",
       "<table border=\"1\" class=\"dataframe\">\n",
       "  <thead>\n",
       "    <tr style=\"text-align: right;\">\n",
       "      <th></th>\n",
       "      <th>date</th>\n",
       "    </tr>\n",
       "  </thead>\n",
       "  <tbody>\n",
       "    <tr>\n",
       "      <th>0</th>\n",
       "      <td>2019-09-01</td>\n",
       "    </tr>\n",
       "    <tr>\n",
       "      <th>1</th>\n",
       "      <td>2019-09-02</td>\n",
       "    </tr>\n",
       "    <tr>\n",
       "      <th>2</th>\n",
       "      <td>2019-09-03</td>\n",
       "    </tr>\n",
       "    <tr>\n",
       "      <th>3</th>\n",
       "      <td>2019-09-04</td>\n",
       "    </tr>\n",
       "    <tr>\n",
       "      <th>4</th>\n",
       "      <td>2019-09-05</td>\n",
       "    </tr>\n",
       "  </tbody>\n",
       "</table>\n",
       "</div>"
      ],
      "text/plain": [
       "        date\n",
       "0 2019-09-01\n",
       "1 2019-09-02\n",
       "2 2019-09-03\n",
       "3 2019-09-04\n",
       "4 2019-09-05"
      ]
     },
     "execution_count": 40,
     "metadata": {},
     "output_type": "execute_result"
    }
   ],
   "source": [
    "date_df = pd.DataFrame(columns={'date'})\n",
    "date_df['date'] = date_index\n",
    "date_df.head()"
   ]
  },
  {
   "cell_type": "code",
   "execution_count": 41,
   "metadata": {},
   "outputs": [],
   "source": [
    "holiday = ['2019-09-01', '2019-09-07', '2019-09-08', '2019-09-12', '2019-09-13', '2019-09-14', '2019-09-15', '2019-09-21', '2019-09-22', '2019-09-28', '2019-09-29',\n",
    "          '2019-10-03', '2019-10-05', '2019-10-06', '2019-10-09','2019-10-12', '2019-10-13', '2019-10-19', '2019-10-20', '2019-10-26', '2019-10-27']"
   ]
  },
  {
   "cell_type": "code",
   "execution_count": 42,
   "metadata": {},
   "outputs": [
    {
     "data": {
      "text/plain": [
       "21"
      ]
     },
     "execution_count": 42,
     "metadata": {},
     "output_type": "execute_result"
    }
   ],
   "source": [
    "len(holiday)"
   ]
  },
  {
   "cell_type": "code",
   "execution_count": 43,
   "metadata": {},
   "outputs": [],
   "source": [
    "holiday_df = pd.DataFrame()"
   ]
  },
  {
   "cell_type": "code",
   "execution_count": 44,
   "metadata": {},
   "outputs": [
    {
     "data": {
      "text/html": [
       "<div>\n",
       "<style scoped>\n",
       "    .dataframe tbody tr th:only-of-type {\n",
       "        vertical-align: middle;\n",
       "    }\n",
       "\n",
       "    .dataframe tbody tr th {\n",
       "        vertical-align: top;\n",
       "    }\n",
       "\n",
       "    .dataframe thead th {\n",
       "        text-align: right;\n",
       "    }\n",
       "</style>\n",
       "<table border=\"1\" class=\"dataframe\">\n",
       "  <thead>\n",
       "    <tr style=\"text-align: right;\">\n",
       "      <th></th>\n",
       "      <th>date</th>\n",
       "    </tr>\n",
       "  </thead>\n",
       "  <tbody>\n",
       "    <tr>\n",
       "      <th>0</th>\n",
       "      <td>2019-09-01</td>\n",
       "    </tr>\n",
       "    <tr>\n",
       "      <th>1</th>\n",
       "      <td>2019-09-07</td>\n",
       "    </tr>\n",
       "    <tr>\n",
       "      <th>2</th>\n",
       "      <td>2019-09-08</td>\n",
       "    </tr>\n",
       "    <tr>\n",
       "      <th>3</th>\n",
       "      <td>2019-09-12</td>\n",
       "    </tr>\n",
       "    <tr>\n",
       "      <th>4</th>\n",
       "      <td>2019-09-13</td>\n",
       "    </tr>\n",
       "  </tbody>\n",
       "</table>\n",
       "</div>"
      ],
      "text/plain": [
       "        date\n",
       "0 2019-09-01\n",
       "1 2019-09-07\n",
       "2 2019-09-08\n",
       "3 2019-09-12\n",
       "4 2019-09-13"
      ]
     },
     "execution_count": 44,
     "metadata": {},
     "output_type": "execute_result"
    }
   ],
   "source": [
    "holiday_df['date'] = holiday\n",
    "holiday_df['date'] = pd.to_datetime(holiday_df['date'])\n",
    "holiday_df.head()"
   ]
  },
  {
   "cell_type": "code",
   "execution_count": 45,
   "metadata": {},
   "outputs": [
    {
     "data": {
      "text/html": [
       "<div>\n",
       "<style scoped>\n",
       "    .dataframe tbody tr th:only-of-type {\n",
       "        vertical-align: middle;\n",
       "    }\n",
       "\n",
       "    .dataframe tbody tr th {\n",
       "        vertical-align: top;\n",
       "    }\n",
       "\n",
       "    .dataframe thead th {\n",
       "        text-align: right;\n",
       "    }\n",
       "</style>\n",
       "<table border=\"1\" class=\"dataframe\">\n",
       "  <thead>\n",
       "    <tr style=\"text-align: right;\">\n",
       "      <th></th>\n",
       "      <th>date</th>\n",
       "      <th>holiday</th>\n",
       "    </tr>\n",
       "  </thead>\n",
       "  <tbody>\n",
       "    <tr>\n",
       "      <th>0</th>\n",
       "      <td>2019-09-01</td>\n",
       "      <td>0</td>\n",
       "    </tr>\n",
       "    <tr>\n",
       "      <th>1</th>\n",
       "      <td>2019-09-07</td>\n",
       "      <td>0</td>\n",
       "    </tr>\n",
       "    <tr>\n",
       "      <th>2</th>\n",
       "      <td>2019-09-08</td>\n",
       "      <td>0</td>\n",
       "    </tr>\n",
       "    <tr>\n",
       "      <th>3</th>\n",
       "      <td>2019-09-12</td>\n",
       "      <td>0</td>\n",
       "    </tr>\n",
       "    <tr>\n",
       "      <th>4</th>\n",
       "      <td>2019-09-13</td>\n",
       "      <td>0</td>\n",
       "    </tr>\n",
       "  </tbody>\n",
       "</table>\n",
       "</div>"
      ],
      "text/plain": [
       "        date  holiday\n",
       "0 2019-09-01        0\n",
       "1 2019-09-07        0\n",
       "2 2019-09-08        0\n",
       "3 2019-09-12        0\n",
       "4 2019-09-13        0"
      ]
     },
     "execution_count": 45,
     "metadata": {},
     "output_type": "execute_result"
    }
   ],
   "source": [
    "zero = len(holiday)\n",
    "holiday_df['holiday'] = np.zeros(zero)\n",
    "holiday_df['holiday'] = holiday_df['holiday'].apply(int)\n",
    "holiday_df.head()"
   ]
  },
  {
   "cell_type": "code",
   "execution_count": 46,
   "metadata": {},
   "outputs": [
    {
     "data": {
      "text/plain": [
       "(21, 2)"
      ]
     },
     "execution_count": 46,
     "metadata": {},
     "output_type": "execute_result"
    }
   ],
   "source": [
    "holiday_df.shape"
   ]
  },
  {
   "cell_type": "code",
   "execution_count": 47,
   "metadata": {},
   "outputs": [
    {
     "data": {
      "text/html": [
       "<div>\n",
       "<style scoped>\n",
       "    .dataframe tbody tr th:only-of-type {\n",
       "        vertical-align: middle;\n",
       "    }\n",
       "\n",
       "    .dataframe tbody tr th {\n",
       "        vertical-align: top;\n",
       "    }\n",
       "\n",
       "    .dataframe thead th {\n",
       "        text-align: right;\n",
       "    }\n",
       "</style>\n",
       "<table border=\"1\" class=\"dataframe\">\n",
       "  <thead>\n",
       "    <tr style=\"text-align: right;\">\n",
       "      <th></th>\n",
       "      <th>date</th>\n",
       "      <th>holiday</th>\n",
       "    </tr>\n",
       "  </thead>\n",
       "  <tbody>\n",
       "    <tr>\n",
       "      <th>0</th>\n",
       "      <td>2019-09-01</td>\n",
       "      <td>0</td>\n",
       "    </tr>\n",
       "    <tr>\n",
       "      <th>1</th>\n",
       "      <td>2019-09-02</td>\n",
       "      <td>1</td>\n",
       "    </tr>\n",
       "    <tr>\n",
       "      <th>2</th>\n",
       "      <td>2019-09-03</td>\n",
       "      <td>1</td>\n",
       "    </tr>\n",
       "    <tr>\n",
       "      <th>3</th>\n",
       "      <td>2019-09-04</td>\n",
       "      <td>1</td>\n",
       "    </tr>\n",
       "    <tr>\n",
       "      <th>4</th>\n",
       "      <td>2019-09-05</td>\n",
       "      <td>1</td>\n",
       "    </tr>\n",
       "  </tbody>\n",
       "</table>\n",
       "</div>"
      ],
      "text/plain": [
       "        date  holiday\n",
       "0 2019-09-01        0\n",
       "1 2019-09-02        1\n",
       "2 2019-09-03        1\n",
       "3 2019-09-04        1\n",
       "4 2019-09-05        1"
      ]
     },
     "execution_count": 47,
     "metadata": {},
     "output_type": "execute_result"
    }
   ],
   "source": [
    "holidays_df = pd.merge(date_df, holiday_df, how='left', on=['date'])\n",
    "holidays_df = holidays_df.fillna(1)\n",
    "holidays_df['holiday'] = holidays_df['holiday'].apply(int)\n",
    "holidays_df.head()"
   ]
  },
  {
   "cell_type": "markdown",
   "metadata": {},
   "source": [
    "#### train, test에 merge"
   ]
  },
  {
   "cell_type": "code",
   "execution_count": 48,
   "metadata": {},
   "outputs": [
    {
     "data": {
      "text/html": [
       "<div>\n",
       "<style scoped>\n",
       "    .dataframe tbody tr th:only-of-type {\n",
       "        vertical-align: middle;\n",
       "    }\n",
       "\n",
       "    .dataframe tbody tr th {\n",
       "        vertical-align: top;\n",
       "    }\n",
       "\n",
       "    .dataframe thead th {\n",
       "        text-align: right;\n",
       "    }\n",
       "</style>\n",
       "<table border=\"1\" class=\"dataframe\">\n",
       "  <thead>\n",
       "    <tr style=\"text-align: right;\">\n",
       "      <th></th>\n",
       "      <th>id</th>\n",
       "      <th>date</th>\n",
       "      <th>bus_route_id</th>\n",
       "      <th>in_out</th>\n",
       "      <th>station_code</th>\n",
       "      <th>station_name</th>\n",
       "      <th>latitude</th>\n",
       "      <th>longitude</th>\n",
       "      <th>6~7_ride</th>\n",
       "      <th>7~8_ride</th>\n",
       "      <th>...</th>\n",
       "      <th>a810_takeoff</th>\n",
       "      <th>a1012_takeoff</th>\n",
       "      <th>dis_jeju</th>\n",
       "      <th>dis_gosan</th>\n",
       "      <th>dis_seongsan</th>\n",
       "      <th>dis_seoguipo</th>\n",
       "      <th>location_name</th>\n",
       "      <th>address</th>\n",
       "      <th>bus_route_type</th>\n",
       "      <th>holiday</th>\n",
       "    </tr>\n",
       "  </thead>\n",
       "  <tbody>\n",
       "    <tr>\n",
       "      <th>0</th>\n",
       "      <td>0</td>\n",
       "      <td>2019-09-01</td>\n",
       "      <td>4270000</td>\n",
       "      <td>1</td>\n",
       "      <td>344</td>\n",
       "      <td>제주썬호텔</td>\n",
       "      <td>33.48990</td>\n",
       "      <td>126.49373</td>\n",
       "      <td>0.0</td>\n",
       "      <td>1.0</td>\n",
       "      <td>...</td>\n",
       "      <td>0.0</td>\n",
       "      <td>0.0</td>\n",
       "      <td>4.286659</td>\n",
       "      <td>37.692766</td>\n",
       "      <td>37.695909</td>\n",
       "      <td>27.841879</td>\n",
       "      <td>jeju</td>\n",
       "      <td>대한민국 제주시 연동 제주 썬호텔</td>\n",
       "      <td>4</td>\n",
       "      <td>0</td>\n",
       "    </tr>\n",
       "    <tr>\n",
       "      <th>1</th>\n",
       "      <td>1</td>\n",
       "      <td>2019-09-01</td>\n",
       "      <td>4270000</td>\n",
       "      <td>1</td>\n",
       "      <td>357</td>\n",
       "      <td>한라병원</td>\n",
       "      <td>33.48944</td>\n",
       "      <td>126.48508</td>\n",
       "      <td>1.0</td>\n",
       "      <td>4.0</td>\n",
       "      <td>...</td>\n",
       "      <td>0.0</td>\n",
       "      <td>0.0</td>\n",
       "      <td>4.966848</td>\n",
       "      <td>37.008492</td>\n",
       "      <td>38.448058</td>\n",
       "      <td>27.996179</td>\n",
       "      <td>jeju</td>\n",
       "      <td>대한민국 제주특별자치도 제주시 연동 도령로</td>\n",
       "      <td>4</td>\n",
       "      <td>0</td>\n",
       "    </tr>\n",
       "    <tr>\n",
       "      <th>2</th>\n",
       "      <td>2</td>\n",
       "      <td>2019-09-01</td>\n",
       "      <td>4270000</td>\n",
       "      <td>1</td>\n",
       "      <td>432</td>\n",
       "      <td>정존마을</td>\n",
       "      <td>33.48181</td>\n",
       "      <td>126.47352</td>\n",
       "      <td>1.0</td>\n",
       "      <td>1.0</td>\n",
       "      <td>...</td>\n",
       "      <td>0.0</td>\n",
       "      <td>0.0</td>\n",
       "      <td>6.330746</td>\n",
       "      <td>35.642126</td>\n",
       "      <td>39.241905</td>\n",
       "      <td>27.496551</td>\n",
       "      <td>jeju</td>\n",
       "      <td>대한민국 제주시 노형동 정존마을</td>\n",
       "      <td>4</td>\n",
       "      <td>0</td>\n",
       "    </tr>\n",
       "    <tr>\n",
       "      <th>3</th>\n",
       "      <td>3</td>\n",
       "      <td>2019-09-01</td>\n",
       "      <td>4270000</td>\n",
       "      <td>0</td>\n",
       "      <td>1579</td>\n",
       "      <td>제주국제공항(600번)</td>\n",
       "      <td>33.50577</td>\n",
       "      <td>126.49252</td>\n",
       "      <td>0.0</td>\n",
       "      <td>17.0</td>\n",
       "      <td>...</td>\n",
       "      <td>0.0</td>\n",
       "      <td>0.0</td>\n",
       "      <td>3.575272</td>\n",
       "      <td>38.643401</td>\n",
       "      <td>38.369340</td>\n",
       "      <td>29.579404</td>\n",
       "      <td>jeju</td>\n",
       "      <td>대한민국 제주특별자치도 제주시 용담2동 1984-5</td>\n",
       "      <td>4</td>\n",
       "      <td>0</td>\n",
       "    </tr>\n",
       "    <tr>\n",
       "      <th>4</th>\n",
       "      <td>4</td>\n",
       "      <td>2019-09-01</td>\n",
       "      <td>4270000</td>\n",
       "      <td>0</td>\n",
       "      <td>1646</td>\n",
       "      <td>중문관광단지입구</td>\n",
       "      <td>33.25579</td>\n",
       "      <td>126.41260</td>\n",
       "      <td>0.0</td>\n",
       "      <td>0.0</td>\n",
       "      <td>...</td>\n",
       "      <td>1.0</td>\n",
       "      <td>0.0</td>\n",
       "      <td>30.652098</td>\n",
       "      <td>23.648361</td>\n",
       "      <td>45.881475</td>\n",
       "      <td>14.269792</td>\n",
       "      <td>seoguipo</td>\n",
       "      <td>대한민국 서귀포시 색달동 중문관광단지입구</td>\n",
       "      <td>4</td>\n",
       "      <td>0</td>\n",
       "    </tr>\n",
       "  </tbody>\n",
       "</table>\n",
       "<p>5 rows × 37 columns</p>\n",
       "</div>"
      ],
      "text/plain": [
       "   id       date  bus_route_id  in_out  station_code  station_name  latitude  \\\n",
       "0   0 2019-09-01       4270000       1           344         제주썬호텔  33.48990   \n",
       "1   1 2019-09-01       4270000       1           357          한라병원  33.48944   \n",
       "2   2 2019-09-01       4270000       1           432          정존마을  33.48181   \n",
       "3   3 2019-09-01       4270000       0          1579  제주국제공항(600번)  33.50577   \n",
       "4   4 2019-09-01       4270000       0          1646      중문관광단지입구  33.25579   \n",
       "\n",
       "   longitude  6~7_ride  7~8_ride  ...  a810_takeoff  a1012_takeoff   dis_jeju  \\\n",
       "0  126.49373       0.0       1.0  ...           0.0            0.0   4.286659   \n",
       "1  126.48508       1.0       4.0  ...           0.0            0.0   4.966848   \n",
       "2  126.47352       1.0       1.0  ...           0.0            0.0   6.330746   \n",
       "3  126.49252       0.0      17.0  ...           0.0            0.0   3.575272   \n",
       "4  126.41260       0.0       0.0  ...           1.0            0.0  30.652098   \n",
       "\n",
       "   dis_gosan  dis_seongsan  dis_seoguipo  location_name  \\\n",
       "0  37.692766     37.695909     27.841879           jeju   \n",
       "1  37.008492     38.448058     27.996179           jeju   \n",
       "2  35.642126     39.241905     27.496551           jeju   \n",
       "3  38.643401     38.369340     29.579404           jeju   \n",
       "4  23.648361     45.881475     14.269792       seoguipo   \n",
       "\n",
       "                        address  bus_route_type  holiday  \n",
       "0            대한민국 제주시 연동 제주 썬호텔               4        0  \n",
       "1       대한민국 제주특별자치도 제주시 연동 도령로               4        0  \n",
       "2             대한민국 제주시 노형동 정존마을               4        0  \n",
       "3  대한민국 제주특별자치도 제주시 용담2동 1984-5               4        0  \n",
       "4        대한민국 서귀포시 색달동 중문관광단지입구               4        0  \n",
       "\n",
       "[5 rows x 37 columns]"
      ]
     },
     "execution_count": 48,
     "metadata": {},
     "output_type": "execute_result"
    }
   ],
   "source": [
    "train = pd.merge(train, holidays_df, on=['date'])\n",
    "train.head()"
   ]
  },
  {
   "cell_type": "code",
   "execution_count": 49,
   "metadata": {},
   "outputs": [
    {
     "data": {
      "text/html": [
       "<div>\n",
       "<style scoped>\n",
       "    .dataframe tbody tr th:only-of-type {\n",
       "        vertical-align: middle;\n",
       "    }\n",
       "\n",
       "    .dataframe tbody tr th {\n",
       "        vertical-align: top;\n",
       "    }\n",
       "\n",
       "    .dataframe thead th {\n",
       "        text-align: right;\n",
       "    }\n",
       "</style>\n",
       "<table border=\"1\" class=\"dataframe\">\n",
       "  <thead>\n",
       "    <tr style=\"text-align: right;\">\n",
       "      <th></th>\n",
       "      <th>id</th>\n",
       "      <th>date</th>\n",
       "      <th>bus_route_id</th>\n",
       "      <th>in_out</th>\n",
       "      <th>station_code</th>\n",
       "      <th>station_name</th>\n",
       "      <th>latitude</th>\n",
       "      <th>longitude</th>\n",
       "      <th>6~7_ride</th>\n",
       "      <th>7~8_ride</th>\n",
       "      <th>...</th>\n",
       "      <th>a810_takeoff</th>\n",
       "      <th>a1012_takeoff</th>\n",
       "      <th>dis_jeju</th>\n",
       "      <th>dis_gosan</th>\n",
       "      <th>dis_seongsan</th>\n",
       "      <th>dis_seoguipo</th>\n",
       "      <th>location_name</th>\n",
       "      <th>address</th>\n",
       "      <th>bus_route_type</th>\n",
       "      <th>holiday</th>\n",
       "    </tr>\n",
       "  </thead>\n",
       "  <tbody>\n",
       "    <tr>\n",
       "      <th>0</th>\n",
       "      <td>415423</td>\n",
       "      <td>2019-09-01</td>\n",
       "      <td>4270000</td>\n",
       "      <td>1</td>\n",
       "      <td>344</td>\n",
       "      <td>제주썬호텔</td>\n",
       "      <td>33.48990</td>\n",
       "      <td>126.49373</td>\n",
       "      <td>4.0</td>\n",
       "      <td>4.0</td>\n",
       "      <td>...</td>\n",
       "      <td>0.0</td>\n",
       "      <td>1.0</td>\n",
       "      <td>4.286659</td>\n",
       "      <td>37.692766</td>\n",
       "      <td>37.695909</td>\n",
       "      <td>27.841879</td>\n",
       "      <td>jeju</td>\n",
       "      <td>대한민국 제주시 연동 제주 썬호텔</td>\n",
       "      <td>4</td>\n",
       "      <td>0</td>\n",
       "    </tr>\n",
       "    <tr>\n",
       "      <th>1</th>\n",
       "      <td>415424</td>\n",
       "      <td>2019-09-01</td>\n",
       "      <td>4270000</td>\n",
       "      <td>1</td>\n",
       "      <td>357</td>\n",
       "      <td>한라병원</td>\n",
       "      <td>33.48944</td>\n",
       "      <td>126.48508</td>\n",
       "      <td>1.0</td>\n",
       "      <td>6.0</td>\n",
       "      <td>...</td>\n",
       "      <td>0.0</td>\n",
       "      <td>0.0</td>\n",
       "      <td>4.966848</td>\n",
       "      <td>37.008492</td>\n",
       "      <td>38.448058</td>\n",
       "      <td>27.996179</td>\n",
       "      <td>jeju</td>\n",
       "      <td>대한민국 제주특별자치도 제주시 연동 도령로</td>\n",
       "      <td>4</td>\n",
       "      <td>0</td>\n",
       "    </tr>\n",
       "    <tr>\n",
       "      <th>2</th>\n",
       "      <td>415425</td>\n",
       "      <td>2019-09-01</td>\n",
       "      <td>4270000</td>\n",
       "      <td>1</td>\n",
       "      <td>432</td>\n",
       "      <td>정존마을</td>\n",
       "      <td>33.48181</td>\n",
       "      <td>126.47352</td>\n",
       "      <td>2.0</td>\n",
       "      <td>4.0</td>\n",
       "      <td>...</td>\n",
       "      <td>0.0</td>\n",
       "      <td>0.0</td>\n",
       "      <td>6.330746</td>\n",
       "      <td>35.642126</td>\n",
       "      <td>39.241905</td>\n",
       "      <td>27.496551</td>\n",
       "      <td>jeju</td>\n",
       "      <td>대한민국 제주시 노형동 정존마을</td>\n",
       "      <td>4</td>\n",
       "      <td>0</td>\n",
       "    </tr>\n",
       "    <tr>\n",
       "      <th>3</th>\n",
       "      <td>415426</td>\n",
       "      <td>2019-09-01</td>\n",
       "      <td>4270000</td>\n",
       "      <td>0</td>\n",
       "      <td>1579</td>\n",
       "      <td>제주국제공항(600번)</td>\n",
       "      <td>33.50577</td>\n",
       "      <td>126.49252</td>\n",
       "      <td>1.0</td>\n",
       "      <td>11.0</td>\n",
       "      <td>...</td>\n",
       "      <td>0.0</td>\n",
       "      <td>0.0</td>\n",
       "      <td>3.575272</td>\n",
       "      <td>38.643401</td>\n",
       "      <td>38.369340</td>\n",
       "      <td>29.579404</td>\n",
       "      <td>jeju</td>\n",
       "      <td>대한민국 제주특별자치도 제주시 용담2동 1984-5</td>\n",
       "      <td>4</td>\n",
       "      <td>0</td>\n",
       "    </tr>\n",
       "    <tr>\n",
       "      <th>4</th>\n",
       "      <td>415427</td>\n",
       "      <td>2019-09-01</td>\n",
       "      <td>4270000</td>\n",
       "      <td>0</td>\n",
       "      <td>1636</td>\n",
       "      <td>롯데호텔</td>\n",
       "      <td>33.24872</td>\n",
       "      <td>126.41032</td>\n",
       "      <td>0.0</td>\n",
       "      <td>0.0</td>\n",
       "      <td>...</td>\n",
       "      <td>1.0</td>\n",
       "      <td>0.0</td>\n",
       "      <td>31.460686</td>\n",
       "      <td>23.594010</td>\n",
       "      <td>46.337724</td>\n",
       "      <td>14.445605</td>\n",
       "      <td>seoguipo</td>\n",
       "      <td>대한민국 제주특별자치도 서귀포시 색달동 2812-4</td>\n",
       "      <td>4</td>\n",
       "      <td>0</td>\n",
       "    </tr>\n",
       "  </tbody>\n",
       "</table>\n",
       "<p>5 rows × 36 columns</p>\n",
       "</div>"
      ],
      "text/plain": [
       "       id       date  bus_route_id  in_out  station_code  station_name  \\\n",
       "0  415423 2019-09-01       4270000       1           344         제주썬호텔   \n",
       "1  415424 2019-09-01       4270000       1           357          한라병원   \n",
       "2  415425 2019-09-01       4270000       1           432          정존마을   \n",
       "3  415426 2019-09-01       4270000       0          1579  제주국제공항(600번)   \n",
       "4  415427 2019-09-01       4270000       0          1636          롯데호텔   \n",
       "\n",
       "   latitude  longitude  6~7_ride  7~8_ride  ...  a810_takeoff  a1012_takeoff  \\\n",
       "0  33.48990  126.49373       4.0       4.0  ...           0.0            1.0   \n",
       "1  33.48944  126.48508       1.0       6.0  ...           0.0            0.0   \n",
       "2  33.48181  126.47352       2.0       4.0  ...           0.0            0.0   \n",
       "3  33.50577  126.49252       1.0      11.0  ...           0.0            0.0   \n",
       "4  33.24872  126.41032       0.0       0.0  ...           1.0            0.0   \n",
       "\n",
       "    dis_jeju  dis_gosan  dis_seongsan  dis_seoguipo  location_name  \\\n",
       "0   4.286659  37.692766     37.695909     27.841879           jeju   \n",
       "1   4.966848  37.008492     38.448058     27.996179           jeju   \n",
       "2   6.330746  35.642126     39.241905     27.496551           jeju   \n",
       "3   3.575272  38.643401     38.369340     29.579404           jeju   \n",
       "4  31.460686  23.594010     46.337724     14.445605       seoguipo   \n",
       "\n",
       "                        address  bus_route_type  holiday  \n",
       "0            대한민국 제주시 연동 제주 썬호텔               4        0  \n",
       "1       대한민국 제주특별자치도 제주시 연동 도령로               4        0  \n",
       "2             대한민국 제주시 노형동 정존마을               4        0  \n",
       "3  대한민국 제주특별자치도 제주시 용담2동 1984-5               4        0  \n",
       "4  대한민국 제주특별자치도 서귀포시 색달동 2812-4               4        0  \n",
       "\n",
       "[5 rows x 36 columns]"
      ]
     },
     "execution_count": 49,
     "metadata": {},
     "output_type": "execute_result"
    }
   ],
   "source": [
    "test = pd.merge(test, holidays_df, on=['date'])\n",
    "test.head()"
   ]
  },
  {
   "cell_type": "code",
   "execution_count": 50,
   "metadata": {},
   "outputs": [
    {
     "data": {
      "text/plain": [
       "((415423, 37), (228170, 36))"
      ]
     },
     "execution_count": 50,
     "metadata": {},
     "output_type": "execute_result"
    }
   ],
   "source": [
    "train.shape, test.shape"
   ]
  },
  {
   "cell_type": "code",
   "execution_count": 51,
   "metadata": {},
   "outputs": [
    {
     "data": {
      "text/plain": [
       "1    297247\n",
       "0    118176\n",
       "Name: holiday, dtype: int64"
      ]
     },
     "execution_count": 51,
     "metadata": {},
     "output_type": "execute_result"
    }
   ],
   "source": [
    "train['holiday'].value_counts()"
   ]
  },
  {
   "cell_type": "code",
   "execution_count": 52,
   "metadata": {},
   "outputs": [
    {
     "data": {
      "text/plain": [
       "1    152924\n",
       "0     75246\n",
       "Name: holiday, dtype: int64"
      ]
     },
     "execution_count": 52,
     "metadata": {},
     "output_type": "execute_result"
    }
   ],
   "source": [
    "test['holiday'].value_counts()"
   ]
  },
  {
   "cell_type": "markdown",
   "metadata": {},
   "source": [
    "# train, test 저장"
   ]
  },
  {
   "cell_type": "code",
   "execution_count": 53,
   "metadata": {},
   "outputs": [],
   "source": [
    "train.to_csv(\"train_given.csv\", index=False)\n",
    "test.to_csv(\"test_given.csv\", index=False)"
   ]
  }
 ],
 "metadata": {
  "kernelspec": {
   "display_name": "Python 3",
   "language": "python",
   "name": "python3"
  },
  "language_info": {
   "codemirror_mode": {
    "name": "ipython",
    "version": 3
   },
   "file_extension": ".py",
   "mimetype": "text/x-python",
   "name": "python",
   "nbconvert_exporter": "python",
   "pygments_lexer": "ipython3",
   "version": "3.6.5"
  }
 },
 "nbformat": 4,
 "nbformat_minor": 2
}
