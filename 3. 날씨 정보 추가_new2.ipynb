{
 "cells": [
  {
   "cell_type": "code",
   "execution_count": 1,
   "metadata": {},
   "outputs": [],
   "source": [
    "import pandas as pd\n",
    "\n",
    "import warnings\n",
    "warnings.filterwarnings('ignore')"
   ]
  },
  {
   "cell_type": "code",
   "execution_count": 2,
   "metadata": {},
   "outputs": [],
   "source": [
    "train = pd.read_csv(\"train_new1.csv\")\n",
    "test = pd.read_csv(\"test_new1.csv\")"
   ]
  },
  {
   "cell_type": "code",
   "execution_count": 3,
   "metadata": {},
   "outputs": [
    {
     "data": {
      "text/html": [
       "<div>\n",
       "<style scoped>\n",
       "    .dataframe tbody tr th:only-of-type {\n",
       "        vertical-align: middle;\n",
       "    }\n",
       "\n",
       "    .dataframe tbody tr th {\n",
       "        vertical-align: top;\n",
       "    }\n",
       "\n",
       "    .dataframe thead th {\n",
       "        text-align: right;\n",
       "    }\n",
       "</style>\n",
       "<table border=\"1\" class=\"dataframe\">\n",
       "  <thead>\n",
       "    <tr style=\"text-align: right;\">\n",
       "      <th></th>\n",
       "      <th>id</th>\n",
       "      <th>date</th>\n",
       "      <th>bus_route_id</th>\n",
       "      <th>in_out</th>\n",
       "      <th>station_code</th>\n",
       "      <th>station_name</th>\n",
       "      <th>latitude</th>\n",
       "      <th>longitude</th>\n",
       "      <th>6~7_ride</th>\n",
       "      <th>7~8_ride</th>\n",
       "      <th>...</th>\n",
       "      <th>dis_seongsan</th>\n",
       "      <th>dis_seoguipo</th>\n",
       "      <th>location_name</th>\n",
       "      <th>bus_route_type</th>\n",
       "      <th>holiday</th>\n",
       "      <th>num_business_2017</th>\n",
       "      <th>num_employee_2017</th>\n",
       "      <th>population_2018</th>\n",
       "      <th>am_ride</th>\n",
       "      <th>am_takeoff</th>\n",
       "    </tr>\n",
       "  </thead>\n",
       "  <tbody>\n",
       "    <tr>\n",
       "      <th>0</th>\n",
       "      <td>0</td>\n",
       "      <td>2019-09-01</td>\n",
       "      <td>4270000</td>\n",
       "      <td>1</td>\n",
       "      <td>344</td>\n",
       "      <td>제주썬호텔</td>\n",
       "      <td>33.48990</td>\n",
       "      <td>126.49373</td>\n",
       "      <td>0.0</td>\n",
       "      <td>1.0</td>\n",
       "      <td>...</td>\n",
       "      <td>37.695909</td>\n",
       "      <td>27.841879</td>\n",
       "      <td>jeju</td>\n",
       "      <td>4</td>\n",
       "      <td>0</td>\n",
       "      <td>4968</td>\n",
       "      <td>25997</td>\n",
       "      <td>43217</td>\n",
       "      <td>16.0</td>\n",
       "      <td>0.0</td>\n",
       "    </tr>\n",
       "    <tr>\n",
       "      <th>1</th>\n",
       "      <td>1</td>\n",
       "      <td>2019-09-01</td>\n",
       "      <td>4270000</td>\n",
       "      <td>1</td>\n",
       "      <td>357</td>\n",
       "      <td>한라병원</td>\n",
       "      <td>33.48944</td>\n",
       "      <td>126.48508</td>\n",
       "      <td>1.0</td>\n",
       "      <td>4.0</td>\n",
       "      <td>...</td>\n",
       "      <td>38.448058</td>\n",
       "      <td>27.996179</td>\n",
       "      <td>jeju</td>\n",
       "      <td>4</td>\n",
       "      <td>0</td>\n",
       "      <td>4968</td>\n",
       "      <td>25997</td>\n",
       "      <td>43217</td>\n",
       "      <td>22.0</td>\n",
       "      <td>0.0</td>\n",
       "    </tr>\n",
       "    <tr>\n",
       "      <th>2</th>\n",
       "      <td>2</td>\n",
       "      <td>2019-09-01</td>\n",
       "      <td>4270000</td>\n",
       "      <td>1</td>\n",
       "      <td>432</td>\n",
       "      <td>정존마을</td>\n",
       "      <td>33.48181</td>\n",
       "      <td>126.47352</td>\n",
       "      <td>1.0</td>\n",
       "      <td>1.0</td>\n",
       "      <td>...</td>\n",
       "      <td>39.241905</td>\n",
       "      <td>27.496551</td>\n",
       "      <td>jeju</td>\n",
       "      <td>4</td>\n",
       "      <td>0</td>\n",
       "      <td>4718</td>\n",
       "      <td>22028</td>\n",
       "      <td>56223</td>\n",
       "      <td>4.0</td>\n",
       "      <td>0.0</td>\n",
       "    </tr>\n",
       "    <tr>\n",
       "      <th>3</th>\n",
       "      <td>3</td>\n",
       "      <td>2019-09-01</td>\n",
       "      <td>4270000</td>\n",
       "      <td>0</td>\n",
       "      <td>1579</td>\n",
       "      <td>제주국제공항(600번)</td>\n",
       "      <td>33.50577</td>\n",
       "      <td>126.49252</td>\n",
       "      <td>0.0</td>\n",
       "      <td>17.0</td>\n",
       "      <td>...</td>\n",
       "      <td>38.369340</td>\n",
       "      <td>29.579404</td>\n",
       "      <td>jeju</td>\n",
       "      <td>4</td>\n",
       "      <td>0</td>\n",
       "      <td>1271</td>\n",
       "      <td>7273</td>\n",
       "      <td>15673</td>\n",
       "      <td>79.0</td>\n",
       "      <td>0.0</td>\n",
       "    </tr>\n",
       "    <tr>\n",
       "      <th>4</th>\n",
       "      <td>4</td>\n",
       "      <td>2019-09-01</td>\n",
       "      <td>4270000</td>\n",
       "      <td>0</td>\n",
       "      <td>1646</td>\n",
       "      <td>중문관광단지입구</td>\n",
       "      <td>33.25579</td>\n",
       "      <td>126.41260</td>\n",
       "      <td>0.0</td>\n",
       "      <td>0.0</td>\n",
       "      <td>...</td>\n",
       "      <td>45.881475</td>\n",
       "      <td>14.269792</td>\n",
       "      <td>seoguipo</td>\n",
       "      <td>4</td>\n",
       "      <td>0</td>\n",
       "      <td>448</td>\n",
       "      <td>3695</td>\n",
       "      <td>4414</td>\n",
       "      <td>0.0</td>\n",
       "      <td>1.0</td>\n",
       "    </tr>\n",
       "  </tbody>\n",
       "</table>\n",
       "<p>5 rows × 35 columns</p>\n",
       "</div>"
      ],
      "text/plain": [
       "   id        date  bus_route_id  in_out  station_code  station_name  latitude  \\\n",
       "0   0  2019-09-01       4270000       1           344         제주썬호텔  33.48990   \n",
       "1   1  2019-09-01       4270000       1           357          한라병원  33.48944   \n",
       "2   2  2019-09-01       4270000       1           432          정존마을  33.48181   \n",
       "3   3  2019-09-01       4270000       0          1579  제주국제공항(600번)  33.50577   \n",
       "4   4  2019-09-01       4270000       0          1646      중문관광단지입구  33.25579   \n",
       "\n",
       "   longitude  6~7_ride  7~8_ride  ...  dis_seongsan  dis_seoguipo  \\\n",
       "0  126.49373       0.0       1.0  ...     37.695909     27.841879   \n",
       "1  126.48508       1.0       4.0  ...     38.448058     27.996179   \n",
       "2  126.47352       1.0       1.0  ...     39.241905     27.496551   \n",
       "3  126.49252       0.0      17.0  ...     38.369340     29.579404   \n",
       "4  126.41260       0.0       0.0  ...     45.881475     14.269792   \n",
       "\n",
       "   location_name  bus_route_type  holiday  num_business_2017  \\\n",
       "0           jeju               4        0               4968   \n",
       "1           jeju               4        0               4968   \n",
       "2           jeju               4        0               4718   \n",
       "3           jeju               4        0               1271   \n",
       "4       seoguipo               4        0                448   \n",
       "\n",
       "   num_employee_2017  population_2018  am_ride  am_takeoff  \n",
       "0              25997            43217     16.0         0.0  \n",
       "1              25997            43217     22.0         0.0  \n",
       "2              22028            56223      4.0         0.0  \n",
       "3               7273            15673     79.0         0.0  \n",
       "4               3695             4414      0.0         1.0  \n",
       "\n",
       "[5 rows x 35 columns]"
      ]
     },
     "execution_count": 3,
     "metadata": {},
     "output_type": "execute_result"
    }
   ],
   "source": [
    "train.head()"
   ]
  },
  {
   "cell_type": "code",
   "execution_count": 4,
   "metadata": {},
   "outputs": [
    {
     "data": {
      "text/plain": [
       "((415423, 35), (228170, 34))"
      ]
     },
     "execution_count": 4,
     "metadata": {},
     "output_type": "execute_result"
    }
   ],
   "source": [
    "train.shape, test.shape"
   ]
  },
  {
   "cell_type": "markdown",
   "metadata": {},
   "source": [
    "# 1. 날씨 추가하기  \n",
    "- 지점 및 날짜별 기온, 강수량, 풍속, 습도를 추가함  \n",
    "  - 지점은 제주도의 네 개 기상대로 제주, 서귀포, 고산, 성산에 위치  \n",
    "- [날씨 자료 출처](https://data.kma.go.kr/cmmn/main.do)"
   ]
  },
  {
   "cell_type": "markdown",
   "metadata": {},
   "source": [
    "#### 해당 기간의 날씨 자료를 다운받아 저장해둔 raining1.csv를 활용  "
   ]
  },
  {
   "cell_type": "code",
   "execution_count": 5,
   "metadata": {},
   "outputs": [],
   "source": [
    "weather = pd.read_csv(\"raining1.csv\", engine=\"python\")"
   ]
  },
  {
   "cell_type": "code",
   "execution_count": 6,
   "metadata": {},
   "outputs": [
    {
     "data": {
      "text/html": [
       "<div>\n",
       "<style scoped>\n",
       "    .dataframe tbody tr th:only-of-type {\n",
       "        vertical-align: middle;\n",
       "    }\n",
       "\n",
       "    .dataframe tbody tr th {\n",
       "        vertical-align: top;\n",
       "    }\n",
       "\n",
       "    .dataframe thead th {\n",
       "        text-align: right;\n",
       "    }\n",
       "</style>\n",
       "<table border=\"1\" class=\"dataframe\">\n",
       "  <thead>\n",
       "    <tr style=\"text-align: right;\">\n",
       "      <th></th>\n",
       "      <th>지점</th>\n",
       "      <th>일시</th>\n",
       "      <th>기온(°C)</th>\n",
       "      <th>강수량(mm)</th>\n",
       "      <th>풍속(m/s)</th>\n",
       "      <th>습도(%)</th>\n",
       "    </tr>\n",
       "  </thead>\n",
       "  <tbody>\n",
       "    <tr>\n",
       "      <th>0</th>\n",
       "      <td>184</td>\n",
       "      <td>2019-09-01 06:00</td>\n",
       "      <td>23.4</td>\n",
       "      <td>NaN</td>\n",
       "      <td>1.2</td>\n",
       "      <td>73</td>\n",
       "    </tr>\n",
       "    <tr>\n",
       "      <th>1</th>\n",
       "      <td>184</td>\n",
       "      <td>2019-09-01 07:00</td>\n",
       "      <td>23.5</td>\n",
       "      <td>0.0</td>\n",
       "      <td>0.9</td>\n",
       "      <td>71</td>\n",
       "    </tr>\n",
       "    <tr>\n",
       "      <th>2</th>\n",
       "      <td>184</td>\n",
       "      <td>2019-09-01 08:00</td>\n",
       "      <td>24.0</td>\n",
       "      <td>0.0</td>\n",
       "      <td>0.7</td>\n",
       "      <td>69</td>\n",
       "    </tr>\n",
       "    <tr>\n",
       "      <th>3</th>\n",
       "      <td>184</td>\n",
       "      <td>2019-09-01 09:00</td>\n",
       "      <td>24.9</td>\n",
       "      <td>0.0</td>\n",
       "      <td>1.3</td>\n",
       "      <td>68</td>\n",
       "    </tr>\n",
       "    <tr>\n",
       "      <th>4</th>\n",
       "      <td>184</td>\n",
       "      <td>2019-09-01 10:00</td>\n",
       "      <td>26.2</td>\n",
       "      <td>NaN</td>\n",
       "      <td>1.8</td>\n",
       "      <td>64</td>\n",
       "    </tr>\n",
       "  </tbody>\n",
       "</table>\n",
       "</div>"
      ],
      "text/plain": [
       "    지점                일시  기온(°C)  강수량(mm)  풍속(m/s)  습도(%)\n",
       "0  184  2019-09-01 06:00    23.4      NaN      1.2     73\n",
       "1  184  2019-09-01 07:00    23.5      0.0      0.9     71\n",
       "2  184  2019-09-01 08:00    24.0      0.0      0.7     69\n",
       "3  184  2019-09-01 09:00    24.9      0.0      1.3     68\n",
       "4  184  2019-09-01 10:00    26.2      NaN      1.8     64"
      ]
     },
     "execution_count": 6,
     "metadata": {},
     "output_type": "execute_result"
    }
   ],
   "source": [
    "weather.head()"
   ]
  },
  {
   "cell_type": "code",
   "execution_count": 7,
   "metadata": {},
   "outputs": [
    {
     "data": {
      "text/plain": [
       "array([184, 185, 188, 189], dtype=int64)"
      ]
     },
     "execution_count": 7,
     "metadata": {},
     "output_type": "execute_result"
    }
   ],
   "source": [
    "weather['지점'].unique()"
   ]
  },
  {
   "cell_type": "code",
   "execution_count": 8,
   "metadata": {},
   "outputs": [
    {
     "data": {
      "text/plain": [
       "189    1087\n",
       "185    1087\n",
       "188    1087\n",
       "184    1087\n",
       "Name: 지점, dtype: int64"
      ]
     },
     "execution_count": 8,
     "metadata": {},
     "output_type": "execute_result"
    }
   ],
   "source": [
    "weather['지점'].value_counts()"
   ]
  },
  {
   "cell_type": "markdown",
   "metadata": {},
   "source": [
    "#### 지점을 location_name으로 바꿔주기  \n",
    "- 184:jeju, 185:gosan, 188:seongsan, 189:seoguipo  "
   ]
  },
  {
   "cell_type": "code",
   "execution_count": 9,
   "metadata": {},
   "outputs": [
    {
     "data": {
      "text/plain": [
       "지점          object\n",
       "일시          object\n",
       "기온(°C)     float64\n",
       "강수량(mm)    float64\n",
       "풍속(m/s)    float64\n",
       "습도(%)        int64\n",
       "dtype: object"
      ]
     },
     "execution_count": 9,
     "metadata": {},
     "output_type": "execute_result"
    }
   ],
   "source": [
    "weather['지점'] = weather['지점'].apply(str)\n",
    "weather.dtypes"
   ]
  },
  {
   "cell_type": "code",
   "execution_count": 10,
   "metadata": {},
   "outputs": [
    {
     "data": {
      "text/html": [
       "<div>\n",
       "<style scoped>\n",
       "    .dataframe tbody tr th:only-of-type {\n",
       "        vertical-align: middle;\n",
       "    }\n",
       "\n",
       "    .dataframe tbody tr th {\n",
       "        vertical-align: top;\n",
       "    }\n",
       "\n",
       "    .dataframe thead th {\n",
       "        text-align: right;\n",
       "    }\n",
       "</style>\n",
       "<table border=\"1\" class=\"dataframe\">\n",
       "  <thead>\n",
       "    <tr style=\"text-align: right;\">\n",
       "      <th></th>\n",
       "      <th>지점</th>\n",
       "      <th>일시</th>\n",
       "      <th>기온(°C)</th>\n",
       "      <th>강수량(mm)</th>\n",
       "      <th>풍속(m/s)</th>\n",
       "      <th>습도(%)</th>\n",
       "    </tr>\n",
       "  </thead>\n",
       "  <tbody>\n",
       "    <tr>\n",
       "      <th>0</th>\n",
       "      <td>jeju</td>\n",
       "      <td>2019-09-01 06:00</td>\n",
       "      <td>23.4</td>\n",
       "      <td>NaN</td>\n",
       "      <td>1.2</td>\n",
       "      <td>73</td>\n",
       "    </tr>\n",
       "    <tr>\n",
       "      <th>1</th>\n",
       "      <td>jeju</td>\n",
       "      <td>2019-09-01 07:00</td>\n",
       "      <td>23.5</td>\n",
       "      <td>0.0</td>\n",
       "      <td>0.9</td>\n",
       "      <td>71</td>\n",
       "    </tr>\n",
       "    <tr>\n",
       "      <th>2</th>\n",
       "      <td>jeju</td>\n",
       "      <td>2019-09-01 08:00</td>\n",
       "      <td>24.0</td>\n",
       "      <td>0.0</td>\n",
       "      <td>0.7</td>\n",
       "      <td>69</td>\n",
       "    </tr>\n",
       "    <tr>\n",
       "      <th>3</th>\n",
       "      <td>jeju</td>\n",
       "      <td>2019-09-01 09:00</td>\n",
       "      <td>24.9</td>\n",
       "      <td>0.0</td>\n",
       "      <td>1.3</td>\n",
       "      <td>68</td>\n",
       "    </tr>\n",
       "    <tr>\n",
       "      <th>4</th>\n",
       "      <td>jeju</td>\n",
       "      <td>2019-09-01 10:00</td>\n",
       "      <td>26.2</td>\n",
       "      <td>NaN</td>\n",
       "      <td>1.8</td>\n",
       "      <td>64</td>\n",
       "    </tr>\n",
       "  </tbody>\n",
       "</table>\n",
       "</div>"
      ],
      "text/plain": [
       "     지점                일시  기온(°C)  강수량(mm)  풍속(m/s)  습도(%)\n",
       "0  jeju  2019-09-01 06:00    23.4      NaN      1.2     73\n",
       "1  jeju  2019-09-01 07:00    23.5      0.0      0.9     71\n",
       "2  jeju  2019-09-01 08:00    24.0      0.0      0.7     69\n",
       "3  jeju  2019-09-01 09:00    24.9      0.0      1.3     68\n",
       "4  jeju  2019-09-01 10:00    26.2      NaN      1.8     64"
      ]
     },
     "execution_count": 10,
     "metadata": {},
     "output_type": "execute_result"
    }
   ],
   "source": [
    "weather['지점'] = ['jeju' if i=='184' else i for i in weather['지점']]\n",
    "weather['지점'] = ['gosan' if i=='185' else i for i in weather['지점']]\n",
    "weather['지점'] = ['seongsan' if i=='188' else i for i in weather['지점']]\n",
    "weather['지점'] = ['seoguipo' if i=='189' else i for i in weather['지점']]\n",
    "\n",
    "weather.head()"
   ]
  },
  {
   "cell_type": "markdown",
   "metadata": {},
   "source": [
    "#### weather의 일시를 split해서 일시와 time으로 나눠주고, 오전 6부터 오후 12이전 시간대의 데이터만 추출하기"
   ]
  },
  {
   "cell_type": "code",
   "execution_count": 11,
   "metadata": {},
   "outputs": [],
   "source": [
    "weather['time'] = [int(i.split(\" \")[1].split(\":\")[0]) for i in weather['일시']]\n",
    "weather['일시'] = [i.split(\" \")[0] for i in weather['일시']]\n",
    "weather2 = weather[(weather['time']>=6) & (weather['time']<12)]"
   ]
  },
  {
   "cell_type": "code",
   "execution_count": 12,
   "metadata": {},
   "outputs": [
    {
     "data": {
      "text/html": [
       "<div>\n",
       "<style scoped>\n",
       "    .dataframe tbody tr th:only-of-type {\n",
       "        vertical-align: middle;\n",
       "    }\n",
       "\n",
       "    .dataframe tbody tr th {\n",
       "        vertical-align: top;\n",
       "    }\n",
       "\n",
       "    .dataframe thead th {\n",
       "        text-align: right;\n",
       "    }\n",
       "</style>\n",
       "<table border=\"1\" class=\"dataframe\">\n",
       "  <thead>\n",
       "    <tr style=\"text-align: right;\">\n",
       "      <th></th>\n",
       "      <th>지점</th>\n",
       "      <th>일시</th>\n",
       "      <th>기온(°C)</th>\n",
       "      <th>강수량(mm)</th>\n",
       "      <th>풍속(m/s)</th>\n",
       "      <th>습도(%)</th>\n",
       "      <th>time</th>\n",
       "    </tr>\n",
       "  </thead>\n",
       "  <tbody>\n",
       "    <tr>\n",
       "      <th>0</th>\n",
       "      <td>jeju</td>\n",
       "      <td>2019-09-01</td>\n",
       "      <td>23.4</td>\n",
       "      <td>NaN</td>\n",
       "      <td>1.2</td>\n",
       "      <td>73</td>\n",
       "      <td>6</td>\n",
       "    </tr>\n",
       "    <tr>\n",
       "      <th>1</th>\n",
       "      <td>jeju</td>\n",
       "      <td>2019-09-01</td>\n",
       "      <td>23.5</td>\n",
       "      <td>0.0</td>\n",
       "      <td>0.9</td>\n",
       "      <td>71</td>\n",
       "      <td>7</td>\n",
       "    </tr>\n",
       "    <tr>\n",
       "      <th>2</th>\n",
       "      <td>jeju</td>\n",
       "      <td>2019-09-01</td>\n",
       "      <td>24.0</td>\n",
       "      <td>0.0</td>\n",
       "      <td>0.7</td>\n",
       "      <td>69</td>\n",
       "      <td>8</td>\n",
       "    </tr>\n",
       "    <tr>\n",
       "      <th>3</th>\n",
       "      <td>jeju</td>\n",
       "      <td>2019-09-01</td>\n",
       "      <td>24.9</td>\n",
       "      <td>0.0</td>\n",
       "      <td>1.3</td>\n",
       "      <td>68</td>\n",
       "      <td>9</td>\n",
       "    </tr>\n",
       "    <tr>\n",
       "      <th>4</th>\n",
       "      <td>jeju</td>\n",
       "      <td>2019-09-01</td>\n",
       "      <td>26.2</td>\n",
       "      <td>NaN</td>\n",
       "      <td>1.8</td>\n",
       "      <td>64</td>\n",
       "      <td>10</td>\n",
       "    </tr>\n",
       "  </tbody>\n",
       "</table>\n",
       "</div>"
      ],
      "text/plain": [
       "     지점          일시  기온(°C)  강수량(mm)  풍속(m/s)  습도(%)  time\n",
       "0  jeju  2019-09-01    23.4      NaN      1.2     73     6\n",
       "1  jeju  2019-09-01    23.5      0.0      0.9     71     7\n",
       "2  jeju  2019-09-01    24.0      0.0      0.7     69     8\n",
       "3  jeju  2019-09-01    24.9      0.0      1.3     68     9\n",
       "4  jeju  2019-09-01    26.2      NaN      1.8     64    10"
      ]
     },
     "execution_count": 12,
     "metadata": {},
     "output_type": "execute_result"
    }
   ],
   "source": [
    "weather2.head()"
   ]
  },
  {
   "cell_type": "markdown",
   "metadata": {},
   "source": [
    "#### 지점, 일시별 평균값 구하기"
   ]
  },
  {
   "cell_type": "code",
   "execution_count": 13,
   "metadata": {},
   "outputs": [
    {
     "data": {
      "text/html": [
       "<div>\n",
       "<style scoped>\n",
       "    .dataframe tbody tr th:only-of-type {\n",
       "        vertical-align: middle;\n",
       "    }\n",
       "\n",
       "    .dataframe tbody tr th {\n",
       "        vertical-align: top;\n",
       "    }\n",
       "\n",
       "    .dataframe thead th {\n",
       "        text-align: right;\n",
       "    }\n",
       "</style>\n",
       "<table border=\"1\" class=\"dataframe\">\n",
       "  <thead>\n",
       "    <tr style=\"text-align: right;\">\n",
       "      <th></th>\n",
       "      <th>지점</th>\n",
       "      <th>일시</th>\n",
       "      <th>기온(°C)</th>\n",
       "      <th>강수량(mm)</th>\n",
       "      <th>풍속(m/s)</th>\n",
       "      <th>습도(%)</th>\n",
       "    </tr>\n",
       "  </thead>\n",
       "  <tbody>\n",
       "    <tr>\n",
       "      <th>0</th>\n",
       "      <td>gosan</td>\n",
       "      <td>2019-09-01</td>\n",
       "      <td>23.916667</td>\n",
       "      <td>0.00</td>\n",
       "      <td>1.650000</td>\n",
       "      <td>80.166667</td>\n",
       "    </tr>\n",
       "    <tr>\n",
       "      <th>1</th>\n",
       "      <td>gosan</td>\n",
       "      <td>2019-09-02</td>\n",
       "      <td>23.700000</td>\n",
       "      <td>12.10</td>\n",
       "      <td>5.333333</td>\n",
       "      <td>96.666667</td>\n",
       "    </tr>\n",
       "    <tr>\n",
       "      <th>2</th>\n",
       "      <td>gosan</td>\n",
       "      <td>2019-09-03</td>\n",
       "      <td>23.550000</td>\n",
       "      <td>1.90</td>\n",
       "      <td>3.233333</td>\n",
       "      <td>100.000000</td>\n",
       "    </tr>\n",
       "    <tr>\n",
       "      <th>3</th>\n",
       "      <td>gosan</td>\n",
       "      <td>2019-09-04</td>\n",
       "      <td>23.533333</td>\n",
       "      <td>12.84</td>\n",
       "      <td>4.033333</td>\n",
       "      <td>99.666667</td>\n",
       "    </tr>\n",
       "    <tr>\n",
       "      <th>4</th>\n",
       "      <td>gosan</td>\n",
       "      <td>2019-09-05</td>\n",
       "      <td>26.033333</td>\n",
       "      <td>0.00</td>\n",
       "      <td>5.450000</td>\n",
       "      <td>93.333333</td>\n",
       "    </tr>\n",
       "  </tbody>\n",
       "</table>\n",
       "</div>"
      ],
      "text/plain": [
       "      지점          일시     기온(°C)  강수량(mm)   풍속(m/s)       습도(%)\n",
       "0  gosan  2019-09-01  23.916667     0.00  1.650000   80.166667\n",
       "1  gosan  2019-09-02  23.700000    12.10  5.333333   96.666667\n",
       "2  gosan  2019-09-03  23.550000     1.90  3.233333  100.000000\n",
       "3  gosan  2019-09-04  23.533333    12.84  4.033333   99.666667\n",
       "4  gosan  2019-09-05  26.033333     0.00  5.450000   93.333333"
      ]
     },
     "execution_count": 13,
     "metadata": {},
     "output_type": "execute_result"
    }
   ],
   "source": [
    "weather3 = weather2.groupby(['지점', '일시'])[['기온(°C)', '강수량(mm)', '풍속(m/s)', '습도(%)']].mean()\n",
    "weather3 = weather3.reset_index()\n",
    "weather3.head()"
   ]
  },
  {
   "cell_type": "markdown",
   "metadata": {},
   "source": [
    "#### NaN 확인"
   ]
  },
  {
   "cell_type": "code",
   "execution_count": 14,
   "metadata": {},
   "outputs": [
    {
     "data": {
      "text/plain": [
       "지점           0\n",
       "일시           0\n",
       "기온(°C)       0\n",
       "강수량(mm)    118\n",
       "풍속(m/s)      2\n",
       "습도(%)        0\n",
       "dtype: int64"
      ]
     },
     "execution_count": 14,
     "metadata": {},
     "output_type": "execute_result"
    }
   ],
   "source": [
    "weather3.isnull().sum()"
   ]
  },
  {
   "cell_type": "markdown",
   "metadata": {},
   "source": [
    "- 기상청 홈페이지를 찾아보았지만 NaN에 무엇을 넣어주어야 할 지 찾지 못해 직접 할당해주기로 했다"
   ]
  },
  {
   "cell_type": "markdown",
   "metadata": {},
   "source": [
    "#### 우선 null값이 2개뿐인 풍속의 missing value 채워주기"
   ]
  },
  {
   "cell_type": "code",
   "execution_count": 15,
   "metadata": {},
   "outputs": [
    {
     "data": {
      "text/html": [
       "<div>\n",
       "<style scoped>\n",
       "    .dataframe tbody tr th:only-of-type {\n",
       "        vertical-align: middle;\n",
       "    }\n",
       "\n",
       "    .dataframe tbody tr th {\n",
       "        vertical-align: top;\n",
       "    }\n",
       "\n",
       "    .dataframe thead th {\n",
       "        text-align: right;\n",
       "    }\n",
       "</style>\n",
       "<table border=\"1\" class=\"dataframe\">\n",
       "  <thead>\n",
       "    <tr style=\"text-align: right;\">\n",
       "      <th></th>\n",
       "      <th>지점</th>\n",
       "      <th>일시</th>\n",
       "      <th>기온(°C)</th>\n",
       "      <th>강수량(mm)</th>\n",
       "      <th>풍속(m/s)</th>\n",
       "      <th>습도(%)</th>\n",
       "    </tr>\n",
       "  </thead>\n",
       "  <tbody>\n",
       "    <tr>\n",
       "      <th>161</th>\n",
       "      <td>seongsan</td>\n",
       "      <td>2019-09-24</td>\n",
       "      <td>19.9</td>\n",
       "      <td>NaN</td>\n",
       "      <td>NaN</td>\n",
       "      <td>73.000000</td>\n",
       "    </tr>\n",
       "    <tr>\n",
       "      <th>162</th>\n",
       "      <td>seongsan</td>\n",
       "      <td>2019-09-25</td>\n",
       "      <td>21.4</td>\n",
       "      <td>NaN</td>\n",
       "      <td>NaN</td>\n",
       "      <td>70.833333</td>\n",
       "    </tr>\n",
       "  </tbody>\n",
       "</table>\n",
       "</div>"
      ],
      "text/plain": [
       "           지점          일시  기온(°C)  강수량(mm)  풍속(m/s)      습도(%)\n",
       "161  seongsan  2019-09-24    19.9      NaN      NaN  73.000000\n",
       "162  seongsan  2019-09-25    21.4      NaN      NaN  70.833333"
      ]
     },
     "execution_count": 15,
     "metadata": {},
     "output_type": "execute_result"
    }
   ],
   "source": [
    "weather3.loc[weather3['풍속(m/s)'].isnull()]"
   ]
  },
  {
   "cell_type": "markdown",
   "metadata": {},
   "source": [
    "- **살펴보니 둘 다 seongsan에서 9월 24, 25일의 데이터이므로 seongsan의 9월 23, 26일 풍속 평균 값을 할당해주기로 한다**"
   ]
  },
  {
   "cell_type": "code",
   "execution_count": 16,
   "metadata": {},
   "outputs": [
    {
     "data": {
      "text/html": [
       "<div>\n",
       "<style scoped>\n",
       "    .dataframe tbody tr th:only-of-type {\n",
       "        vertical-align: middle;\n",
       "    }\n",
       "\n",
       "    .dataframe tbody tr th {\n",
       "        vertical-align: top;\n",
       "    }\n",
       "\n",
       "    .dataframe thead th {\n",
       "        text-align: right;\n",
       "    }\n",
       "</style>\n",
       "<table border=\"1\" class=\"dataframe\">\n",
       "  <thead>\n",
       "    <tr style=\"text-align: right;\">\n",
       "      <th></th>\n",
       "      <th>지점</th>\n",
       "      <th>일시</th>\n",
       "      <th>기온(°C)</th>\n",
       "      <th>풍속(m/s)</th>\n",
       "      <th>습도(%)</th>\n",
       "    </tr>\n",
       "  </thead>\n",
       "  <tbody>\n",
       "    <tr>\n",
       "      <th>160</th>\n",
       "      <td>seongsan</td>\n",
       "      <td>2019-09-23</td>\n",
       "      <td>19.833333</td>\n",
       "      <td>2.150000</td>\n",
       "      <td>84.166667</td>\n",
       "    </tr>\n",
       "    <tr>\n",
       "      <th>161</th>\n",
       "      <td>seongsan</td>\n",
       "      <td>2019-09-24</td>\n",
       "      <td>19.900000</td>\n",
       "      <td>NaN</td>\n",
       "      <td>73.000000</td>\n",
       "    </tr>\n",
       "    <tr>\n",
       "      <th>162</th>\n",
       "      <td>seongsan</td>\n",
       "      <td>2019-09-25</td>\n",
       "      <td>21.400000</td>\n",
       "      <td>NaN</td>\n",
       "      <td>70.833333</td>\n",
       "    </tr>\n",
       "    <tr>\n",
       "      <th>163</th>\n",
       "      <td>seongsan</td>\n",
       "      <td>2019-09-26</td>\n",
       "      <td>24.266667</td>\n",
       "      <td>4.466667</td>\n",
       "      <td>78.666667</td>\n",
       "    </tr>\n",
       "  </tbody>\n",
       "</table>\n",
       "</div>"
      ],
      "text/plain": [
       "           지점          일시     기온(°C)   풍속(m/s)      습도(%)\n",
       "160  seongsan  2019-09-23  19.833333  2.150000  84.166667\n",
       "161  seongsan  2019-09-24  19.900000       NaN  73.000000\n",
       "162  seongsan  2019-09-25  21.400000       NaN  70.833333\n",
       "163  seongsan  2019-09-26  24.266667  4.466667  78.666667"
      ]
     },
     "execution_count": 16,
     "metadata": {},
     "output_type": "execute_result"
    }
   ],
   "source": [
    "weather4 = weather3.iloc[160:164, :]\n",
    "del weather4['강수량(mm)']\n",
    "weather4"
   ]
  },
  {
   "cell_type": "code",
   "execution_count": 17,
   "metadata": {},
   "outputs": [
    {
     "data": {
      "text/plain": [
       "3.3083333333333327"
      ]
     },
     "execution_count": 17,
     "metadata": {},
     "output_type": "execute_result"
    }
   ],
   "source": [
    "wind_mean = weather4['풍속(m/s)'].mean()\n",
    "wind_mean"
   ]
  },
  {
   "cell_type": "code",
   "execution_count": 18,
   "metadata": {},
   "outputs": [],
   "source": [
    "weather4 = weather4.fillna(wind_mean)"
   ]
  },
  {
   "cell_type": "code",
   "execution_count": 19,
   "metadata": {},
   "outputs": [
    {
     "data": {
      "text/plain": [
       "지점         0\n",
       "일시         0\n",
       "기온(°C)     0\n",
       "풍속(m/s)    0\n",
       "습도(%)      0\n",
       "dtype: int64"
      ]
     },
     "execution_count": 19,
     "metadata": {},
     "output_type": "execute_result"
    }
   ],
   "source": [
    "weather4.isnull().sum()"
   ]
  },
  {
   "cell_type": "code",
   "execution_count": 20,
   "metadata": {},
   "outputs": [
    {
     "data": {
      "text/plain": [
       "지점           0\n",
       "일시           0\n",
       "기온(°C)       0\n",
       "강수량(mm)    118\n",
       "풍속(m/s)      0\n",
       "습도(%)        0\n",
       "dtype: int64"
      ]
     },
     "execution_count": 20,
     "metadata": {},
     "output_type": "execute_result"
    }
   ],
   "source": [
    "weather3['풍속(m/s)'] = weather3['풍속(m/s)'].fillna(wind_mean)\n",
    "weather3.isnull().sum()"
   ]
  },
  {
   "cell_type": "markdown",
   "metadata": {},
   "source": [
    "- 풍속의 null값이 사라진 것을 확인할 수 있다"
   ]
  },
  {
   "cell_type": "markdown",
   "metadata": {},
   "source": [
    "#### 강수량의 missing value 채워주기  \n",
    "- **RandomForestClassifier를 이용하자**  "
   ]
  },
  {
   "cell_type": "code",
   "execution_count": 21,
   "metadata": {},
   "outputs": [],
   "source": [
    "from sklearn.ensemble import RandomForestClassifier\n",
    "\n",
    "def predict_rain(data):    \n",
    "    dataNull = data.loc[data['강수량(mm)'].isnull()]\n",
    "    dataNotNull = data.loc[data['강수량(mm)'].notnull()]\n",
    "    \n",
    "    #####rain 예측할 피처를 선택\n",
    "    wCol = ['기온(°C)', '풍속(m/s)', '습도(%)']\n",
    "\n",
    "    dataNotNull['강수량(mm)'] = dataNotNull['강수량(mm)'].astype('str')\n",
    "    \n",
    "    rfModel_rain = RandomForestClassifier()\n",
    "    rfModel_rain.fit(dataNotNull[wCol], dataNotNull['강수량(mm)'])\n",
    "    rainNullValues = rfModel_rain.predict(X = dataNull[wCol])\n",
    "    \n",
    "    # 예측한 값과 비교하기 위해 예측한 값을 넣을 데이터 프레임 생성\n",
    "    predictRainNull = dataNull\n",
    "    predictRainNotNull = dataNotNull\n",
    "    \n",
    "    predictRainNull['강수량(mm)'] = rainNullValues\n",
    "    \n",
    "    data = predictRainNotNull.append(predictRainNull)\n",
    "    data['강수량(mm)'] = data['강수량(mm)'].astype('float')\n",
    "    \n",
    "    data.reset_index(inplace=True)\n",
    "    data.drop('index', axis=1, inplace=True)\n",
    "    \n",
    "    return data"
   ]
  },
  {
   "cell_type": "code",
   "execution_count": 22,
   "metadata": {},
   "outputs": [
    {
     "data": {
      "text/html": [
       "<div>\n",
       "<style scoped>\n",
       "    .dataframe tbody tr th:only-of-type {\n",
       "        vertical-align: middle;\n",
       "    }\n",
       "\n",
       "    .dataframe tbody tr th {\n",
       "        vertical-align: top;\n",
       "    }\n",
       "\n",
       "    .dataframe thead th {\n",
       "        text-align: right;\n",
       "    }\n",
       "</style>\n",
       "<table border=\"1\" class=\"dataframe\">\n",
       "  <thead>\n",
       "    <tr style=\"text-align: right;\">\n",
       "      <th></th>\n",
       "      <th>지점</th>\n",
       "      <th>일시</th>\n",
       "      <th>기온(°C)</th>\n",
       "      <th>강수량(mm)</th>\n",
       "      <th>풍속(m/s)</th>\n",
       "      <th>습도(%)</th>\n",
       "    </tr>\n",
       "  </thead>\n",
       "  <tbody>\n",
       "    <tr>\n",
       "      <th>0</th>\n",
       "      <td>gosan</td>\n",
       "      <td>2019-09-01</td>\n",
       "      <td>23.916667</td>\n",
       "      <td>0.00</td>\n",
       "      <td>1.650000</td>\n",
       "      <td>80.166667</td>\n",
       "    </tr>\n",
       "    <tr>\n",
       "      <th>1</th>\n",
       "      <td>gosan</td>\n",
       "      <td>2019-09-02</td>\n",
       "      <td>23.700000</td>\n",
       "      <td>12.10</td>\n",
       "      <td>5.333333</td>\n",
       "      <td>96.666667</td>\n",
       "    </tr>\n",
       "    <tr>\n",
       "      <th>2</th>\n",
       "      <td>gosan</td>\n",
       "      <td>2019-09-03</td>\n",
       "      <td>23.550000</td>\n",
       "      <td>1.90</td>\n",
       "      <td>3.233333</td>\n",
       "      <td>100.000000</td>\n",
       "    </tr>\n",
       "    <tr>\n",
       "      <th>3</th>\n",
       "      <td>gosan</td>\n",
       "      <td>2019-09-04</td>\n",
       "      <td>23.533333</td>\n",
       "      <td>12.84</td>\n",
       "      <td>4.033333</td>\n",
       "      <td>99.666667</td>\n",
       "    </tr>\n",
       "    <tr>\n",
       "      <th>4</th>\n",
       "      <td>gosan</td>\n",
       "      <td>2019-09-05</td>\n",
       "      <td>26.033333</td>\n",
       "      <td>0.00</td>\n",
       "      <td>5.450000</td>\n",
       "      <td>93.333333</td>\n",
       "    </tr>\n",
       "  </tbody>\n",
       "</table>\n",
       "</div>"
      ],
      "text/plain": [
       "      지점          일시     기온(°C)  강수량(mm)   풍속(m/s)       습도(%)\n",
       "0  gosan  2019-09-01  23.916667     0.00  1.650000   80.166667\n",
       "1  gosan  2019-09-02  23.700000    12.10  5.333333   96.666667\n",
       "2  gosan  2019-09-03  23.550000     1.90  3.233333  100.000000\n",
       "3  gosan  2019-09-04  23.533333    12.84  4.033333   99.666667\n",
       "4  gosan  2019-09-05  26.033333     0.00  5.450000   93.333333"
      ]
     },
     "execution_count": 22,
     "metadata": {},
     "output_type": "execute_result"
    }
   ],
   "source": [
    "weather3 = predict_rain(weather3)\n",
    "weather3.head()"
   ]
  },
  {
   "cell_type": "code",
   "execution_count": 23,
   "metadata": {},
   "outputs": [
    {
     "data": {
      "text/plain": [
       "지점         0\n",
       "일시         0\n",
       "기온(°C)     0\n",
       "강수량(mm)    0\n",
       "풍속(m/s)    0\n",
       "습도(%)      0\n",
       "dtype: int64"
      ]
     },
     "execution_count": 23,
     "metadata": {},
     "output_type": "execute_result"
    }
   ],
   "source": [
    "weather3.isnull().sum()"
   ]
  },
  {
   "cell_type": "markdown",
   "metadata": {},
   "source": [
    "- missing value가 모두 채워진 것을 확인"
   ]
  },
  {
   "cell_type": "code",
   "execution_count": 24,
   "metadata": {},
   "outputs": [
    {
     "data": {
      "text/html": [
       "<div>\n",
       "<style scoped>\n",
       "    .dataframe tbody tr th:only-of-type {\n",
       "        vertical-align: middle;\n",
       "    }\n",
       "\n",
       "    .dataframe tbody tr th {\n",
       "        vertical-align: top;\n",
       "    }\n",
       "\n",
       "    .dataframe thead th {\n",
       "        text-align: right;\n",
       "    }\n",
       "</style>\n",
       "<table border=\"1\" class=\"dataframe\">\n",
       "  <thead>\n",
       "    <tr style=\"text-align: right;\">\n",
       "      <th></th>\n",
       "      <th>location_name</th>\n",
       "      <th>date</th>\n",
       "      <th>temperature</th>\n",
       "      <th>rain</th>\n",
       "      <th>windspeed</th>\n",
       "      <th>humidity</th>\n",
       "    </tr>\n",
       "  </thead>\n",
       "  <tbody>\n",
       "    <tr>\n",
       "      <th>0</th>\n",
       "      <td>gosan</td>\n",
       "      <td>2019-09-01</td>\n",
       "      <td>23.916667</td>\n",
       "      <td>0.00</td>\n",
       "      <td>1.650000</td>\n",
       "      <td>80.166667</td>\n",
       "    </tr>\n",
       "    <tr>\n",
       "      <th>1</th>\n",
       "      <td>gosan</td>\n",
       "      <td>2019-09-02</td>\n",
       "      <td>23.700000</td>\n",
       "      <td>12.10</td>\n",
       "      <td>5.333333</td>\n",
       "      <td>96.666667</td>\n",
       "    </tr>\n",
       "    <tr>\n",
       "      <th>2</th>\n",
       "      <td>gosan</td>\n",
       "      <td>2019-09-03</td>\n",
       "      <td>23.550000</td>\n",
       "      <td>1.90</td>\n",
       "      <td>3.233333</td>\n",
       "      <td>100.000000</td>\n",
       "    </tr>\n",
       "    <tr>\n",
       "      <th>3</th>\n",
       "      <td>gosan</td>\n",
       "      <td>2019-09-04</td>\n",
       "      <td>23.533333</td>\n",
       "      <td>12.84</td>\n",
       "      <td>4.033333</td>\n",
       "      <td>99.666667</td>\n",
       "    </tr>\n",
       "    <tr>\n",
       "      <th>4</th>\n",
       "      <td>gosan</td>\n",
       "      <td>2019-09-05</td>\n",
       "      <td>26.033333</td>\n",
       "      <td>0.00</td>\n",
       "      <td>5.450000</td>\n",
       "      <td>93.333333</td>\n",
       "    </tr>\n",
       "  </tbody>\n",
       "</table>\n",
       "</div>"
      ],
      "text/plain": [
       "  location_name        date  temperature   rain  windspeed    humidity\n",
       "0         gosan  2019-09-01    23.916667   0.00   1.650000   80.166667\n",
       "1         gosan  2019-09-02    23.700000  12.10   5.333333   96.666667\n",
       "2         gosan  2019-09-03    23.550000   1.90   3.233333  100.000000\n",
       "3         gosan  2019-09-04    23.533333  12.84   4.033333   99.666667\n",
       "4         gosan  2019-09-05    26.033333   0.00   5.450000   93.333333"
      ]
     },
     "execution_count": 24,
     "metadata": {},
     "output_type": "execute_result"
    }
   ],
   "source": [
    "weather3 = weather3.rename(columns={'지점':'location_name', '일시':'date', '기온(°C)':'temperature', '강수량(mm)':'rain',\n",
    "                                   '풍속(m/s)':'windspeed', '습도(%)':'humidity'})\n",
    "weather3.head()"
   ]
  },
  {
   "cell_type": "markdown",
   "metadata": {},
   "source": [
    "#### weather3과 train,test merge해주기"
   ]
  },
  {
   "cell_type": "code",
   "execution_count": 31,
   "metadata": {},
   "outputs": [
    {
     "data": {
      "text/plain": [
       "(415423, 39)"
      ]
     },
     "execution_count": 31,
     "metadata": {},
     "output_type": "execute_result"
    }
   ],
   "source": [
    "train = pd.merge(train, weather3, how='left', on=['location_name', 'date'])\n",
    "train.shape"
   ]
  },
  {
   "cell_type": "code",
   "execution_count": 32,
   "metadata": {},
   "outputs": [
    {
     "data": {
      "text/html": [
       "<div>\n",
       "<style scoped>\n",
       "    .dataframe tbody tr th:only-of-type {\n",
       "        vertical-align: middle;\n",
       "    }\n",
       "\n",
       "    .dataframe tbody tr th {\n",
       "        vertical-align: top;\n",
       "    }\n",
       "\n",
       "    .dataframe thead th {\n",
       "        text-align: right;\n",
       "    }\n",
       "</style>\n",
       "<table border=\"1\" class=\"dataframe\">\n",
       "  <thead>\n",
       "    <tr style=\"text-align: right;\">\n",
       "      <th></th>\n",
       "      <th>id</th>\n",
       "      <th>date</th>\n",
       "      <th>bus_route_id</th>\n",
       "      <th>in_out</th>\n",
       "      <th>station_code</th>\n",
       "      <th>station_name</th>\n",
       "      <th>latitude</th>\n",
       "      <th>longitude</th>\n",
       "      <th>6~7_ride</th>\n",
       "      <th>7~8_ride</th>\n",
       "      <th>...</th>\n",
       "      <th>holiday</th>\n",
       "      <th>num_business_2017</th>\n",
       "      <th>num_employee_2017</th>\n",
       "      <th>population_2018</th>\n",
       "      <th>am_ride</th>\n",
       "      <th>am_takeoff</th>\n",
       "      <th>temperature</th>\n",
       "      <th>rain</th>\n",
       "      <th>windspeed</th>\n",
       "      <th>humidity</th>\n",
       "    </tr>\n",
       "  </thead>\n",
       "  <tbody>\n",
       "    <tr>\n",
       "      <th>0</th>\n",
       "      <td>0</td>\n",
       "      <td>2019-09-01</td>\n",
       "      <td>4270000</td>\n",
       "      <td>1</td>\n",
       "      <td>344</td>\n",
       "      <td>제주썬호텔</td>\n",
       "      <td>33.48990</td>\n",
       "      <td>126.49373</td>\n",
       "      <td>0.0</td>\n",
       "      <td>1.0</td>\n",
       "      <td>...</td>\n",
       "      <td>0</td>\n",
       "      <td>4968</td>\n",
       "      <td>25997</td>\n",
       "      <td>43217</td>\n",
       "      <td>16.0</td>\n",
       "      <td>0.0</td>\n",
       "      <td>24.650000</td>\n",
       "      <td>0.0</td>\n",
       "      <td>1.433333</td>\n",
       "      <td>67.5</td>\n",
       "    </tr>\n",
       "    <tr>\n",
       "      <th>1</th>\n",
       "      <td>1</td>\n",
       "      <td>2019-09-01</td>\n",
       "      <td>4270000</td>\n",
       "      <td>1</td>\n",
       "      <td>357</td>\n",
       "      <td>한라병원</td>\n",
       "      <td>33.48944</td>\n",
       "      <td>126.48508</td>\n",
       "      <td>1.0</td>\n",
       "      <td>4.0</td>\n",
       "      <td>...</td>\n",
       "      <td>0</td>\n",
       "      <td>4968</td>\n",
       "      <td>25997</td>\n",
       "      <td>43217</td>\n",
       "      <td>22.0</td>\n",
       "      <td>0.0</td>\n",
       "      <td>24.650000</td>\n",
       "      <td>0.0</td>\n",
       "      <td>1.433333</td>\n",
       "      <td>67.5</td>\n",
       "    </tr>\n",
       "    <tr>\n",
       "      <th>2</th>\n",
       "      <td>2</td>\n",
       "      <td>2019-09-01</td>\n",
       "      <td>4270000</td>\n",
       "      <td>1</td>\n",
       "      <td>432</td>\n",
       "      <td>정존마을</td>\n",
       "      <td>33.48181</td>\n",
       "      <td>126.47352</td>\n",
       "      <td>1.0</td>\n",
       "      <td>1.0</td>\n",
       "      <td>...</td>\n",
       "      <td>0</td>\n",
       "      <td>4718</td>\n",
       "      <td>22028</td>\n",
       "      <td>56223</td>\n",
       "      <td>4.0</td>\n",
       "      <td>0.0</td>\n",
       "      <td>24.650000</td>\n",
       "      <td>0.0</td>\n",
       "      <td>1.433333</td>\n",
       "      <td>67.5</td>\n",
       "    </tr>\n",
       "    <tr>\n",
       "      <th>3</th>\n",
       "      <td>3</td>\n",
       "      <td>2019-09-01</td>\n",
       "      <td>4270000</td>\n",
       "      <td>0</td>\n",
       "      <td>1579</td>\n",
       "      <td>제주국제공항(600번)</td>\n",
       "      <td>33.50577</td>\n",
       "      <td>126.49252</td>\n",
       "      <td>0.0</td>\n",
       "      <td>17.0</td>\n",
       "      <td>...</td>\n",
       "      <td>0</td>\n",
       "      <td>1271</td>\n",
       "      <td>7273</td>\n",
       "      <td>15673</td>\n",
       "      <td>79.0</td>\n",
       "      <td>0.0</td>\n",
       "      <td>24.650000</td>\n",
       "      <td>0.0</td>\n",
       "      <td>1.433333</td>\n",
       "      <td>67.5</td>\n",
       "    </tr>\n",
       "    <tr>\n",
       "      <th>4</th>\n",
       "      <td>4</td>\n",
       "      <td>2019-09-01</td>\n",
       "      <td>4270000</td>\n",
       "      <td>0</td>\n",
       "      <td>1646</td>\n",
       "      <td>중문관광단지입구</td>\n",
       "      <td>33.25579</td>\n",
       "      <td>126.41260</td>\n",
       "      <td>0.0</td>\n",
       "      <td>0.0</td>\n",
       "      <td>...</td>\n",
       "      <td>0</td>\n",
       "      <td>448</td>\n",
       "      <td>3695</td>\n",
       "      <td>4414</td>\n",
       "      <td>0.0</td>\n",
       "      <td>1.0</td>\n",
       "      <td>23.783333</td>\n",
       "      <td>0.0</td>\n",
       "      <td>1.333333</td>\n",
       "      <td>86.0</td>\n",
       "    </tr>\n",
       "  </tbody>\n",
       "</table>\n",
       "<p>5 rows × 39 columns</p>\n",
       "</div>"
      ],
      "text/plain": [
       "   id        date  bus_route_id  in_out  station_code  station_name  latitude  \\\n",
       "0   0  2019-09-01       4270000       1           344         제주썬호텔  33.48990   \n",
       "1   1  2019-09-01       4270000       1           357          한라병원  33.48944   \n",
       "2   2  2019-09-01       4270000       1           432          정존마을  33.48181   \n",
       "3   3  2019-09-01       4270000       0          1579  제주국제공항(600번)  33.50577   \n",
       "4   4  2019-09-01       4270000       0          1646      중문관광단지입구  33.25579   \n",
       "\n",
       "   longitude  6~7_ride  7~8_ride  ...  holiday  num_business_2017  \\\n",
       "0  126.49373       0.0       1.0  ...        0               4968   \n",
       "1  126.48508       1.0       4.0  ...        0               4968   \n",
       "2  126.47352       1.0       1.0  ...        0               4718   \n",
       "3  126.49252       0.0      17.0  ...        0               1271   \n",
       "4  126.41260       0.0       0.0  ...        0                448   \n",
       "\n",
       "   num_employee_2017  population_2018  am_ride  am_takeoff  temperature  rain  \\\n",
       "0              25997            43217     16.0         0.0    24.650000   0.0   \n",
       "1              25997            43217     22.0         0.0    24.650000   0.0   \n",
       "2              22028            56223      4.0         0.0    24.650000   0.0   \n",
       "3               7273            15673     79.0         0.0    24.650000   0.0   \n",
       "4               3695             4414      0.0         1.0    23.783333   0.0   \n",
       "\n",
       "   windspeed  humidity  \n",
       "0   1.433333      67.5  \n",
       "1   1.433333      67.5  \n",
       "2   1.433333      67.5  \n",
       "3   1.433333      67.5  \n",
       "4   1.333333      86.0  \n",
       "\n",
       "[5 rows x 39 columns]"
      ]
     },
     "execution_count": 32,
     "metadata": {},
     "output_type": "execute_result"
    }
   ],
   "source": [
    "train.head()"
   ]
  },
  {
   "cell_type": "code",
   "execution_count": 33,
   "metadata": {},
   "outputs": [
    {
     "data": {
      "text/plain": [
       "0.000000     217900\n",
       "0.250000      17659\n",
       "0.100000      17447\n",
       "0.133333      13037\n",
       "2.900000      12395\n",
       "0.200000      10424\n",
       "1.250000      10342\n",
       "3.100000       9373\n",
       "1.116667       9090\n",
       "4.740000       8983\n",
       "6.980000       8975\n",
       "1.080000       7021\n",
       "1.750000       7007\n",
       "1.380000       6846\n",
       "0.200000       6804\n",
       "0.040000       6450\n",
       "0.050000       5096\n",
       "7.766667       3980\n",
       "1.725000       3431\n",
       "2.800000       3348\n",
       "4.420000       3177\n",
       "9.816667       2440\n",
       "1.075000       2437\n",
       "0.916667       2379\n",
       "12.100000      2215\n",
       "0.200000       2093\n",
       "0.600000       1425\n",
       "1.900000       1411\n",
       "0.566667       1393\n",
       "4.750000       1357\n",
       "4.600000       1353\n",
       "3.000000       1301\n",
       "2.000000       1293\n",
       "12.840000      1286\n",
       "5.100000       1200\n",
       "1.440000       1112\n",
       "0.300000       1070\n",
       "0.720000        551\n",
       "5.350000        322\n",
       "Name: rain, dtype: int64"
      ]
     },
     "execution_count": 33,
     "metadata": {},
     "output_type": "execute_result"
    }
   ],
   "source": [
    "train['rain'].value_counts()"
   ]
  },
  {
   "cell_type": "code",
   "execution_count": 34,
   "metadata": {},
   "outputs": [
    {
     "data": {
      "text/plain": [
       "(228170, 38)"
      ]
     },
     "execution_count": 34,
     "metadata": {},
     "output_type": "execute_result"
    }
   ],
   "source": [
    "test = pd.merge(test, weather3, how='left', on=['location_name', 'date'])\n",
    "test.shape"
   ]
  },
  {
   "cell_type": "code",
   "execution_count": 35,
   "metadata": {},
   "outputs": [],
   "source": [
    "train.to_csv(\"train_new2.csv\", index=False)\n",
    "test.to_csv(\"test_new2.csv\", index=False)"
   ]
  }
 ],
 "metadata": {
  "kernelspec": {
   "display_name": "Python 3",
   "language": "python",
   "name": "python3"
  },
  "language_info": {
   "codemirror_mode": {
    "name": "ipython",
    "version": 3
   },
   "file_extension": ".py",
   "mimetype": "text/x-python",
   "name": "python",
   "nbconvert_exporter": "python",
   "pygments_lexer": "ipython3",
   "version": "3.6.5"
  }
 },
 "nbformat": 4,
 "nbformat_minor": 2
}
