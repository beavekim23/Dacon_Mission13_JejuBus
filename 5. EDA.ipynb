{
 "cells": [
  {
   "cell_type": "code",
   "execution_count": 1,
   "metadata": {},
   "outputs": [],
   "source": [
    "import pandas as pd\n",
    "import numpy as np\n",
    "import matplotlib as mpl\n",
    "import matplotlib.pyplot as plt\n",
    "import matplotlib.font_manager as fm\n",
    "import seaborn as sns\n",
    "from scipy import stats\n",
    "import geopy.distance\n",
    "import warnings\n",
    "warnings.filterwarnings('ignore')\n",
    "\n",
    "sns.set_style('whitegrid')\n",
    "%matplotlib inline\n",
    "mpl.rcParams['axes.unicode_minus'] = False\n",
    "path = 'C:\\\\WINDOWS\\\\Fonts\\\\\\x7f\\x7f\\x7f\\x7f.TTF'\n",
    "font_name = fm.FontProperties(fname=path, size=50).get_name()\n",
    "plt.rc('font', family=font_name)"
   ]
  },
  {
   "cell_type": "code",
   "execution_count": 2,
   "metadata": {},
   "outputs": [],
   "source": [
    "train = pd.read_csv('train.csv')\n",
    "test = pd.read_csv('test.csv')"
   ]
  },
  {
   "cell_type": "markdown",
   "metadata": {},
   "source": [
    "# 팀원들과 Feature를 분담하여 EDA 실시\n",
    "- 내가 맡은 Features: ride, takeoff, distance, bus_route_id"
   ]
  },
  {
   "cell_type": "markdown",
   "metadata": {},
   "source": [
    "## 1. ride와 takeoff"
   ]
  },
  {
   "cell_type": "code",
   "execution_count": 3,
   "metadata": {},
   "outputs": [
    {
     "data": {
      "text/html": [
       "<div>\n",
       "<style scoped>\n",
       "    .dataframe tbody tr th:only-of-type {\n",
       "        vertical-align: middle;\n",
       "    }\n",
       "\n",
       "    .dataframe tbody tr th {\n",
       "        vertical-align: top;\n",
       "    }\n",
       "\n",
       "    .dataframe thead th {\n",
       "        text-align: right;\n",
       "    }\n",
       "</style>\n",
       "<table border=\"1\" class=\"dataframe\">\n",
       "  <thead>\n",
       "    <tr style=\"text-align: right;\">\n",
       "      <th></th>\n",
       "      <th>6~7_ride</th>\n",
       "      <th>7~8_ride</th>\n",
       "      <th>8~9_ride</th>\n",
       "      <th>9~10_ride</th>\n",
       "      <th>10~11_ride</th>\n",
       "      <th>11~12_ride</th>\n",
       "      <th>18~20_ride</th>\n",
       "    </tr>\n",
       "  </thead>\n",
       "  <tbody>\n",
       "    <tr>\n",
       "      <th>0</th>\n",
       "      <td>0.0</td>\n",
       "      <td>1.0</td>\n",
       "      <td>2.0</td>\n",
       "      <td>5.0</td>\n",
       "      <td>2.0</td>\n",
       "      <td>6.0</td>\n",
       "      <td>0.0</td>\n",
       "    </tr>\n",
       "    <tr>\n",
       "      <th>1</th>\n",
       "      <td>1.0</td>\n",
       "      <td>4.0</td>\n",
       "      <td>4.0</td>\n",
       "      <td>2.0</td>\n",
       "      <td>5.0</td>\n",
       "      <td>6.0</td>\n",
       "      <td>5.0</td>\n",
       "    </tr>\n",
       "    <tr>\n",
       "      <th>2</th>\n",
       "      <td>1.0</td>\n",
       "      <td>1.0</td>\n",
       "      <td>0.0</td>\n",
       "      <td>2.0</td>\n",
       "      <td>0.0</td>\n",
       "      <td>0.0</td>\n",
       "      <td>2.0</td>\n",
       "    </tr>\n",
       "    <tr>\n",
       "      <th>3</th>\n",
       "      <td>0.0</td>\n",
       "      <td>17.0</td>\n",
       "      <td>6.0</td>\n",
       "      <td>26.0</td>\n",
       "      <td>14.0</td>\n",
       "      <td>16.0</td>\n",
       "      <td>53.0</td>\n",
       "    </tr>\n",
       "    <tr>\n",
       "      <th>4</th>\n",
       "      <td>0.0</td>\n",
       "      <td>0.0</td>\n",
       "      <td>0.0</td>\n",
       "      <td>0.0</td>\n",
       "      <td>0.0</td>\n",
       "      <td>0.0</td>\n",
       "      <td>0.0</td>\n",
       "    </tr>\n",
       "  </tbody>\n",
       "</table>\n",
       "</div>"
      ],
      "text/plain": [
       "   6~7_ride  7~8_ride  8~9_ride  9~10_ride  10~11_ride  11~12_ride  18~20_ride\n",
       "0       0.0       1.0       2.0        5.0         2.0         6.0         0.0\n",
       "1       1.0       4.0       4.0        2.0         5.0         6.0         5.0\n",
       "2       1.0       1.0       0.0        2.0         0.0         0.0         2.0\n",
       "3       0.0      17.0       6.0       26.0        14.0        16.0        53.0\n",
       "4       0.0       0.0       0.0        0.0         0.0         0.0         0.0"
      ]
     },
     "execution_count": 3,
     "metadata": {},
     "output_type": "execute_result"
    }
   ],
   "source": [
    "ride = train.iloc[:, 8:14]\n",
    "ride['18~20_ride'] = train['18~20_ride']\n",
    "ride.head()"
   ]
  },
  {
   "cell_type": "code",
   "execution_count": 4,
   "metadata": {},
   "outputs": [
    {
     "data": {
      "text/html": [
       "<div>\n",
       "<style scoped>\n",
       "    .dataframe tbody tr th:only-of-type {\n",
       "        vertical-align: middle;\n",
       "    }\n",
       "\n",
       "    .dataframe tbody tr th {\n",
       "        vertical-align: top;\n",
       "    }\n",
       "\n",
       "    .dataframe thead th {\n",
       "        text-align: right;\n",
       "    }\n",
       "</style>\n",
       "<table border=\"1\" class=\"dataframe\">\n",
       "  <thead>\n",
       "    <tr style=\"text-align: right;\">\n",
       "      <th></th>\n",
       "      <th>6~7_ride</th>\n",
       "      <th>7~8_ride</th>\n",
       "      <th>8~9_ride</th>\n",
       "      <th>9~10_ride</th>\n",
       "      <th>10~11_ride</th>\n",
       "      <th>11~12_ride</th>\n",
       "      <th>18~20_ride</th>\n",
       "    </tr>\n",
       "  </thead>\n",
       "  <tbody>\n",
       "    <tr>\n",
       "      <th>6~7_ride</th>\n",
       "      <td>1.000000</td>\n",
       "      <td>0.375844</td>\n",
       "      <td>0.296554</td>\n",
       "      <td>0.313622</td>\n",
       "      <td>0.279269</td>\n",
       "      <td>0.265106</td>\n",
       "      <td>0.262173</td>\n",
       "    </tr>\n",
       "    <tr>\n",
       "      <th>7~8_ride</th>\n",
       "      <td>0.375844</td>\n",
       "      <td>1.000000</td>\n",
       "      <td>0.479535</td>\n",
       "      <td>0.427030</td>\n",
       "      <td>0.395135</td>\n",
       "      <td>0.389945</td>\n",
       "      <td>0.371751</td>\n",
       "    </tr>\n",
       "    <tr>\n",
       "      <th>8~9_ride</th>\n",
       "      <td>0.296554</td>\n",
       "      <td>0.479535</td>\n",
       "      <td>1.000000</td>\n",
       "      <td>0.506296</td>\n",
       "      <td>0.458034</td>\n",
       "      <td>0.453017</td>\n",
       "      <td>0.445316</td>\n",
       "    </tr>\n",
       "    <tr>\n",
       "      <th>9~10_ride</th>\n",
       "      <td>0.313622</td>\n",
       "      <td>0.427030</td>\n",
       "      <td>0.506296</td>\n",
       "      <td>1.000000</td>\n",
       "      <td>0.537374</td>\n",
       "      <td>0.517800</td>\n",
       "      <td>0.494085</td>\n",
       "    </tr>\n",
       "    <tr>\n",
       "      <th>10~11_ride</th>\n",
       "      <td>0.279269</td>\n",
       "      <td>0.395135</td>\n",
       "      <td>0.458034</td>\n",
       "      <td>0.537374</td>\n",
       "      <td>1.000000</td>\n",
       "      <td>0.542494</td>\n",
       "      <td>0.512666</td>\n",
       "    </tr>\n",
       "    <tr>\n",
       "      <th>11~12_ride</th>\n",
       "      <td>0.265106</td>\n",
       "      <td>0.389945</td>\n",
       "      <td>0.453017</td>\n",
       "      <td>0.517800</td>\n",
       "      <td>0.542494</td>\n",
       "      <td>1.000000</td>\n",
       "      <td>0.569747</td>\n",
       "    </tr>\n",
       "    <tr>\n",
       "      <th>18~20_ride</th>\n",
       "      <td>0.262173</td>\n",
       "      <td>0.371751</td>\n",
       "      <td>0.445316</td>\n",
       "      <td>0.494085</td>\n",
       "      <td>0.512666</td>\n",
       "      <td>0.569747</td>\n",
       "      <td>1.000000</td>\n",
       "    </tr>\n",
       "  </tbody>\n",
       "</table>\n",
       "</div>"
      ],
      "text/plain": [
       "            6~7_ride  7~8_ride  8~9_ride  9~10_ride  10~11_ride  11~12_ride  \\\n",
       "6~7_ride    1.000000  0.375844  0.296554   0.313622    0.279269    0.265106   \n",
       "7~8_ride    0.375844  1.000000  0.479535   0.427030    0.395135    0.389945   \n",
       "8~9_ride    0.296554  0.479535  1.000000   0.506296    0.458034    0.453017   \n",
       "9~10_ride   0.313622  0.427030  0.506296   1.000000    0.537374    0.517800   \n",
       "10~11_ride  0.279269  0.395135  0.458034   0.537374    1.000000    0.542494   \n",
       "11~12_ride  0.265106  0.389945  0.453017   0.517800    0.542494    1.000000   \n",
       "18~20_ride  0.262173  0.371751  0.445316   0.494085    0.512666    0.569747   \n",
       "\n",
       "            18~20_ride  \n",
       "6~7_ride      0.262173  \n",
       "7~8_ride      0.371751  \n",
       "8~9_ride      0.445316  \n",
       "9~10_ride     0.494085  \n",
       "10~11_ride    0.512666  \n",
       "11~12_ride    0.569747  \n",
       "18~20_ride    1.000000  "
      ]
     },
     "execution_count": 4,
     "metadata": {},
     "output_type": "execute_result"
    }
   ],
   "source": [
    "ride.corr()"
   ]
  },
  {
   "cell_type": "markdown",
   "metadata": {},
   "source": [
    "#### heatmap을 통한 시각화"
   ]
  },
  {
   "cell_type": "code",
   "execution_count": 5,
   "metadata": {},
   "outputs": [
    {
     "data": {
      "image/png": "[encoded data removed]",
      "text/plain": [
       "<Figure size 720x576 with 2 Axes>"
      ]
     },
     "metadata": {
      "needs_background": "light"
     },
     "output_type": "display_data"
    }
   ],
   "source": [
    "plt.figure(figsize=(10,8))\n",
    "sns.heatmap(data=ride.corr(), annot=True, fmt='.2f')\n",
    "plt.show()"
   ]
  },
  {
   "cell_type": "markdown",
   "metadata": {},
   "source": [
    "- corr()과 heatmap을 통해 `11~12 > 10~11 > 9~10 > 8~9 > 7~8 > 6~7_ride` 순으로 `18~20_ride`에 크게 영향을 미치며, 긍정적인 상관관계에 있음을 알 수 있다.  \n",
    "  - 8시 이후 ride는 강한 양의 상관관계, 그 이전은 약한 양의 상관관계를 보임"
   ]
  },
  {
   "cell_type": "code",
   "execution_count": 15,
   "metadata": {},
   "outputs": [
    {
     "data": {
      "text/html": [
       "<div>\n",
       "<style scoped>\n",
       "    .dataframe tbody tr th:only-of-type {\n",
       "        vertical-align: middle;\n",
       "    }\n",
       "\n",
       "    .dataframe tbody tr th {\n",
       "        vertical-align: top;\n",
       "    }\n",
       "\n",
       "    .dataframe thead th {\n",
       "        text-align: right;\n",
       "    }\n",
       "</style>\n",
       "<table border=\"1\" class=\"dataframe\">\n",
       "  <thead>\n",
       "    <tr style=\"text-align: right;\">\n",
       "      <th></th>\n",
       "      <th>6~7_takeoff</th>\n",
       "      <th>7~8_takeoff</th>\n",
       "      <th>8~9_takeoff</th>\n",
       "      <th>9~10_takeoff</th>\n",
       "      <th>10~11_takeoff</th>\n",
       "      <th>11~12_takeoff</th>\n",
       "      <th>18~20_ride</th>\n",
       "    </tr>\n",
       "  </thead>\n",
       "  <tbody>\n",
       "    <tr>\n",
       "      <th>0</th>\n",
       "      <td>0.0</td>\n",
       "      <td>0.0</td>\n",
       "      <td>0.0</td>\n",
       "      <td>0.0</td>\n",
       "      <td>0.0</td>\n",
       "      <td>0.0</td>\n",
       "      <td>0.0</td>\n",
       "    </tr>\n",
       "    <tr>\n",
       "      <th>1</th>\n",
       "      <td>0.0</td>\n",
       "      <td>0.0</td>\n",
       "      <td>0.0</td>\n",
       "      <td>0.0</td>\n",
       "      <td>0.0</td>\n",
       "      <td>0.0</td>\n",
       "      <td>5.0</td>\n",
       "    </tr>\n",
       "    <tr>\n",
       "      <th>2</th>\n",
       "      <td>0.0</td>\n",
       "      <td>0.0</td>\n",
       "      <td>0.0</td>\n",
       "      <td>0.0</td>\n",
       "      <td>0.0</td>\n",
       "      <td>0.0</td>\n",
       "      <td>2.0</td>\n",
       "    </tr>\n",
       "    <tr>\n",
       "      <th>3</th>\n",
       "      <td>0.0</td>\n",
       "      <td>0.0</td>\n",
       "      <td>0.0</td>\n",
       "      <td>0.0</td>\n",
       "      <td>0.0</td>\n",
       "      <td>0.0</td>\n",
       "      <td>53.0</td>\n",
       "    </tr>\n",
       "    <tr>\n",
       "      <th>4</th>\n",
       "      <td>0.0</td>\n",
       "      <td>0.0</td>\n",
       "      <td>0.0</td>\n",
       "      <td>1.0</td>\n",
       "      <td>0.0</td>\n",
       "      <td>0.0</td>\n",
       "      <td>0.0</td>\n",
       "    </tr>\n",
       "  </tbody>\n",
       "</table>\n",
       "</div>"
      ],
      "text/plain": [
       "   6~7_takeoff  7~8_takeoff  8~9_takeoff  9~10_takeoff  10~11_takeoff  \\\n",
       "0          0.0          0.0          0.0           0.0            0.0   \n",
       "1          0.0          0.0          0.0           0.0            0.0   \n",
       "2          0.0          0.0          0.0           0.0            0.0   \n",
       "3          0.0          0.0          0.0           0.0            0.0   \n",
       "4          0.0          0.0          0.0           1.0            0.0   \n",
       "\n",
       "   11~12_takeoff  18~20_ride  \n",
       "0            0.0         0.0  \n",
       "1            0.0         5.0  \n",
       "2            0.0         2.0  \n",
       "3            0.0        53.0  \n",
       "4            0.0         0.0  "
      ]
     },
     "execution_count": 15,
     "metadata": {},
     "output_type": "execute_result"
    }
   ],
   "source": [
    "takeoff = train.iloc[:,14:21]\n",
    "takeoff.head()"
   ]
  },
  {
   "cell_type": "code",
   "execution_count": 7,
   "metadata": {},
   "outputs": [
    {
     "data": {
      "text/html": [
       "<div>\n",
       "<style scoped>\n",
       "    .dataframe tbody tr th:only-of-type {\n",
       "        vertical-align: middle;\n",
       "    }\n",
       "\n",
       "    .dataframe tbody tr th {\n",
       "        vertical-align: top;\n",
       "    }\n",
       "\n",
       "    .dataframe thead th {\n",
       "        text-align: right;\n",
       "    }\n",
       "</style>\n",
       "<table border=\"1\" class=\"dataframe\">\n",
       "  <thead>\n",
       "    <tr style=\"text-align: right;\">\n",
       "      <th></th>\n",
       "      <th>6~7_takeoff</th>\n",
       "      <th>7~8_takeoff</th>\n",
       "      <th>8~9_takeoff</th>\n",
       "      <th>9~10_takeoff</th>\n",
       "      <th>10~11_takeoff</th>\n",
       "      <th>11~12_takeoff</th>\n",
       "      <th>18~20_ride</th>\n",
       "    </tr>\n",
       "  </thead>\n",
       "  <tbody>\n",
       "    <tr>\n",
       "      <th>6~7_takeoff</th>\n",
       "      <td>1.000000</td>\n",
       "      <td>0.233302</td>\n",
       "      <td>0.189507</td>\n",
       "      <td>0.212331</td>\n",
       "      <td>0.184720</td>\n",
       "      <td>0.194141</td>\n",
       "      <td>0.178353</td>\n",
       "    </tr>\n",
       "    <tr>\n",
       "      <th>7~8_takeoff</th>\n",
       "      <td>0.233302</td>\n",
       "      <td>1.000000</td>\n",
       "      <td>0.429626</td>\n",
       "      <td>0.338220</td>\n",
       "      <td>0.326165</td>\n",
       "      <td>0.334719</td>\n",
       "      <td>0.219430</td>\n",
       "    </tr>\n",
       "    <tr>\n",
       "      <th>8~9_takeoff</th>\n",
       "      <td>0.189507</td>\n",
       "      <td>0.429626</td>\n",
       "      <td>1.000000</td>\n",
       "      <td>0.443466</td>\n",
       "      <td>0.429163</td>\n",
       "      <td>0.425298</td>\n",
       "      <td>0.274360</td>\n",
       "    </tr>\n",
       "    <tr>\n",
       "      <th>9~10_takeoff</th>\n",
       "      <td>0.212331</td>\n",
       "      <td>0.338220</td>\n",
       "      <td>0.443466</td>\n",
       "      <td>1.000000</td>\n",
       "      <td>0.539305</td>\n",
       "      <td>0.531232</td>\n",
       "      <td>0.295875</td>\n",
       "    </tr>\n",
       "    <tr>\n",
       "      <th>10~11_takeoff</th>\n",
       "      <td>0.184720</td>\n",
       "      <td>0.326165</td>\n",
       "      <td>0.429163</td>\n",
       "      <td>0.539305</td>\n",
       "      <td>1.000000</td>\n",
       "      <td>0.540594</td>\n",
       "      <td>0.290691</td>\n",
       "    </tr>\n",
       "    <tr>\n",
       "      <th>11~12_takeoff</th>\n",
       "      <td>0.194141</td>\n",
       "      <td>0.334719</td>\n",
       "      <td>0.425298</td>\n",
       "      <td>0.531232</td>\n",
       "      <td>0.540594</td>\n",
       "      <td>1.000000</td>\n",
       "      <td>0.313540</td>\n",
       "    </tr>\n",
       "    <tr>\n",
       "      <th>18~20_ride</th>\n",
       "      <td>0.178353</td>\n",
       "      <td>0.219430</td>\n",
       "      <td>0.274360</td>\n",
       "      <td>0.295875</td>\n",
       "      <td>0.290691</td>\n",
       "      <td>0.313540</td>\n",
       "      <td>1.000000</td>\n",
       "    </tr>\n",
       "  </tbody>\n",
       "</table>\n",
       "</div>"
      ],
      "text/plain": [
       "               6~7_takeoff  7~8_takeoff  8~9_takeoff  9~10_takeoff  \\\n",
       "6~7_takeoff       1.000000     0.233302     0.189507      0.212331   \n",
       "7~8_takeoff       0.233302     1.000000     0.429626      0.338220   \n",
       "8~9_takeoff       0.189507     0.429626     1.000000      0.443466   \n",
       "9~10_takeoff      0.212331     0.338220     0.443466      1.000000   \n",
       "10~11_takeoff     0.184720     0.326165     0.429163      0.539305   \n",
       "11~12_takeoff     0.194141     0.334719     0.425298      0.531232   \n",
       "18~20_ride        0.178353     0.219430     0.274360      0.295875   \n",
       "\n",
       "               10~11_takeoff  11~12_takeoff  18~20_ride  \n",
       "6~7_takeoff         0.184720       0.194141    0.178353  \n",
       "7~8_takeoff         0.326165       0.334719    0.219430  \n",
       "8~9_takeoff         0.429163       0.425298    0.274360  \n",
       "9~10_takeoff        0.539305       0.531232    0.295875  \n",
       "10~11_takeoff       1.000000       0.540594    0.290691  \n",
       "11~12_takeoff       0.540594       1.000000    0.313540  \n",
       "18~20_ride          0.290691       0.313540    1.000000  "
      ]
     },
     "execution_count": 7,
     "metadata": {},
     "output_type": "execute_result"
    }
   ],
   "source": [
    "takeoff.corr()"
   ]
  },
  {
   "cell_type": "markdown",
   "metadata": {},
   "source": [
    "#### heatmap을 통한 시각화"
   ]
  },
  {
   "cell_type": "code",
   "execution_count": 8,
   "metadata": {},
   "outputs": [
    {
     "data": {
      "image/png": "[encoded data removed]",
      "text/plain": [
       "<Figure size 720x576 with 2 Axes>"
      ]
     },
     "metadata": {
      "needs_background": "light"
     },
     "output_type": "display_data"
    }
   ],
   "source": [
    "plt.figure(figsize=(10,8))\n",
    "sns.heatmap(data=takeoff.corr(), annot=True, fmt='.2f')\n",
    "plt.show()"
   ]
  },
  {
   "cell_type": "markdown",
   "metadata": {},
   "source": [
    "- corr()과 heatmap을 통해 `11~12 > 9~10 > 10~11 > 8~9 > 7~8 > 6~7_takeoff` 순으로 `18~20_ride`와 긍정적 상관관계를 이루고 있음을 알 수 있다.    \n",
    "  - 하지만 대체로 약한 상관관계를 가짐"
   ]
  },
  {
   "cell_type": "markdown",
   "metadata": {},
   "source": [
    "### 1.1 시간대별 승하차인원을 각각의 총합으로 바꿔주자"
   ]
  },
  {
   "cell_type": "code",
   "execution_count": 10,
   "metadata": {},
   "outputs": [
    {
     "data": {
      "text/html": [
       "<div>\n",
       "<style scoped>\n",
       "    .dataframe tbody tr th:only-of-type {\n",
       "        vertical-align: middle;\n",
       "    }\n",
       "\n",
       "    .dataframe tbody tr th {\n",
       "        vertical-align: top;\n",
       "    }\n",
       "\n",
       "    .dataframe thead th {\n",
       "        text-align: right;\n",
       "    }\n",
       "</style>\n",
       "<table border=\"1\" class=\"dataframe\">\n",
       "  <thead>\n",
       "    <tr style=\"text-align: right;\">\n",
       "      <th></th>\n",
       "      <th>18~20_ride</th>\n",
       "      <th>am_ride</th>\n",
       "    </tr>\n",
       "  </thead>\n",
       "  <tbody>\n",
       "    <tr>\n",
       "      <th>18~20_ride</th>\n",
       "      <td>1.000000</td>\n",
       "      <td>0.621556</td>\n",
       "    </tr>\n",
       "    <tr>\n",
       "      <th>am_ride</th>\n",
       "      <td>0.621556</td>\n",
       "      <td>1.000000</td>\n",
       "    </tr>\n",
       "  </tbody>\n",
       "</table>\n",
       "</div>"
      ],
      "text/plain": [
       "            18~20_ride   am_ride\n",
       "18~20_ride    1.000000  0.621556\n",
       "am_ride       0.621556  1.000000"
      ]
     },
     "execution_count": 10,
     "metadata": {},
     "output_type": "execute_result"
    }
   ],
   "source": [
    "ride['am_ride'] = train['6~7_ride']+train['7~8_ride']+train['8~9_ride']+train['9~10_ride']+train['10~11_ride']+train['11~12_ride']\n",
    "\n",
    "del ride['6~7_ride']\n",
    "del ride['7~8_ride']\n",
    "del ride['8~9_ride']\n",
    "del ride['9~10_ride']\n",
    "del ride['10~11_ride']\n",
    "del ride['11~12_ride']\n",
    "\n",
    "ride.corr()"
   ]
  },
  {
   "cell_type": "markdown",
   "metadata": {},
   "source": [
    "- correlation이 훨씬 개선되었음을 확인할 수 있다."
   ]
  },
  {
   "cell_type": "code",
   "execution_count": 16,
   "metadata": {},
   "outputs": [
    {
     "data": {
      "text/html": [
       "<div>\n",
       "<style scoped>\n",
       "    .dataframe tbody tr th:only-of-type {\n",
       "        vertical-align: middle;\n",
       "    }\n",
       "\n",
       "    .dataframe tbody tr th {\n",
       "        vertical-align: top;\n",
       "    }\n",
       "\n",
       "    .dataframe thead th {\n",
       "        text-align: right;\n",
       "    }\n",
       "</style>\n",
       "<table border=\"1\" class=\"dataframe\">\n",
       "  <thead>\n",
       "    <tr style=\"text-align: right;\">\n",
       "      <th></th>\n",
       "      <th>18~20_ride</th>\n",
       "      <th>am_takeoff</th>\n",
       "    </tr>\n",
       "  </thead>\n",
       "  <tbody>\n",
       "    <tr>\n",
       "      <th>18~20_ride</th>\n",
       "      <td>1.000000</td>\n",
       "      <td>0.383496</td>\n",
       "    </tr>\n",
       "    <tr>\n",
       "      <th>am_takeoff</th>\n",
       "      <td>0.383496</td>\n",
       "      <td>1.000000</td>\n",
       "    </tr>\n",
       "  </tbody>\n",
       "</table>\n",
       "</div>"
      ],
      "text/plain": [
       "            18~20_ride  am_takeoff\n",
       "18~20_ride    1.000000    0.383496\n",
       "am_takeoff    0.383496    1.000000"
      ]
     },
     "execution_count": 16,
     "metadata": {},
     "output_type": "execute_result"
    }
   ],
   "source": [
    "takeoff['am_takeoff'] = train['6~7_takeoff']+train['7~8_takeoff']+train['8~9_takeoff']+train['9~10_takeoff']+train['10~11_takeoff']+train['11~12_takeoff']\n",
    "\n",
    "del takeoff['6~7_takeoff']\n",
    "del takeoff['7~8_takeoff']\n",
    "del takeoff['8~9_takeoff']\n",
    "del takeoff['9~10_takeoff']\n",
    "del takeoff['10~11_takeoff']\n",
    "del takeoff['11~12_takeoff']\n",
    "\n",
    "takeoff.corr()"
   ]
  },
  {
   "cell_type": "markdown",
   "metadata": {},
   "source": [
    "- 여전히 약한 상관관계이긴 하지만 전보다는 개선되었음을 확인할 수 있다."
   ]
  },
  {
   "cell_type": "markdown",
   "metadata": {},
   "source": [
    "## 2. dis_jeju, dis_seoguipo, dis_gosan, dis_seongsan, location_name"
   ]
  },
  {
   "cell_type": "code",
   "execution_count": 17,
   "metadata": {},
   "outputs": [],
   "source": [
    "jeju = (33.51411, 126.52969)\n",
    "gosan = (33.29382, 126.16283)\n",
    "seongsan = (33.38677, 126.880)\n",
    "seoguipo = (33.24616, 126.5653)"
   ]
  },
  {
   "cell_type": "code",
   "execution_count": 18,
   "metadata": {},
   "outputs": [
    {
     "data": {
      "text/html": [
       "<div>\n",
       "<style scoped>\n",
       "    .dataframe tbody tr th:only-of-type {\n",
       "        vertical-align: middle;\n",
       "    }\n",
       "\n",
       "    .dataframe tbody tr th {\n",
       "        vertical-align: top;\n",
       "    }\n",
       "\n",
       "    .dataframe thead th {\n",
       "        text-align: right;\n",
       "    }\n",
       "</style>\n",
       "<table border=\"1\" class=\"dataframe\">\n",
       "  <thead>\n",
       "    <tr style=\"text-align: right;\">\n",
       "      <th></th>\n",
       "      <th>station_code</th>\n",
       "      <th>latitude</th>\n",
       "      <th>longitude</th>\n",
       "    </tr>\n",
       "  </thead>\n",
       "  <tbody>\n",
       "    <tr>\n",
       "      <th>0</th>\n",
       "      <td>344</td>\n",
       "      <td>33.48990</td>\n",
       "      <td>126.49373</td>\n",
       "    </tr>\n",
       "    <tr>\n",
       "      <th>1</th>\n",
       "      <td>357</td>\n",
       "      <td>33.48944</td>\n",
       "      <td>126.48508</td>\n",
       "    </tr>\n",
       "    <tr>\n",
       "      <th>2</th>\n",
       "      <td>432</td>\n",
       "      <td>33.48181</td>\n",
       "      <td>126.47352</td>\n",
       "    </tr>\n",
       "    <tr>\n",
       "      <th>3</th>\n",
       "      <td>1579</td>\n",
       "      <td>33.50577</td>\n",
       "      <td>126.49252</td>\n",
       "    </tr>\n",
       "    <tr>\n",
       "      <th>4</th>\n",
       "      <td>1646</td>\n",
       "      <td>33.25579</td>\n",
       "      <td>126.41260</td>\n",
       "    </tr>\n",
       "  </tbody>\n",
       "</table>\n",
       "</div>"
      ],
      "text/plain": [
       "   station_code  latitude  longitude\n",
       "0           344  33.48990  126.49373\n",
       "1           357  33.48944  126.48508\n",
       "2           432  33.48181  126.47352\n",
       "3          1579  33.50577  126.49252\n",
       "4          1646  33.25579  126.41260"
      ]
     },
     "execution_count": 18,
     "metadata": {},
     "output_type": "execute_result"
    }
   ],
   "source": [
    "data2 = train[['station_code','latitude', 'longitude']].drop_duplicates(keep='first')\n",
    "data2.head()"
   ]
  },
  {
   "cell_type": "code",
   "execution_count": 19,
   "metadata": {},
   "outputs": [],
   "source": [
    "t1 = [geopy.distance.vincenty((i,j), jeju).km for i,j in list(zip(data2['latitude'],data2['longitude']))]\n",
    "t2 = [geopy.distance.vincenty((i,j), gosan).km for i,j in list(zip(data2['latitude'],data2['longitude']))]\n",
    "t3 = [geopy.distance.vincenty((i,j), seongsan).km for i,j in list(zip(data2['latitude'],data2['longitude']))]\n",
    "t4 = [geopy.distance.vincenty((i,j), seoguipo).km for i,j in list(zip(data2['latitude'],data2['longitude']))]\n",
    "\n",
    "data2['dis_jeju']=t1\n",
    "data2['dis_gosan']=t2\n",
    "data2['dis_seongsan']=t3\n",
    "data2['dis_seoguipo']=t4"
   ]
  },
  {
   "cell_type": "code",
   "execution_count": 20,
   "metadata": {},
   "outputs": [
    {
     "data": {
      "text/html": [
       "<div>\n",
       "<style scoped>\n",
       "    .dataframe tbody tr th:only-of-type {\n",
       "        vertical-align: middle;\n",
       "    }\n",
       "\n",
       "    .dataframe tbody tr th {\n",
       "        vertical-align: top;\n",
       "    }\n",
       "\n",
       "    .dataframe thead th {\n",
       "        text-align: right;\n",
       "    }\n",
       "</style>\n",
       "<table border=\"1\" class=\"dataframe\">\n",
       "  <thead>\n",
       "    <tr style=\"text-align: right;\">\n",
       "      <th></th>\n",
       "      <th>dis_jeju</th>\n",
       "      <th>dis_gosan</th>\n",
       "      <th>dis_seongsan</th>\n",
       "      <th>dis_seoguipo</th>\n",
       "      <th>location_name</th>\n",
       "    </tr>\n",
       "  </thead>\n",
       "  <tbody>\n",
       "    <tr>\n",
       "      <th>0</th>\n",
       "      <td>4.286659</td>\n",
       "      <td>37.692766</td>\n",
       "      <td>37.695909</td>\n",
       "      <td>27.841879</td>\n",
       "      <td>jeju</td>\n",
       "    </tr>\n",
       "    <tr>\n",
       "      <th>1</th>\n",
       "      <td>4.966848</td>\n",
       "      <td>37.008492</td>\n",
       "      <td>38.448058</td>\n",
       "      <td>27.996179</td>\n",
       "      <td>jeju</td>\n",
       "    </tr>\n",
       "    <tr>\n",
       "      <th>2</th>\n",
       "      <td>6.330746</td>\n",
       "      <td>35.642126</td>\n",
       "      <td>39.241905</td>\n",
       "      <td>27.496551</td>\n",
       "      <td>jeju</td>\n",
       "    </tr>\n",
       "    <tr>\n",
       "      <th>3</th>\n",
       "      <td>3.575272</td>\n",
       "      <td>38.643401</td>\n",
       "      <td>38.369340</td>\n",
       "      <td>29.579404</td>\n",
       "      <td>jeju</td>\n",
       "    </tr>\n",
       "    <tr>\n",
       "      <th>4</th>\n",
       "      <td>30.652098</td>\n",
       "      <td>23.648361</td>\n",
       "      <td>45.881475</td>\n",
       "      <td>14.269792</td>\n",
       "      <td>seoguipo</td>\n",
       "    </tr>\n",
       "  </tbody>\n",
       "</table>\n",
       "</div>"
      ],
      "text/plain": [
       "    dis_jeju  dis_gosan  dis_seongsan  dis_seoguipo location_name\n",
       "0   4.286659  37.692766     37.695909     27.841879          jeju\n",
       "1   4.966848  37.008492     38.448058     27.996179          jeju\n",
       "2   6.330746  35.642126     39.241905     27.496551          jeju\n",
       "3   3.575272  38.643401     38.369340     29.579404          jeju\n",
       "4  30.652098  23.648361     45.881475     14.269792      seoguipo"
      ]
     },
     "execution_count": 20,
     "metadata": {},
     "output_type": "execute_result"
    }
   ],
   "source": [
    "total=pd.DataFrame(list(zip( t1,t2,t3,t4)),columns=['dis_jeju','dis_gosan','dis_seongsan','dis_seoguipo'])\n",
    "total['location_name'] = total.apply(lambda x: x.argmin(), axis=1)\n",
    "total['location_name'] = total['location_name'].apply(lambda x: x[4:])\n",
    "\n",
    "total.head()"
   ]
  },
  {
   "cell_type": "code",
   "execution_count": 21,
   "metadata": {},
   "outputs": [
    {
     "data": {
      "text/plain": [
       "(3563, 8)"
      ]
     },
     "execution_count": 21,
     "metadata": {},
     "output_type": "execute_result"
    }
   ],
   "source": [
    "data2 = pd.merge(data2, total, on=['dis_jeju', 'dis_gosan', 'dis_seongsan', 'dis_seoguipo'])\n",
    "data2.shape"
   ]
  },
  {
   "cell_type": "code",
   "execution_count": 22,
   "metadata": {},
   "outputs": [
    {
     "data": {
      "text/html": [
       "<div>\n",
       "<style scoped>\n",
       "    .dataframe tbody tr th:only-of-type {\n",
       "        vertical-align: middle;\n",
       "    }\n",
       "\n",
       "    .dataframe tbody tr th {\n",
       "        vertical-align: top;\n",
       "    }\n",
       "\n",
       "    .dataframe thead th {\n",
       "        text-align: right;\n",
       "    }\n",
       "</style>\n",
       "<table border=\"1\" class=\"dataframe\">\n",
       "  <thead>\n",
       "    <tr style=\"text-align: right;\">\n",
       "      <th></th>\n",
       "      <th>id</th>\n",
       "      <th>date</th>\n",
       "      <th>bus_route_id</th>\n",
       "      <th>in_out</th>\n",
       "      <th>station_code</th>\n",
       "      <th>station_name</th>\n",
       "      <th>latitude</th>\n",
       "      <th>longitude</th>\n",
       "      <th>6~7_ride</th>\n",
       "      <th>7~8_ride</th>\n",
       "      <th>...</th>\n",
       "      <th>8~9_takeoff</th>\n",
       "      <th>9~10_takeoff</th>\n",
       "      <th>10~11_takeoff</th>\n",
       "      <th>11~12_takeoff</th>\n",
       "      <th>18~20_ride</th>\n",
       "      <th>dis_jeju</th>\n",
       "      <th>dis_gosan</th>\n",
       "      <th>dis_seongsan</th>\n",
       "      <th>dis_seoguipo</th>\n",
       "      <th>location_name</th>\n",
       "    </tr>\n",
       "  </thead>\n",
       "  <tbody>\n",
       "    <tr>\n",
       "      <th>0</th>\n",
       "      <td>0</td>\n",
       "      <td>2019-09-01</td>\n",
       "      <td>4270000</td>\n",
       "      <td>시외</td>\n",
       "      <td>344</td>\n",
       "      <td>제주썬호텔</td>\n",
       "      <td>33.48990</td>\n",
       "      <td>126.49373</td>\n",
       "      <td>0.0</td>\n",
       "      <td>1.0</td>\n",
       "      <td>...</td>\n",
       "      <td>0.0</td>\n",
       "      <td>0.0</td>\n",
       "      <td>0.0</td>\n",
       "      <td>0.0</td>\n",
       "      <td>0.0</td>\n",
       "      <td>4.286659</td>\n",
       "      <td>37.692766</td>\n",
       "      <td>37.695909</td>\n",
       "      <td>27.841879</td>\n",
       "      <td>jeju</td>\n",
       "    </tr>\n",
       "    <tr>\n",
       "      <th>1</th>\n",
       "      <td>1</td>\n",
       "      <td>2019-09-01</td>\n",
       "      <td>4270000</td>\n",
       "      <td>시외</td>\n",
       "      <td>357</td>\n",
       "      <td>한라병원</td>\n",
       "      <td>33.48944</td>\n",
       "      <td>126.48508</td>\n",
       "      <td>1.0</td>\n",
       "      <td>4.0</td>\n",
       "      <td>...</td>\n",
       "      <td>0.0</td>\n",
       "      <td>0.0</td>\n",
       "      <td>0.0</td>\n",
       "      <td>0.0</td>\n",
       "      <td>5.0</td>\n",
       "      <td>4.966848</td>\n",
       "      <td>37.008492</td>\n",
       "      <td>38.448058</td>\n",
       "      <td>27.996179</td>\n",
       "      <td>jeju</td>\n",
       "    </tr>\n",
       "    <tr>\n",
       "      <th>2</th>\n",
       "      <td>2</td>\n",
       "      <td>2019-09-01</td>\n",
       "      <td>4270000</td>\n",
       "      <td>시외</td>\n",
       "      <td>432</td>\n",
       "      <td>정존마을</td>\n",
       "      <td>33.48181</td>\n",
       "      <td>126.47352</td>\n",
       "      <td>1.0</td>\n",
       "      <td>1.0</td>\n",
       "      <td>...</td>\n",
       "      <td>0.0</td>\n",
       "      <td>0.0</td>\n",
       "      <td>0.0</td>\n",
       "      <td>0.0</td>\n",
       "      <td>2.0</td>\n",
       "      <td>6.330746</td>\n",
       "      <td>35.642126</td>\n",
       "      <td>39.241905</td>\n",
       "      <td>27.496551</td>\n",
       "      <td>jeju</td>\n",
       "    </tr>\n",
       "    <tr>\n",
       "      <th>3</th>\n",
       "      <td>3</td>\n",
       "      <td>2019-09-01</td>\n",
       "      <td>4270000</td>\n",
       "      <td>시내</td>\n",
       "      <td>1579</td>\n",
       "      <td>제주국제공항(600번)</td>\n",
       "      <td>33.50577</td>\n",
       "      <td>126.49252</td>\n",
       "      <td>0.0</td>\n",
       "      <td>17.0</td>\n",
       "      <td>...</td>\n",
       "      <td>0.0</td>\n",
       "      <td>0.0</td>\n",
       "      <td>0.0</td>\n",
       "      <td>0.0</td>\n",
       "      <td>53.0</td>\n",
       "      <td>3.575272</td>\n",
       "      <td>38.643401</td>\n",
       "      <td>38.369340</td>\n",
       "      <td>29.579404</td>\n",
       "      <td>jeju</td>\n",
       "    </tr>\n",
       "    <tr>\n",
       "      <th>4</th>\n",
       "      <td>4</td>\n",
       "      <td>2019-09-01</td>\n",
       "      <td>4270000</td>\n",
       "      <td>시내</td>\n",
       "      <td>1646</td>\n",
       "      <td>중문관광단지입구</td>\n",
       "      <td>33.25579</td>\n",
       "      <td>126.41260</td>\n",
       "      <td>0.0</td>\n",
       "      <td>0.0</td>\n",
       "      <td>...</td>\n",
       "      <td>0.0</td>\n",
       "      <td>1.0</td>\n",
       "      <td>0.0</td>\n",
       "      <td>0.0</td>\n",
       "      <td>0.0</td>\n",
       "      <td>30.652098</td>\n",
       "      <td>23.648361</td>\n",
       "      <td>45.881475</td>\n",
       "      <td>14.269792</td>\n",
       "      <td>seoguipo</td>\n",
       "    </tr>\n",
       "  </tbody>\n",
       "</table>\n",
       "<p>5 rows × 26 columns</p>\n",
       "</div>"
      ],
      "text/plain": [
       "   id        date  bus_route_id in_out  station_code  station_name  latitude  \\\n",
       "0   0  2019-09-01       4270000     시외           344         제주썬호텔  33.48990   \n",
       "1   1  2019-09-01       4270000     시외           357          한라병원  33.48944   \n",
       "2   2  2019-09-01       4270000     시외           432          정존마을  33.48181   \n",
       "3   3  2019-09-01       4270000     시내          1579  제주국제공항(600번)  33.50577   \n",
       "4   4  2019-09-01       4270000     시내          1646      중문관광단지입구  33.25579   \n",
       "\n",
       "   longitude  6~7_ride  7~8_ride  ...  8~9_takeoff  9~10_takeoff  \\\n",
       "0  126.49373       0.0       1.0  ...          0.0           0.0   \n",
       "1  126.48508       1.0       4.0  ...          0.0           0.0   \n",
       "2  126.47352       1.0       1.0  ...          0.0           0.0   \n",
       "3  126.49252       0.0      17.0  ...          0.0           0.0   \n",
       "4  126.41260       0.0       0.0  ...          0.0           1.0   \n",
       "\n",
       "   10~11_takeoff  11~12_takeoff  18~20_ride   dis_jeju  dis_gosan  \\\n",
       "0            0.0            0.0         0.0   4.286659  37.692766   \n",
       "1            0.0            0.0         5.0   4.966848  37.008492   \n",
       "2            0.0            0.0         2.0   6.330746  35.642126   \n",
       "3            0.0            0.0        53.0   3.575272  38.643401   \n",
       "4            0.0            0.0         0.0  30.652098  23.648361   \n",
       "\n",
       "   dis_seongsan  dis_seoguipo  location_name  \n",
       "0     37.695909     27.841879           jeju  \n",
       "1     38.448058     27.996179           jeju  \n",
       "2     39.241905     27.496551           jeju  \n",
       "3     38.369340     29.579404           jeju  \n",
       "4     45.881475     14.269792       seoguipo  \n",
       "\n",
       "[5 rows x 26 columns]"
      ]
     },
     "execution_count": 22,
     "metadata": {},
     "output_type": "execute_result"
    }
   ],
   "source": [
    "train = pd.merge(train, data2, how='left', on=['station_code', 'latitude', 'longitude'])\n",
    "train.head()"
   ]
  },
  {
   "cell_type": "code",
   "execution_count": 23,
   "metadata": {},
   "outputs": [
    {
     "data": {
      "text/plain": [
       "(415423, 26)"
      ]
     },
     "execution_count": 23,
     "metadata": {},
     "output_type": "execute_result"
    }
   ],
   "source": [
    "train.shape"
   ]
  },
  {
   "cell_type": "code",
   "execution_count": 28,
   "metadata": {},
   "outputs": [
    {
     "data": {
      "text/html": [
       "<div>\n",
       "<style scoped>\n",
       "    .dataframe tbody tr th:only-of-type {\n",
       "        vertical-align: middle;\n",
       "    }\n",
       "\n",
       "    .dataframe tbody tr th {\n",
       "        vertical-align: top;\n",
       "    }\n",
       "\n",
       "    .dataframe thead th {\n",
       "        text-align: right;\n",
       "    }\n",
       "</style>\n",
       "<table border=\"1\" class=\"dataframe\">\n",
       "  <thead>\n",
       "    <tr style=\"text-align: right;\">\n",
       "      <th></th>\n",
       "      <th>dis_jeju</th>\n",
       "      <th>dis_gosan</th>\n",
       "      <th>dis_seongsan</th>\n",
       "      <th>dis_seoguipo</th>\n",
       "      <th>18~20_ride</th>\n",
       "    </tr>\n",
       "  </thead>\n",
       "  <tbody>\n",
       "    <tr>\n",
       "      <th>0</th>\n",
       "      <td>4.286659</td>\n",
       "      <td>37.692766</td>\n",
       "      <td>37.695909</td>\n",
       "      <td>27.841879</td>\n",
       "      <td>0.0</td>\n",
       "    </tr>\n",
       "    <tr>\n",
       "      <th>1</th>\n",
       "      <td>4.966848</td>\n",
       "      <td>37.008492</td>\n",
       "      <td>38.448058</td>\n",
       "      <td>27.996179</td>\n",
       "      <td>5.0</td>\n",
       "    </tr>\n",
       "    <tr>\n",
       "      <th>2</th>\n",
       "      <td>6.330746</td>\n",
       "      <td>35.642126</td>\n",
       "      <td>39.241905</td>\n",
       "      <td>27.496551</td>\n",
       "      <td>2.0</td>\n",
       "    </tr>\n",
       "    <tr>\n",
       "      <th>3</th>\n",
       "      <td>3.575272</td>\n",
       "      <td>38.643401</td>\n",
       "      <td>38.369340</td>\n",
       "      <td>29.579404</td>\n",
       "      <td>53.0</td>\n",
       "    </tr>\n",
       "    <tr>\n",
       "      <th>4</th>\n",
       "      <td>30.652098</td>\n",
       "      <td>23.648361</td>\n",
       "      <td>45.881475</td>\n",
       "      <td>14.269792</td>\n",
       "      <td>0.0</td>\n",
       "    </tr>\n",
       "  </tbody>\n",
       "</table>\n",
       "</div>"
      ],
      "text/plain": [
       "    dis_jeju  dis_gosan  dis_seongsan  dis_seoguipo  18~20_ride\n",
       "0   4.286659  37.692766     37.695909     27.841879         0.0\n",
       "1   4.966848  37.008492     38.448058     27.996179         5.0\n",
       "2   6.330746  35.642126     39.241905     27.496551         2.0\n",
       "3   3.575272  38.643401     38.369340     29.579404        53.0\n",
       "4  30.652098  23.648361     45.881475     14.269792         0.0"
      ]
     },
     "execution_count": 28,
     "metadata": {},
     "output_type": "execute_result"
    }
   ],
   "source": [
    "distance = train.iloc[:, 21:25]\n",
    "distance['18~20_ride'] = train['18~20_ride']\n",
    "distance.head()"
   ]
  },
  {
   "cell_type": "code",
   "execution_count": 29,
   "metadata": {},
   "outputs": [
    {
     "data": {
      "text/html": [
       "<div>\n",
       "<style scoped>\n",
       "    .dataframe tbody tr th:only-of-type {\n",
       "        vertical-align: middle;\n",
       "    }\n",
       "\n",
       "    .dataframe tbody tr th {\n",
       "        vertical-align: top;\n",
       "    }\n",
       "\n",
       "    .dataframe thead th {\n",
       "        text-align: right;\n",
       "    }\n",
       "</style>\n",
       "<table border=\"1\" class=\"dataframe\">\n",
       "  <thead>\n",
       "    <tr style=\"text-align: right;\">\n",
       "      <th></th>\n",
       "      <th>dis_jeju</th>\n",
       "      <th>dis_gosan</th>\n",
       "      <th>dis_seongsan</th>\n",
       "      <th>dis_seoguipo</th>\n",
       "      <th>18~20_ride</th>\n",
       "    </tr>\n",
       "  </thead>\n",
       "  <tbody>\n",
       "    <tr>\n",
       "      <th>dis_jeju</th>\n",
       "      <td>1.000000</td>\n",
       "      <td>-0.116716</td>\n",
       "      <td>-0.016138</td>\n",
       "      <td>-0.391736</td>\n",
       "      <td>-0.120976</td>\n",
       "    </tr>\n",
       "    <tr>\n",
       "      <th>dis_gosan</th>\n",
       "      <td>-0.116716</td>\n",
       "      <td>1.000000</td>\n",
       "      <td>-0.940731</td>\n",
       "      <td>0.207658</td>\n",
       "      <td>-0.001577</td>\n",
       "    </tr>\n",
       "    <tr>\n",
       "      <th>dis_seongsan</th>\n",
       "      <td>-0.016138</td>\n",
       "      <td>-0.940731</td>\n",
       "      <td>1.000000</td>\n",
       "      <td>0.019574</td>\n",
       "      <td>0.015980</td>\n",
       "    </tr>\n",
       "    <tr>\n",
       "      <th>dis_seoguipo</th>\n",
       "      <td>-0.391736</td>\n",
       "      <td>0.207658</td>\n",
       "      <td>0.019574</td>\n",
       "      <td>1.000000</td>\n",
       "      <td>0.026983</td>\n",
       "    </tr>\n",
       "    <tr>\n",
       "      <th>18~20_ride</th>\n",
       "      <td>-0.120976</td>\n",
       "      <td>-0.001577</td>\n",
       "      <td>0.015980</td>\n",
       "      <td>0.026983</td>\n",
       "      <td>1.000000</td>\n",
       "    </tr>\n",
       "  </tbody>\n",
       "</table>\n",
       "</div>"
      ],
      "text/plain": [
       "              dis_jeju  dis_gosan  dis_seongsan  dis_seoguipo  18~20_ride\n",
       "dis_jeju      1.000000  -0.116716     -0.016138     -0.391736   -0.120976\n",
       "dis_gosan    -0.116716   1.000000     -0.940731      0.207658   -0.001577\n",
       "dis_seongsan -0.016138  -0.940731      1.000000      0.019574    0.015980\n",
       "dis_seoguipo -0.391736   0.207658      0.019574      1.000000    0.026983\n",
       "18~20_ride   -0.120976  -0.001577      0.015980      0.026983    1.000000"
      ]
     },
     "execution_count": 29,
     "metadata": {},
     "output_type": "execute_result"
    }
   ],
   "source": [
    "distance.corr()"
   ]
  },
  {
   "cell_type": "markdown",
   "metadata": {},
   "source": [
    "#### heatmap을 통한 시각화"
   ]
  },
  {
   "cell_type": "code",
   "execution_count": 30,
   "metadata": {},
   "outputs": [
    {
     "data": {
      "image/png": "[encoded data removed]",
      "text/plain": [
       "<Figure size 720x576 with 2 Axes>"
      ]
     },
     "metadata": {
      "needs_background": "light"
     },
     "output_type": "display_data"
    }
   ],
   "source": [
    "plt.figure(figsize=(10,8))\n",
    "sns.heatmap(data=distance.corr(), annot=True, fmt='.2f')\n",
    "plt.show()"
   ]
  },
  {
   "cell_type": "markdown",
   "metadata": {},
   "source": [
    "- corr()과 heatmap을 통해 제주시와의 거리가 멀면 멀수록 승차인원이 줄어드는 경향을 보이나 서귀포시, 고산, 성산과의 거리는 모호한 상관성을 띄고 있다는 것을 알 수 있다."
   ]
  },
  {
   "cell_type": "markdown",
   "metadata": {},
   "source": [
    "### jeju, seoguipo, gosan, seongsan 지역을 나눠서 살펴보자"
   ]
  },
  {
   "cell_type": "code",
   "execution_count": 34,
   "metadata": {},
   "outputs": [
    {
     "data": {
      "text/html": [
       "<div>\n",
       "<style scoped>\n",
       "    .dataframe tbody tr th:only-of-type {\n",
       "        vertical-align: middle;\n",
       "    }\n",
       "\n",
       "    .dataframe tbody tr th {\n",
       "        vertical-align: top;\n",
       "    }\n",
       "\n",
       "    .dataframe thead th {\n",
       "        text-align: right;\n",
       "    }\n",
       "</style>\n",
       "<table border=\"1\" class=\"dataframe\">\n",
       "  <thead>\n",
       "    <tr style=\"text-align: right;\">\n",
       "      <th></th>\n",
       "      <th>dis_jeju</th>\n",
       "      <th>dis_seoguipo</th>\n",
       "      <th>dis_gosan</th>\n",
       "      <th>dis_seongsan</th>\n",
       "      <th>18~20_ride</th>\n",
       "    </tr>\n",
       "  </thead>\n",
       "  <tbody>\n",
       "    <tr>\n",
       "      <th>dis_jeju</th>\n",
       "      <td>1.000000</td>\n",
       "      <td>0.424983</td>\n",
       "      <td>-0.043609</td>\n",
       "      <td>0.250794</td>\n",
       "      <td>-0.090694</td>\n",
       "    </tr>\n",
       "    <tr>\n",
       "      <th>dis_seoguipo</th>\n",
       "      <td>0.424983</td>\n",
       "      <td>1.000000</td>\n",
       "      <td>0.392574</td>\n",
       "      <td>0.169234</td>\n",
       "      <td>-0.041675</td>\n",
       "    </tr>\n",
       "    <tr>\n",
       "      <th>dis_gosan</th>\n",
       "      <td>-0.043609</td>\n",
       "      <td>0.392574</td>\n",
       "      <td>1.000000</td>\n",
       "      <td>-0.818283</td>\n",
       "      <td>-0.010924</td>\n",
       "    </tr>\n",
       "    <tr>\n",
       "      <th>dis_seongsan</th>\n",
       "      <td>0.250794</td>\n",
       "      <td>0.169234</td>\n",
       "      <td>-0.818283</td>\n",
       "      <td>1.000000</td>\n",
       "      <td>-0.000900</td>\n",
       "    </tr>\n",
       "    <tr>\n",
       "      <th>18~20_ride</th>\n",
       "      <td>-0.090694</td>\n",
       "      <td>-0.041675</td>\n",
       "      <td>-0.010924</td>\n",
       "      <td>-0.000900</td>\n",
       "      <td>1.000000</td>\n",
       "    </tr>\n",
       "  </tbody>\n",
       "</table>\n",
       "</div>"
      ],
      "text/plain": [
       "              dis_jeju  dis_seoguipo  dis_gosan  dis_seongsan  18~20_ride\n",
       "dis_jeju      1.000000      0.424983  -0.043609      0.250794   -0.090694\n",
       "dis_seoguipo  0.424983      1.000000   0.392574      0.169234   -0.041675\n",
       "dis_gosan    -0.043609      0.392574   1.000000     -0.818283   -0.010924\n",
       "dis_seongsan  0.250794      0.169234  -0.818283      1.000000   -0.000900\n",
       "18~20_ride   -0.090694     -0.041675  -0.010924     -0.000900    1.000000"
      ]
     },
     "execution_count": 34,
     "metadata": {},
     "output_type": "execute_result"
    }
   ],
   "source": [
    "jeju = train.loc[train['location_name'] == 'jeju']\n",
    "jeju = jeju[['dis_jeju', 'dis_seoguipo', 'dis_gosan', 'dis_seongsan', '18~20_ride']]\n",
    "jeju.corr()"
   ]
  },
  {
   "cell_type": "markdown",
   "metadata": {},
   "source": [
    "#### heatmap을 통한 시각화"
   ]
  },
  {
   "cell_type": "code",
   "execution_count": 35,
   "metadata": {},
   "outputs": [
    {
     "data": {
      "image/png": "[encoded data removed]",
      "text/plain": [
       "<Figure size 720x576 with 2 Axes>"
      ]
     },
     "metadata": {
      "needs_background": "light"
     },
     "output_type": "display_data"
    }
   ],
   "source": [
    "plt.figure(figsize=(10,8))\n",
    "sns.heatmap(data=jeju.corr(), annot=True, fmt='.2f')\n",
    "plt.show()"
   ]
  },
  {
   "cell_type": "markdown",
   "metadata": {},
   "source": [
    "- corr()과 heatmap을 통해 제주의 경우 제주와 서귀포에서 멀수록 `18~20_ride`가 감소하는 경향이 있지만 고산과 성산까지의 거리는 `18~20_ride`와 모호한 상관관계에 있음을 알 수 있다."
   ]
  },
  {
   "cell_type": "code",
   "execution_count": 36,
   "metadata": {},
   "outputs": [
    {
     "data": {
      "text/html": [
       "<div>\n",
       "<style scoped>\n",
       "    .dataframe tbody tr th:only-of-type {\n",
       "        vertical-align: middle;\n",
       "    }\n",
       "\n",
       "    .dataframe tbody tr th {\n",
       "        vertical-align: top;\n",
       "    }\n",
       "\n",
       "    .dataframe thead th {\n",
       "        text-align: right;\n",
       "    }\n",
       "</style>\n",
       "<table border=\"1\" class=\"dataframe\">\n",
       "  <thead>\n",
       "    <tr style=\"text-align: right;\">\n",
       "      <th></th>\n",
       "      <th>dis_jeju</th>\n",
       "      <th>dis_seoguipo</th>\n",
       "      <th>dis_gosan</th>\n",
       "      <th>dis_seongsan</th>\n",
       "      <th>18~20_ride</th>\n",
       "    </tr>\n",
       "  </thead>\n",
       "  <tbody>\n",
       "    <tr>\n",
       "      <th>dis_jeju</th>\n",
       "      <td>1.000000</td>\n",
       "      <td>0.352355</td>\n",
       "      <td>-0.228187</td>\n",
       "      <td>0.283644</td>\n",
       "      <td>0.001751</td>\n",
       "    </tr>\n",
       "    <tr>\n",
       "      <th>dis_seoguipo</th>\n",
       "      <td>0.352355</td>\n",
       "      <td>1.000000</td>\n",
       "      <td>-0.122226</td>\n",
       "      <td>0.089648</td>\n",
       "      <td>-0.069834</td>\n",
       "    </tr>\n",
       "    <tr>\n",
       "      <th>dis_gosan</th>\n",
       "      <td>-0.228187</td>\n",
       "      <td>-0.122226</td>\n",
       "      <td>1.000000</td>\n",
       "      <td>-0.996344</td>\n",
       "      <td>-0.042729</td>\n",
       "    </tr>\n",
       "    <tr>\n",
       "      <th>dis_seongsan</th>\n",
       "      <td>0.283644</td>\n",
       "      <td>0.089648</td>\n",
       "      <td>-0.996344</td>\n",
       "      <td>1.000000</td>\n",
       "      <td>0.046119</td>\n",
       "    </tr>\n",
       "    <tr>\n",
       "      <th>18~20_ride</th>\n",
       "      <td>0.001751</td>\n",
       "      <td>-0.069834</td>\n",
       "      <td>-0.042729</td>\n",
       "      <td>0.046119</td>\n",
       "      <td>1.000000</td>\n",
       "    </tr>\n",
       "  </tbody>\n",
       "</table>\n",
       "</div>"
      ],
      "text/plain": [
       "              dis_jeju  dis_seoguipo  dis_gosan  dis_seongsan  18~20_ride\n",
       "dis_jeju      1.000000      0.352355  -0.228187      0.283644    0.001751\n",
       "dis_seoguipo  0.352355      1.000000  -0.122226      0.089648   -0.069834\n",
       "dis_gosan    -0.228187     -0.122226   1.000000     -0.996344   -0.042729\n",
       "dis_seongsan  0.283644      0.089648  -0.996344      1.000000    0.046119\n",
       "18~20_ride    0.001751     -0.069834  -0.042729      0.046119    1.000000"
      ]
     },
     "execution_count": 36,
     "metadata": {},
     "output_type": "execute_result"
    }
   ],
   "source": [
    "seoguipo = train.loc[train['location_name'] == 'seoguipo']\n",
    "seoguipo = seoguipo[['dis_jeju', 'dis_seoguipo', 'dis_gosan', 'dis_seongsan', '18~20_ride']]\n",
    "seoguipo.corr()"
   ]
  },
  {
   "cell_type": "markdown",
   "metadata": {},
   "source": [
    "#### heatmap을 통한 시각화"
   ]
  },
  {
   "cell_type": "code",
   "execution_count": 37,
   "metadata": {},
   "outputs": [
    {
     "data": {
      "image/png": "[encoded data removed]",
      "text/plain": [
       "<Figure size 720x576 with 2 Axes>"
      ]
     },
     "metadata": {
      "needs_background": "light"
     },
     "output_type": "display_data"
    }
   ],
   "source": [
    "plt.figure(figsize=(10,8))\n",
    "sns.heatmap(data=seoguipo.corr(), annot=True, fmt='.2f')\n",
    "plt.show()"
   ]
  },
  {
   "cell_type": "markdown",
   "metadata": {},
   "source": [
    "- corr()과 heatmap을 통해 서귀포의 경우 `18~20_ride`는 서귀포와 고산까지의 거리가 멀수록 감소하고 성산까지의 거리가 멀수록 증가하는 경향이 있지만 제주까지의 거리와는 모호한 상관관계를 띄고있음을 알 수 있다."
   ]
  },
  {
   "cell_type": "code",
   "execution_count": 38,
   "metadata": {},
   "outputs": [
    {
     "data": {
      "text/html": [
       "<div>\n",
       "<style scoped>\n",
       "    .dataframe tbody tr th:only-of-type {\n",
       "        vertical-align: middle;\n",
       "    }\n",
       "\n",
       "    .dataframe tbody tr th {\n",
       "        vertical-align: top;\n",
       "    }\n",
       "\n",
       "    .dataframe thead th {\n",
       "        text-align: right;\n",
       "    }\n",
       "</style>\n",
       "<table border=\"1\" class=\"dataframe\">\n",
       "  <thead>\n",
       "    <tr style=\"text-align: right;\">\n",
       "      <th></th>\n",
       "      <th>dis_jeju</th>\n",
       "      <th>dis_seoguipo</th>\n",
       "      <th>dis_gosan</th>\n",
       "      <th>dis_seongsan</th>\n",
       "      <th>18~20_ride</th>\n",
       "    </tr>\n",
       "  </thead>\n",
       "  <tbody>\n",
       "    <tr>\n",
       "      <th>dis_jeju</th>\n",
       "      <td>1.000000</td>\n",
       "      <td>-0.032525</td>\n",
       "      <td>-0.718858</td>\n",
       "      <td>0.637027</td>\n",
       "      <td>-0.056695</td>\n",
       "    </tr>\n",
       "    <tr>\n",
       "      <th>dis_seoguipo</th>\n",
       "      <td>-0.032525</td>\n",
       "      <td>1.000000</td>\n",
       "      <td>-0.446306</td>\n",
       "      <td>0.746837</td>\n",
       "      <td>-0.016009</td>\n",
       "    </tr>\n",
       "    <tr>\n",
       "      <th>dis_gosan</th>\n",
       "      <td>-0.718858</td>\n",
       "      <td>-0.446306</td>\n",
       "      <td>1.000000</td>\n",
       "      <td>-0.850209</td>\n",
       "      <td>0.054459</td>\n",
       "    </tr>\n",
       "    <tr>\n",
       "      <th>dis_seongsan</th>\n",
       "      <td>0.637027</td>\n",
       "      <td>0.746837</td>\n",
       "      <td>-0.850209</td>\n",
       "      <td>1.000000</td>\n",
       "      <td>-0.048821</td>\n",
       "    </tr>\n",
       "    <tr>\n",
       "      <th>18~20_ride</th>\n",
       "      <td>-0.056695</td>\n",
       "      <td>-0.016009</td>\n",
       "      <td>0.054459</td>\n",
       "      <td>-0.048821</td>\n",
       "      <td>1.000000</td>\n",
       "    </tr>\n",
       "  </tbody>\n",
       "</table>\n",
       "</div>"
      ],
      "text/plain": [
       "              dis_jeju  dis_seoguipo  dis_gosan  dis_seongsan  18~20_ride\n",
       "dis_jeju      1.000000     -0.032525  -0.718858      0.637027   -0.056695\n",
       "dis_seoguipo -0.032525      1.000000  -0.446306      0.746837   -0.016009\n",
       "dis_gosan    -0.718858     -0.446306   1.000000     -0.850209    0.054459\n",
       "dis_seongsan  0.637027      0.746837  -0.850209      1.000000   -0.048821\n",
       "18~20_ride   -0.056695     -0.016009   0.054459     -0.048821    1.000000"
      ]
     },
     "execution_count": 38,
     "metadata": {},
     "output_type": "execute_result"
    }
   ],
   "source": [
    "gosan = train.loc[train['location_name'] == 'gosan']\n",
    "gosan = gosan[['dis_jeju', 'dis_seoguipo', 'dis_gosan', 'dis_seongsan', '18~20_ride']]\n",
    "gosan.corr()"
   ]
  },
  {
   "cell_type": "markdown",
   "metadata": {},
   "source": [
    "#### heatmap을 통한 시각화"
   ]
  },
  {
   "cell_type": "code",
   "execution_count": 39,
   "metadata": {},
   "outputs": [
    {
     "data": {
      "image/png": "[encoded data removed]",
      "text/plain": [
       "<Figure size 720x576 with 2 Axes>"
      ]
     },
     "metadata": {
      "needs_background": "light"
     },
     "output_type": "display_data"
    }
   ],
   "source": [
    "plt.figure(figsize=(10,8))\n",
    "sns.heatmap(data=gosan.corr(), annot=True, fmt='.2f')\n",
    "plt.show()"
   ]
  },
  {
   "cell_type": "markdown",
   "metadata": {},
   "source": [
    "- corr()과 heatmap을 통해 고산의 경우 `18~20_ride`가 제주, 성산까지의 거리가 멀수록 감소하고 고산까지의 거리가 멀수록 증가하는 경향이 있지만 서귀포까지의 거리와는 모호한 상관관계에 있음을 알 수 있다."
   ]
  },
  {
   "cell_type": "code",
   "execution_count": 40,
   "metadata": {},
   "outputs": [
    {
     "data": {
      "text/html": [
       "<div>\n",
       "<style scoped>\n",
       "    .dataframe tbody tr th:only-of-type {\n",
       "        vertical-align: middle;\n",
       "    }\n",
       "\n",
       "    .dataframe tbody tr th {\n",
       "        vertical-align: top;\n",
       "    }\n",
       "\n",
       "    .dataframe thead th {\n",
       "        text-align: right;\n",
       "    }\n",
       "</style>\n",
       "<table border=\"1\" class=\"dataframe\">\n",
       "  <thead>\n",
       "    <tr style=\"text-align: right;\">\n",
       "      <th></th>\n",
       "      <th>dis_jeju</th>\n",
       "      <th>dis_seoguipo</th>\n",
       "      <th>dis_gosan</th>\n",
       "      <th>dis_seongsan</th>\n",
       "      <th>18~20_ride</th>\n",
       "    </tr>\n",
       "  </thead>\n",
       "  <tbody>\n",
       "    <tr>\n",
       "      <th>dis_jeju</th>\n",
       "      <td>1.000000</td>\n",
       "      <td>-0.032525</td>\n",
       "      <td>-0.718858</td>\n",
       "      <td>0.637027</td>\n",
       "      <td>-0.056695</td>\n",
       "    </tr>\n",
       "    <tr>\n",
       "      <th>dis_seoguipo</th>\n",
       "      <td>-0.032525</td>\n",
       "      <td>1.000000</td>\n",
       "      <td>-0.446306</td>\n",
       "      <td>0.746837</td>\n",
       "      <td>-0.016009</td>\n",
       "    </tr>\n",
       "    <tr>\n",
       "      <th>dis_gosan</th>\n",
       "      <td>-0.718858</td>\n",
       "      <td>-0.446306</td>\n",
       "      <td>1.000000</td>\n",
       "      <td>-0.850209</td>\n",
       "      <td>0.054459</td>\n",
       "    </tr>\n",
       "    <tr>\n",
       "      <th>dis_seongsan</th>\n",
       "      <td>0.637027</td>\n",
       "      <td>0.746837</td>\n",
       "      <td>-0.850209</td>\n",
       "      <td>1.000000</td>\n",
       "      <td>-0.048821</td>\n",
       "    </tr>\n",
       "    <tr>\n",
       "      <th>18~20_ride</th>\n",
       "      <td>-0.056695</td>\n",
       "      <td>-0.016009</td>\n",
       "      <td>0.054459</td>\n",
       "      <td>-0.048821</td>\n",
       "      <td>1.000000</td>\n",
       "    </tr>\n",
       "  </tbody>\n",
       "</table>\n",
       "</div>"
      ],
      "text/plain": [
       "              dis_jeju  dis_seoguipo  dis_gosan  dis_seongsan  18~20_ride\n",
       "dis_jeju      1.000000     -0.032525  -0.718858      0.637027   -0.056695\n",
       "dis_seoguipo -0.032525      1.000000  -0.446306      0.746837   -0.016009\n",
       "dis_gosan    -0.718858     -0.446306   1.000000     -0.850209    0.054459\n",
       "dis_seongsan  0.637027      0.746837  -0.850209      1.000000   -0.048821\n",
       "18~20_ride   -0.056695     -0.016009   0.054459     -0.048821    1.000000"
      ]
     },
     "execution_count": 40,
     "metadata": {},
     "output_type": "execute_result"
    }
   ],
   "source": [
    "seongsan = train.loc[train['location_name'] == 'seongsan']\n",
    "seongsan = gosan[['dis_jeju', 'dis_seoguipo', 'dis_gosan', 'dis_seongsan', '18~20_ride']]\n",
    "seongsan.corr()"
   ]
  },
  {
   "cell_type": "code",
   "execution_count": 41,
   "metadata": {},
   "outputs": [
    {
     "data": {
      "image/png": "[encoded data removed]",
      "text/plain": [
       "<Figure size 720x576 with 2 Axes>"
      ]
     },
     "metadata": {
      "needs_background": "light"
     },
     "output_type": "display_data"
    }
   ],
   "source": [
    "plt.figure(figsize=(10,8))\n",
    "sns.heatmap(data=seongsan.corr(), annot=True, fmt='.2f')\n",
    "plt.show()"
   ]
  },
  {
   "cell_type": "markdown",
   "metadata": {},
   "source": [
    "- corr()과 heatmap을 통해 성산의 경우 `18~20_ride`가 제주, 성산까지의 거리가 멀수록 감소하고 고산까지의 거리가 멀수록 증가하는 경향이 있지만 서귀포까지의 거리와는 모호한 상관관계에 있음을 알 수 있다."
   ]
  },
  {
   "cell_type": "markdown",
   "metadata": {},
   "source": [
    "## 3. bus_route_id, bus_route_type"
   ]
  },
  {
   "cell_type": "code",
   "execution_count": 42,
   "metadata": {},
   "outputs": [
    {
     "data": {
      "text/html": [
       "<div>\n",
       "<style scoped>\n",
       "    .dataframe tbody tr th:only-of-type {\n",
       "        vertical-align: middle;\n",
       "    }\n",
       "\n",
       "    .dataframe tbody tr th {\n",
       "        vertical-align: top;\n",
       "    }\n",
       "\n",
       "    .dataframe thead th {\n",
       "        text-align: right;\n",
       "    }\n",
       "</style>\n",
       "<table border=\"1\" class=\"dataframe\">\n",
       "  <thead>\n",
       "    <tr style=\"text-align: right;\">\n",
       "      <th></th>\n",
       "      <th>id</th>\n",
       "      <th>date</th>\n",
       "      <th>bus_route_id</th>\n",
       "      <th>in_out</th>\n",
       "      <th>station_code</th>\n",
       "      <th>station_name</th>\n",
       "      <th>latitude</th>\n",
       "      <th>longitude</th>\n",
       "      <th>6~7_ride</th>\n",
       "      <th>7~8_ride</th>\n",
       "      <th>...</th>\n",
       "      <th>9~10_takeoff</th>\n",
       "      <th>10~11_takeoff</th>\n",
       "      <th>11~12_takeoff</th>\n",
       "      <th>18~20_ride</th>\n",
       "      <th>dis_jeju</th>\n",
       "      <th>dis_gosan</th>\n",
       "      <th>dis_seongsan</th>\n",
       "      <th>dis_seoguipo</th>\n",
       "      <th>location_name</th>\n",
       "      <th>bus_route_type</th>\n",
       "    </tr>\n",
       "  </thead>\n",
       "  <tbody>\n",
       "    <tr>\n",
       "      <th>0</th>\n",
       "      <td>0</td>\n",
       "      <td>2019-09-01</td>\n",
       "      <td>4270000</td>\n",
       "      <td>시외</td>\n",
       "      <td>344</td>\n",
       "      <td>제주썬호텔</td>\n",
       "      <td>33.48990</td>\n",
       "      <td>126.49373</td>\n",
       "      <td>0.0</td>\n",
       "      <td>1.0</td>\n",
       "      <td>...</td>\n",
       "      <td>0.0</td>\n",
       "      <td>0.0</td>\n",
       "      <td>0.0</td>\n",
       "      <td>0.0</td>\n",
       "      <td>4.286659</td>\n",
       "      <td>37.692766</td>\n",
       "      <td>37.695909</td>\n",
       "      <td>27.841879</td>\n",
       "      <td>jeju</td>\n",
       "      <td>4</td>\n",
       "    </tr>\n",
       "    <tr>\n",
       "      <th>1</th>\n",
       "      <td>1</td>\n",
       "      <td>2019-09-01</td>\n",
       "      <td>4270000</td>\n",
       "      <td>시외</td>\n",
       "      <td>357</td>\n",
       "      <td>한라병원</td>\n",
       "      <td>33.48944</td>\n",
       "      <td>126.48508</td>\n",
       "      <td>1.0</td>\n",
       "      <td>4.0</td>\n",
       "      <td>...</td>\n",
       "      <td>0.0</td>\n",
       "      <td>0.0</td>\n",
       "      <td>0.0</td>\n",
       "      <td>5.0</td>\n",
       "      <td>4.966848</td>\n",
       "      <td>37.008492</td>\n",
       "      <td>38.448058</td>\n",
       "      <td>27.996179</td>\n",
       "      <td>jeju</td>\n",
       "      <td>4</td>\n",
       "    </tr>\n",
       "    <tr>\n",
       "      <th>2</th>\n",
       "      <td>2</td>\n",
       "      <td>2019-09-01</td>\n",
       "      <td>4270000</td>\n",
       "      <td>시외</td>\n",
       "      <td>432</td>\n",
       "      <td>정존마을</td>\n",
       "      <td>33.48181</td>\n",
       "      <td>126.47352</td>\n",
       "      <td>1.0</td>\n",
       "      <td>1.0</td>\n",
       "      <td>...</td>\n",
       "      <td>0.0</td>\n",
       "      <td>0.0</td>\n",
       "      <td>0.0</td>\n",
       "      <td>2.0</td>\n",
       "      <td>6.330746</td>\n",
       "      <td>35.642126</td>\n",
       "      <td>39.241905</td>\n",
       "      <td>27.496551</td>\n",
       "      <td>jeju</td>\n",
       "      <td>4</td>\n",
       "    </tr>\n",
       "    <tr>\n",
       "      <th>3</th>\n",
       "      <td>3</td>\n",
       "      <td>2019-09-01</td>\n",
       "      <td>4270000</td>\n",
       "      <td>시내</td>\n",
       "      <td>1579</td>\n",
       "      <td>제주국제공항(600번)</td>\n",
       "      <td>33.50577</td>\n",
       "      <td>126.49252</td>\n",
       "      <td>0.0</td>\n",
       "      <td>17.0</td>\n",
       "      <td>...</td>\n",
       "      <td>0.0</td>\n",
       "      <td>0.0</td>\n",
       "      <td>0.0</td>\n",
       "      <td>53.0</td>\n",
       "      <td>3.575272</td>\n",
       "      <td>38.643401</td>\n",
       "      <td>38.369340</td>\n",
       "      <td>29.579404</td>\n",
       "      <td>jeju</td>\n",
       "      <td>4</td>\n",
       "    </tr>\n",
       "    <tr>\n",
       "      <th>4</th>\n",
       "      <td>4</td>\n",
       "      <td>2019-09-01</td>\n",
       "      <td>4270000</td>\n",
       "      <td>시내</td>\n",
       "      <td>1646</td>\n",
       "      <td>중문관광단지입구</td>\n",
       "      <td>33.25579</td>\n",
       "      <td>126.41260</td>\n",
       "      <td>0.0</td>\n",
       "      <td>0.0</td>\n",
       "      <td>...</td>\n",
       "      <td>1.0</td>\n",
       "      <td>0.0</td>\n",
       "      <td>0.0</td>\n",
       "      <td>0.0</td>\n",
       "      <td>30.652098</td>\n",
       "      <td>23.648361</td>\n",
       "      <td>45.881475</td>\n",
       "      <td>14.269792</td>\n",
       "      <td>seoguipo</td>\n",
       "      <td>4</td>\n",
       "    </tr>\n",
       "  </tbody>\n",
       "</table>\n",
       "<p>5 rows × 27 columns</p>\n",
       "</div>"
      ],
      "text/plain": [
       "   id        date  bus_route_id in_out  station_code  station_name  latitude  \\\n",
       "0   0  2019-09-01       4270000     시외           344         제주썬호텔  33.48990   \n",
       "1   1  2019-09-01       4270000     시외           357          한라병원  33.48944   \n",
       "2   2  2019-09-01       4270000     시외           432          정존마을  33.48181   \n",
       "3   3  2019-09-01       4270000     시내          1579  제주국제공항(600번)  33.50577   \n",
       "4   4  2019-09-01       4270000     시내          1646      중문관광단지입구  33.25579   \n",
       "\n",
       "   longitude  6~7_ride  7~8_ride  ...  9~10_takeoff  10~11_takeoff  \\\n",
       "0  126.49373       0.0       1.0  ...           0.0            0.0   \n",
       "1  126.48508       1.0       4.0  ...           0.0            0.0   \n",
       "2  126.47352       1.0       1.0  ...           0.0            0.0   \n",
       "3  126.49252       0.0      17.0  ...           0.0            0.0   \n",
       "4  126.41260       0.0       0.0  ...           1.0            0.0   \n",
       "\n",
       "   11~12_takeoff  18~20_ride   dis_jeju  dis_gosan  dis_seongsan  \\\n",
       "0            0.0         0.0   4.286659  37.692766     37.695909   \n",
       "1            0.0         5.0   4.966848  37.008492     38.448058   \n",
       "2            0.0         2.0   6.330746  35.642126     39.241905   \n",
       "3            0.0        53.0   3.575272  38.643401     38.369340   \n",
       "4            0.0         0.0  30.652098  23.648361     45.881475   \n",
       "\n",
       "   dis_seoguipo  location_name  bus_route_type  \n",
       "0     27.841879           jeju               4  \n",
       "1     27.996179           jeju               4  \n",
       "2     27.496551           jeju               4  \n",
       "3     29.579404           jeju               4  \n",
       "4     14.269792       seoguipo               4  \n",
       "\n",
       "[5 rows x 27 columns]"
      ]
     },
     "execution_count": 42,
     "metadata": {},
     "output_type": "execute_result"
    }
   ],
   "source": [
    "train['bus_route_str'] = train['bus_route_id'].apply(str)\n",
    "train['bus_route_type'] = [train['bus_route_str'].iloc[i][0] for i in range(len(train))]\n",
    "del train['bus_route_str']\n",
    "train.head()"
   ]
  },
  {
   "cell_type": "code",
   "execution_count": 46,
   "metadata": {},
   "outputs": [
    {
     "data": {
      "text/plain": [
       "2    307531\n",
       "3    105296\n",
       "4      1704\n",
       "8       738\n",
       "7       130\n",
       "1        24\n",
       "Name: bus_route_type, dtype: int64"
      ]
     },
     "execution_count": 46,
     "metadata": {},
     "output_type": "execute_result"
    }
   ],
   "source": [
    "train['bus_route_type'].value_counts()"
   ]
  },
  {
   "cell_type": "code",
   "execution_count": 49,
   "metadata": {},
   "outputs": [
    {
     "data": {
      "text/html": [
       "<div>\n",
       "<style scoped>\n",
       "    .dataframe tbody tr th:only-of-type {\n",
       "        vertical-align: middle;\n",
       "    }\n",
       "\n",
       "    .dataframe tbody tr th {\n",
       "        vertical-align: top;\n",
       "    }\n",
       "\n",
       "    .dataframe thead th {\n",
       "        text-align: right;\n",
       "    }\n",
       "</style>\n",
       "<table border=\"1\" class=\"dataframe\">\n",
       "  <thead>\n",
       "    <tr style=\"text-align: right;\">\n",
       "      <th></th>\n",
       "      <th>bus_route_type</th>\n",
       "      <th>18~20_ride</th>\n",
       "    </tr>\n",
       "  </thead>\n",
       "  <tbody>\n",
       "    <tr>\n",
       "      <th>0</th>\n",
       "      <td>1</td>\n",
       "      <td>4.0</td>\n",
       "    </tr>\n",
       "    <tr>\n",
       "      <th>1</th>\n",
       "      <td>2</td>\n",
       "      <td>450148.0</td>\n",
       "    </tr>\n",
       "    <tr>\n",
       "      <th>2</th>\n",
       "      <td>3</td>\n",
       "      <td>59169.0</td>\n",
       "    </tr>\n",
       "    <tr>\n",
       "      <th>3</th>\n",
       "      <td>4</td>\n",
       "      <td>4361.0</td>\n",
       "    </tr>\n",
       "    <tr>\n",
       "      <th>4</th>\n",
       "      <td>7</td>\n",
       "      <td>0.0</td>\n",
       "    </tr>\n",
       "    <tr>\n",
       "      <th>5</th>\n",
       "      <td>8</td>\n",
       "      <td>2313.0</td>\n",
       "    </tr>\n",
       "  </tbody>\n",
       "</table>\n",
       "</div>"
      ],
      "text/plain": [
       "  bus_route_type  18~20_ride\n",
       "0              1         4.0\n",
       "1              2    450148.0\n",
       "2              3     59169.0\n",
       "3              4      4361.0\n",
       "4              7         0.0\n",
       "5              8      2313.0"
      ]
     },
     "execution_count": 49,
     "metadata": {},
     "output_type": "execute_result"
    }
   ],
   "source": [
    "bus = train.groupby(['bus_route_type'])[['18~20_ride']].sum()\n",
    "bus = bus.reset_index()\n",
    "bus"
   ]
  },
  {
   "cell_type": "code",
   "execution_count": 52,
   "metadata": {},
   "outputs": [
    {
     "data": {
      "text/plain": [
       "<function matplotlib.pyplot.show(*args, **kw)>"
      ]
     },
     "execution_count": 52,
     "metadata": {},
     "output_type": "execute_result"
    },
    {
     "data": {
      "image/png": "[encoded data removed]",
      "text/plain": [
       "<Figure size 720x576 with 1 Axes>"
      ]
     },
     "metadata": {
      "needs_background": "light"
     },
     "output_type": "display_data"
    }
   ],
   "source": [
    "plt.figure(figsize=(10,8))\n",
    "sns.barplot(data= bus, x= \"bus_route_type\", y= \"18~20_ride\")\n",
    "plt.show"
   ]
  },
  {
   "cell_type": "markdown",
   "metadata": {},
   "source": [
    "- bus_route_id는 padding된 숫자로 보이는데 제주도 버스 노선 정보를 검색해본 결과 100번대가 급행, 200번대가 일반간선, 300번대가 제주간선, 400번대가 제주지선, 700번대가 북동+남동+남서+북서 지선, 800번대가 관광지 순환버스라고 한다.  \n",
    "- 이처럼 제주 버스 노선은 앞자리로 분류된다는 것에 착안하여 bus_route_id의 첫 자리를 새 feature인 bus_route_type으로 추가해 주었다.  \n",
    "- 위 결과를 통해 일반간선 > 제주간선 > 제주지선 > 관광지 순환 > 급행 > 북동+남동+남서+북서 지선버스 순으로 `18~20_ride` 승객 수가 많다는 것을 알 수 있다.  \n",
    "- [제주 버스 노선 정보 출처](https://www.wooleelife.com/88)"
   ]
  }
 ],
 "metadata": {
  "kernelspec": {
   "display_name": "Python 3",
   "language": "python",
   "name": "python3"
  },
  "language_info": {
   "codemirror_mode": {
    "name": "ipython",
    "version": 3
   },
   "file_extension": ".py",
   "mimetype": "text/x-python",
   "name": "python",
   "nbconvert_exporter": "python",
   "pygments_lexer": "ipython3",
   "version": "3.6.5"
  }
 },
 "nbformat": 4,
 "nbformat_minor": 2
}
